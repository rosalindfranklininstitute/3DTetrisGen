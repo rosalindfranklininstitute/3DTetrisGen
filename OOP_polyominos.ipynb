{
 "cells": [
  {
   "cell_type": "code",
   "execution_count": 1,
   "metadata": {},
   "outputs": [],
   "source": [
    "import random\n",
    "import numpy as np\n",
    "import matplotlib.pyplot as plt\n",
    "\n",
    "import napari\n",
    "import mrcfile\n",
    "from pathlib import Path"
   ]
  },
  {
   "cell_type": "code",
   "execution_count": 30,
   "metadata": {},
   "outputs": [],
   "source": [
    "STEPS_2D = np.array([[-1,0], [1,0], [0,1], [0,-1]])\n",
    "STEPS_3D = np.array([[-1,0,0], [1,0,0], [0,1,0], [0,-1,0], [0,0,1], [0,0,-1]])\n",
    "THETA_EACH_90 = [0, 90, 180, 270]"
   ]
  },
  {
   "cell_type": "code",
   "execution_count": 20,
   "metadata": {},
   "outputs": [],
   "source": [
    "class Brick ():\n",
    "    \n",
    "    def __init__(self, pos, density=1):\n",
    "        self.pos = pos\n",
    "        self.density = density\n",
    "        \n",
    "    def __repr__(self):\n",
    "        return (f'{self.__class__.__name__}({self.pos})')"
   ]
  },
  {
   "cell_type": "code",
   "execution_count": 65,
   "metadata": {},
   "outputs": [],
   "source": [
    "class Polyomino2D ():\n",
    "    \n",
    "    def __init__(self, seed, size):\n",
    "        \n",
    "        random.seed(seed)\n",
    "        \n",
    "        self.size = size\n",
    "        self.bricks = np.empty(size, dtype=np.object)\n",
    "        self.bricks[0] = Brick([0,0])\n",
    "        i = 1\n",
    "        \n",
    "        while np.count_nonzero(self.bricks) < self.size:\n",
    "            bricks_pos = [block.pos for block in self.bricks[self.bricks != None]]\n",
    "            new_brick =  list(random.choice(bricks_pos)\n",
    "                              +random.choice(STEPS_2D))\n",
    "    \n",
    "            if new_brick not in bricks_pos:\n",
    "                self.bricks[i] = Brick(new_brick)\n",
    "                i += 1\n",
    "    \n",
    "    def rotate_the_block(self, theta=random.choice(THETA_EACH_90)):\n",
    "        \n",
    "        c, s = np.cos(theta/180*np.pi), np.sin(theta/180*np.pi)\n",
    "        R = np.array(((c, -s), (s, c)))\n",
    "        \n",
    "        for brick in self.bricks:\n",
    "            brick_x, brick_y = brick.pos\n",
    "            brick.pos = np.rint(np.matmul(R, brick.pos)).astype(int)\n",
    "            \n",
    "    def visualise_the_2d_block(self, size):\n",
    "        # TODO visualise in napari\n",
    "        \n",
    "        area = np.zeros((size, size), dtype=np.int8)\n",
    "        center_x, center_y = map(lambda x: round(x/2), area.shape)\n",
    "        for brick in self.bricks:\n",
    "            area[brick.pos[0]+center_x][brick.pos[1]+center_y] = 1\n",
    "        plt.imshow(area)"
   ]
  },
  {
   "cell_type": "code",
   "execution_count": 23,
   "metadata": {},
   "outputs": [],
   "source": [
    "class Volume2D ():\n",
    "    \n",
    "    def __init__(self, shape):\n",
    "        self.shape = shape\n",
    "        self.array = np.zeros(shape, dtype='int8')\n",
    "        \n",
    "    def fit_a_polyomino_central(self, polyomino):\n",
    "        placement_pos_x, placement_pos_y = map(lambda x: round(x/2), self.shape)\n",
    "        for brick in heptamino.bricks:\n",
    "            self.array[brick.pos[0] + placem§ent_pos_x][brick.pos[1] + placement_pos_y] = 1\n",
    "        plt.imshow(self.array)\n",
    "        \n",
    "    def save_as_mrcfile(self):\n",
    "        with mrcfile.new('firstVolume.mrc', overwrite=True) as mrc:\n",
    "            mrc.set_data(self.array)\n",
    "            viewer = napari.view_image(mrc.data)"
   ]
  },
  {
   "cell_type": "code",
   "execution_count": 59,
   "metadata": {},
   "outputs": [
    {
     "data": {
      "image/png": "[encoded data removed]",
      "text/plain": [
       "<Figure size 432x288 with 1 Axes>"
      ]
     },
     "metadata": {
      "needs_background": "light"
     },
     "output_type": "display_data"
    }
   ],
   "source": [
    "heptamino = Polyomino2D(94, 10)\n",
    "heptamino.visualise_the_2d_block(30)\n",
    "first_volume = Volume2D((10, 10))\n",
    "first_volume.fit_a_polyomino_central(heptamino)"
   ]
  },
  {
   "cell_type": "code",
   "execution_count": 64,
   "metadata": {},
   "outputs": [],
   "source": [
    "class Polyomino3D ():\n",
    "    \n",
    "    def __init__(self, seed, size):\n",
    "        \n",
    "        random.seed(seed)\n",
    "        \n",
    "        self.size = size\n",
    "        self.bricks = np.empty(size, dtype=np.object)\n",
    "        self.bricks[0] = Brick([0,0,0])\n",
    "        i = 1\n",
    "        \n",
    "        while np.count_nonzero(self.bricks) < self.size:\n",
    "            bricks_pos = [block.pos for block in self.bricks[self.bricks != None]]\n",
    "            new_brick =  list(random.choice(bricks_pos)+random.choice(STEPS_3D))\n",
    "    \n",
    "            if new_brick not in bricks_pos:\n",
    "                self.bricks[i] = Brick(new_brick)\n",
    "                i += 1\n",
    "    \n",
    "    def rotate_the_block_1_axis(self, axis=0, theta=-1):\n",
    "        \n",
    "        if theta==-1:\n",
    "            theta=random.choice(THETA_EACH_90)/180*np.pi\n",
    "        else:\n",
    "            theta=theta/180*np.pi\n",
    "        \n",
    "        c, s = np.cos(theta), np.sin(theta)\n",
    "        \n",
    "        if axis==0:\n",
    "            R = np.array(((1, 0, 0), (0, c, -s), (0, s, c)))\n",
    "        elif axis==1:\n",
    "            R = np.array(((c, 0, s), (0, 1, 0), (-s, 0, c)))\n",
    "        elif axis==2:\n",
    "            R = np.array(((c, -s, 0), (s, c, 0), (0, 0, 1)))\n",
    "        \n",
    "        for brick in self.bricks:\n",
    "            brick_x, brick_y, brick_z = brick.pos\n",
    "            brick.pos = np.rint(np.matmul(R, brick.pos)).astype(int)\n",
    "        \n",
    "    def rotate_the_block_3_axes(self):\n",
    "        \n",
    "        self.rotate_the_block_1_axis(axis=0)\n",
    "        self.rotate_the_block_1_axis(axis=1)\n",
    "        self.rotate_the_block_1_aixs(axis=2)\n",
    "            \n",
    "    def visualise_the_3d_block(self):\n",
    "        \n",
    "        # TODO remove magic numbers\n",
    "        area = np.zeros((50, 50, 50), dtype=np.int8)\n",
    "        for brick in self.bricks:\n",
    "            area[brick.pos[0]+25][brick.pos[1]+25, brick.pos[2]+25] = 1\n",
    "        with mrcfile.new('3d_ployomino_for_visualisation_in_napari.mrc', overwrite=True) as mrc:\n",
    "            mrc.set_data(area)\n",
    "            viewer = napari.view_image(area)"
   ]
  },
  {
   "cell_type": "code",
   "execution_count": 44,
   "metadata": {},
   "outputs": [],
   "source": [
    "class Volume3D ():\n",
    "    \n",
    "    def __init__(self, shape):\n",
    "        self.shape = shape\n",
    "        self.array = np.zeros(shape, dtype='int8')\n",
    "        \n",
    "    def fit_a_polyomino_central(self, polyomino):\n",
    "        placement_pos_x, placement_pos_y, placement_pos_z = map(lambda x: round(x/2), self.shape)\n",
    "        for brick in polyomino.bricks:\n",
    "            self.array[brick.pos[0] + placement_pos_x][brick.pos[1] + placement_pos_y][brick.pos[2] + placement_pos_z] = 1\n",
    "        \n",
    "    def save_as_mrcfile(self, output_path:Path):\n",
    "        mrc = mrcfile.new(output_path, overwrite=True)\n",
    "        mrc.set_data(self.array)\n",
    "        mrc.close()\n",
    "        \n",
    "    def display_in_napari(self):\n",
    "        viewer = napari.view_image(self.array)"
   ]
  },
  {
   "cell_type": "code",
   "execution_count": 62,
   "metadata": {},
   "outputs": [],
   "source": [
    "seeds = [1, 2, 3, 4]\n",
    "\n",
    "for seed in seeds:\n",
    "    for theta_x in THETA_EACH_90:\n",
    "        for theta_y in THETA_EACH_90:\n",
    "            for theta_z in THETA_EACH_90:\n",
    "                volume = Volume3D ((15, 20, 30))\n",
    "                polyomino_to_rotate = Polyomino3D(seed, 15)\n",
    "                polyomino_to_rotate.rotate_the_block_1_axis(axis=0, theta=theta_z)\n",
    "                polyomino_to_rotate.rotate_the_block_1_axis(axis=1, theta=theta_x)\n",
    "                polyomino_to_rotate.rotate_the_block_1_axis(axis=2, theta=theta_y)\n",
    "                volume.fit_a_polyomino_central(polyomino_to_rotate)\n",
    "                volume.save_as_mrcfile(Path(f'rotated_polyominos/{seed}_{theta_z}_{theta_x}_{theta_y}.mrc'))"
   ]
  },
  {
   "cell_type": "code",
   "execution_count": 46,
   "metadata": {},
   "outputs": [
    {
     "data": {
      "text/plain": [
       "True"
      ]
     },
     "execution_count": 46,
     "metadata": {},
     "output_type": "execute_result"
    }
   ],
   "source": [
    "mrcfile.validate(Path('rotated_polyominos/10_0_0_0.mrc'))"
   ]
  },
  {
   "cell_type": "code",
   "execution_count": 66,
   "metadata": {},
   "outputs": [],
   "source": [
    "with mrcfile.open(Path('rotated_polyominos/1_0_0_0.mrc')) as mrc:\n",
    "    viewer = napari.view_image(mrc.data)"
   ]
  },
  {
   "cell_type": "markdown",
   "metadata": {},
   "source": [
    "## Create a 2D Polyomino and visualise all 90 degrees rotations"
   ]
  },
  {
   "cell_type": "code",
   "execution_count": 152,
   "metadata": {},
   "outputs": [
    {
     "data": {
      "image/png": "[encoded data removed]",
      "text/plain": [
       "<Figure size 432x288 with 4 Axes>"
      ]
     },
     "metadata": {
      "needs_background": "light"
     },
     "output_type": "display_data"
    }
   ],
   "source": [
    "heptamino = Polyomino(7, 10)\n",
    "fig = plt.figure()\n",
    "\n",
    "for i in range(1, 5):\n",
    "    rotation = THETA_EACH_90[i-1]\n",
    "    ax = fig.add_subplot(2, 2, i)\n",
    "    heptamino.rotate_the_block(rotation)\n",
    "    heptamino.visualise_the_2d_block()"
   ]
  },
  {
   "cell_type": "markdown",
   "metadata": {},
   "source": [
    "## Exploring mrcfile library & displaying mrc in napari"
   ]
  },
  {
   "cell_type": "code",
   "execution_count": 33,
   "metadata": {},
   "outputs": [],
   "source": [
    "# Displaying a 2D mrcfile\n",
    "with mrcfile.new('tmp2d.mrc', overwrite=True) as mrc:\n",
    "    mrc.set_data(np.zeros((5, 5), dtype=np.int8))\n",
    "    mrc.data[1:4,1:4] = 10\n",
    "    mrc.data[2:3,2:3] = 30\n",
    "    viewer = napari.view_image(mrc.data)"
   ]
  },
  {
   "cell_type": "code",
   "execution_count": 35,
   "metadata": {},
   "outputs": [],
   "source": [
    "# Displaying a 3D mrcfile\n",
    "with mrcfile.new('tmp3d.mrc', overwrite=True) as mrc:\n",
    "    mrc.set_data(np.zeros((5, 5, 5), dtype=np.int8))\n",
    "    mrc.data[1:4,1:4,1:4] = 10\n",
    "    mrc.data[2:3,2:3,2:3] = 30\n",
    "    viewer = napari.view_image(mrc.data)"
   ]
  },
  {
   "cell_type": "code",
   "execution_count": null,
   "metadata": {},
   "outputs": [],
   "source": [
    "# This will be an instance method of the Volume3D class\n",
    "def fit_a_polyomino_non_central(self, polyomino, allow_for_cuts = True):\n",
    "\n",
    "    placed = False\n",
    "    while placed == False:\n",
    "\n",
    "        placement_pos_x, placement_pos_y = random.randint(0, self.shape[0]-1), random.randint(0, self.shape[1]-1)\n",
    "        coords = [brick.pos + np.array([placement_pos_x, placement_pos_y]) for brick in heptamino.bricks]\n",
    "        ratios = coords / np.array(self.shape)\n",
    "\n",
    "        if np.all([np.logical_and(position>=0, position<1) for position in ratios]):\n",
    "            for brick in heptamino.bricks:\n",
    "                self.array[brick.pos[0] + placement_pos_x, brick.pos[1] + placement_pos_y] = 1\n",
    "            placed = True\n",
    "            plt.imshow(firs.array)\n",
    "        else:\n",
    "            print(False)"
   ]
  }
 ],
 "metadata": {
  "kernelspec": {
   "display_name": "Python 3",
   "language": "python",
   "name": "python3"
  },
  "language_info": {
   "codemirror_mode": {
    "name": "ipython",
    "version": 3
   },
   "file_extension": ".py",
   "mimetype": "text/x-python",
   "name": "python",
   "nbconvert_exporter": "python",
   "pygments_lexer": "ipython3",
   "version": "3.8.5"
  }
 },
 "nbformat": 4,
 "nbformat_minor": 4
}
