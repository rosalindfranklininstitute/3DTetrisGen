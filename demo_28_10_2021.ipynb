{
 "cells": [
  {
   "cell_type": "code",
   "execution_count": 17,
   "metadata": {},
   "outputs": [
    {
     "data": {
      "text/plain": [
       "<module 'pokemino_generator' from '/Users/anna/OneDrive - Nexus365/RFI/Code/3DTetrisGen/pokemino_generator.py'>"
      ]
     },
     "execution_count": 17,
     "metadata": {},
     "output_type": "execute_result"
    }
   ],
   "source": [
    "import importlib\n",
    "from pokemino_generator import *\n",
    "importlib.reload(pokemino_generator)"
   ]
  },
  {
   "cell_type": "code",
   "execution_count": 16,
   "metadata": {},
   "outputs": [
    {
     "data": {
      "text/plain": [
       "Brick([1, 1])"
      ]
     },
     "execution_count": 16,
     "metadata": {},
     "output_type": "execute_result"
    }
   ],
   "source": [
    "Brick([1,1], 1)"
   ]
  },
  {
   "cell_type": "markdown",
   "metadata": {},
   "source": [
    "## Demo"
   ]
  },
  {
   "cell_type": "code",
   "execution_count": 3,
   "metadata": {},
   "outputs": [],
   "source": [
    "# Pokemino2D with 7 blocks fitted centrally\n",
    "exp2D = Volume((20, 20))\n",
    "heptamino = Pokemino2D(10, 7, exp2D, positioning = (10, 9))\n",
    "exp2D.fit_pokemino(heptamino)\n",
    "exp2D.display_in_napari()"
   ]
  },
  {
   "cell_type": "code",
   "execution_count": 26,
   "metadata": {},
   "outputs": [
    {
     "name": "stdout",
     "output_type": "stream",
     "text": [
      "Coordinates before overlap removal: (10, 9) (10, 10) (9, 10) \n",
      "\n",
      "There's overlap between 1 2\n",
      "Before moving apart: [10  9] [10 10]\n",
      "After moving apart: [10  6] [10 10]\n",
      "There's overlap between 2 3\n",
      "Before moving apart: [10 10] [ 9 10]\n",
      "After moving apart: [13 10] [ 9 10]\n",
      "\n",
      " Coordinates after overlap removal: (10, 6) (13, 10) (9, 10)\n"
     ]
    }
   ],
   "source": [
    "# 3 different Pokemino2D\n",
    "exp2D = Volume((20, 20))\n",
    "\n",
    "heptamino = Pokemino2D(10, 7, exp2D, positioning = (10, 9))\n",
    "heksamino = Pokemino2D(9, 6, exp2D, positioning = (10, 10))\n",
    "octamino = Pokemino2D(8, 8, exp2D, positioning = (9, 10))\n",
    "\n",
    "for pokemino in exp2D.creatures:\n",
    "    exp2D.fit_excluded_volume(pokemino)\n",
    "for pokemino in exp2D.creatures:\n",
    "    exp2D.fit_pokemino(pokemino)\n",
    "\n",
    "print(\"Coordinates before overlap removal:\", heptamino.positioning, heksamino.positioning, octamino.positioning, \"\\n\")\n",
    "\n",
    "exp2D.check_for_pairwise_overlap_and_fit(fit_excluded_volume=True)\n",
    " \n",
    "print(\"\\n Coordinates after overlap removal:\", heptamino.positioning, heksamino.positioning, octamino.positioning)\n",
    "   \n",
    "exp2D.display_in_napari()"
   ]
  },
  {
   "cell_type": "code",
   "execution_count": 38,
   "metadata": {},
   "outputs": [
    {
     "name": "stdout",
     "output_type": "stream",
     "text": [
      "There's overlap between 1 2\n",
      "Before moving apart: [ 9 10  8] [10  9 11]\n",
      "After moving apart: [ 9 10  5] [10  9 11]\n"
     ]
    }
   ],
   "source": [
    "# 3 different Pokemino2D\n",
    "exp2D = Volume((20, 20, 20))\n",
    "\n",
    "heksamino1 = Pokemino3D(7, 50, exp2D, positioning = (9, 10, 8), density=1)\n",
    "heksamino2 = Pokemino3D(8, 50, exp2D, positioning = (10, 9, 11), density=2)\n",
    "\n",
    "\"\"\"for pokemino in exp2D.creatures:\n",
    "    exp2D.fit_excluded_volume(pokemino)\"\"\"\n",
    "for pokemino in exp2D.creatures:\n",
    "    exp2D.fit_pokemino(pokemino)\n",
    "\n",
    "exp2D.check_for_pairwise_overlap_and_fit(fit_excluded_volume=True)\n",
    "   \n",
    "exp2D.display_in_napari()"
   ]
  },
  {
   "cell_type": "code",
   "execution_count": 185,
   "metadata": {},
   "outputs": [
    {
     "name": "stdout",
     "output_type": "stream",
     "text": [
      "There's overlap between 3 6\n",
      "Before moving apart: [8 8 8] [9 5 9]\n",
      "After moving apart: [7 9 8] [9 5 9]\n",
      "There's overlap between 4 6\n",
      "Before moving apart: [ 5  5 10] [9 5 9]\n",
      "After moving apart: [ 5  5 11] [9 5 9]\n",
      "There's overlap between 2 3\n",
      "Before moving apart: [ 7 10 10] [7 9 8]\n",
      "After moving apart: [ 7 10 12] [7 9 8]\n"
     ]
    }
   ],
   "source": [
    "# 6 different Pokeminos3D (display using turbo colormap)\n",
    "exp3D = Volume((20, 20, 20))\n",
    "\n",
    "pok_1 = Pokemino3D(10, 7, exp3D, positioning = (10, 9, 5), density = 1)\n",
    "pok_2 = Pokemino3D(11, 5, exp3D, positioning = (7, 10, 10), density = 1.5)\n",
    "pok_3 = Pokemino3D(12, 9, exp3D, positioning = (8, 8, 8), density = 2)\n",
    "pok_4 = Pokemino3D(13, 11, exp3D, positioning = (5, 5, 10), density = 2.5)\n",
    "pok_5 = Pokemino3D(15, 15, exp3D, positioning = (2, 8, 7), density = 3)\n",
    "pok_6 = Pokemino3D(14, 13, exp3D, positioning = (9, 5, 9), density = 3.5)\n",
    "\n",
    "exp3D.check_for_pairwise_overlap_and_fit(fit_excluded_volume=True)\n",
    "    \n",
    "exp3D.display_in_napari()"
   ]
  },
  {
   "cell_type": "code",
   "execution_count": 13,
   "metadata": {},
   "outputs": [],
   "source": [
    "exp3D_2 = Volume((20, 20, 20))\n",
    "pokemino_to_rotate_1 = Pokemino3D (2, 15, exp3D_2, positioning = (5, 5, 5), density = 1)\n",
    "pokemino_to_rotate_2 = Pokemino3D (2, 15, exp3D_2, positioning = (15, 15, 15), density = 1)\n",
    "pokemino_to_rotate_3 = Pokemino3D (2, 15, exp3D_2, positioning = (10, 5, 15), density = 1)\n",
    "pokemino_to_rotate_1.rotate_the_block_3_axes()\n",
    "pokemino_to_rotate_2.rotate_the_block_3_axes()\n",
    "pokemino_to_rotate_2.rotate_the_block_3_axes()\n",
    "exp3D_2.check_for_pairwise_overlap_and_fit()\n",
    "exp3D_2.display_in_napari()"
   ]
  },
  {
   "cell_type": "code",
   "execution_count": 10,
   "metadata": {},
   "outputs": [],
   "source": [
    "seeds = [5, 6, 7, 8]\n",
    "\n",
    "for seed in seeds:\n",
    "    for theta_x in THETA_EACH_90:\n",
    "        for theta_y in THETA_EACH_90:\n",
    "            for theta_z in THETA_EACH_90:\n",
    "                volume = Volume ((15, 20, 30))\n",
    "                polyomino_to_rotate = Pokemino3D(seed, 15)\n",
    "                polyomino_to_rotate.rotate_the_block_1_axis(axis=0, theta=theta_z)\n",
    "                polyomino_to_rotate.rotate_the_block_1_axis(axis=1, theta=theta_x)\n",
    "                polyomino_to_rotate.rotate_the_block_1_axis(axis=2, theta=theta_y)\n",
    "                volume.fit_a_polyomino_central(polyomino_to_rotate)\n",
    "                volume.save_as_mrcfile(Path(f'rotated_polyominos/{seed}_{theta_z}_{theta_x}_{theta_y}.mrc'))"
   ]
  },
  {
   "cell_type": "code",
   "execution_count": null,
   "metadata": {},
   "outputs": [],
   "source": []
  },
  {
   "cell_type": "code",
   "execution_count": 18,
   "metadata": {},
   "outputs": [],
   "source": [
    "seeds = [1, 2, 3, 4, 5, 6, 7]\n",
    "\n",
    "max_size = 8 # max. expected length\n",
    "\n",
    "test_image = Volume((max_size, max_size*len(seeds), max_size))\n",
    "\n",
    "for i, seed in enumerate(seeds):\n",
    "    polyomino = Pokemino3D(seed, 15, test_image, positioning = (int(max_size/2), int(max_size*(i+0.5)), int(max_size/2)))\n",
    "    polyomino.rotate_the_block_3_axes()\n",
    "\n",
    "test_image.check_for_pairwise_overlap_and_fit()\n",
    "test_image.display_in_napari()\n"
   ]
  },
  {
   "cell_type": "markdown",
   "metadata": {},
   "source": [
    "Generate a 3D net of regularly-spaced, randomly-generated, randomly-rotated pokeminos of identical size from a list of seeds"
   ]
  },
  {
   "cell_type": "code",
   "execution_count": 186,
   "metadata": {},
   "outputs": [],
   "source": [
    "seeds = [1, 2, 3, 4, 5, 6, 7]\n",
    "pokemino_size = 15\n",
    "\n",
    "max_size = 8 # max. expected length\n",
    "\n",
    "j, k, l = 1, 3, 3 # numbers of polyominos in each dimension\n",
    "\n",
    "test_image = Volume((max_size * j, max_size * k, max_size * l))\n",
    "\n",
    "for x in range (j):\n",
    "    for y in range (k):\n",
    "        for z in range (l):\n",
    "            random.seed()\n",
    "            # in the line below using random.choice(seeds) didn't return a random seed but e.g. 2, 5, 4, 1, 1, 1, 1, 1, 1 until the line random.seed()\n",
    "            polyomino = Pokemino3D(random.choice(seeds), pokemino_size, test_image, positioning = (int(max_size*(x+0.5)), int(max_size*(y+0.5)), int(max_size*(z+0.5))))\n",
    "            polyomino.rotate_the_block_3_axes()\n",
    "\n",
    "test_image.check_for_pairwise_overlap_and_fit()\n",
    "test_image.display_in_napari()"
   ]
  },
  {
   "cell_type": "markdown",
   "metadata": {},
   "source": [
    "Generate a 3D volume of randomly-placed but non-overlapping randomly-rotated pokeminos of identical size from a list of seeds"
   ]
  },
  {
   "cell_type": "code",
   "execution_count": 157,
   "metadata": {},
   "outputs": [
    {
     "data": {
      "text/plain": [
       "21.71534093275925"
      ]
     },
     "execution_count": 157,
     "metadata": {},
     "output_type": "execute_result"
    }
   ],
   "source": [
    "(20 * 8**3)**(1/3)"
   ]
  },
  {
   "cell_type": "code",
   "execution_count": 197,
   "metadata": {},
   "outputs": [
    {
     "name": "stdout",
     "output_type": "stream",
     "text": [
      "There's overlap between 1 5\n",
      "Before moving apart: [3 9 3] [2 9 0]\n",
      "After moving apart: [3 9 4] [2 9 0]\n",
      "There's overlap between 1 8\n",
      "Before moving apart: [3 9 4] [2 8 1]\n",
      "After moving apart: [4 9 5] [2 8 1]\n",
      "There's overlap between 3 4\n",
      "Before moving apart: [8 0 4] [11  1  4]\n",
      "After moving apart: [6 0 4] [11  1  4]\n",
      "There's overlap between 3 7\n",
      "Before moving apart: [6 0 4] [5 1 6]\n",
      "After moving apart: [ 6 -1  2] [5 1 6]\n",
      "There's overlap between 5 8\n",
      "Before moving apart: [2 9 0] [2 8 1]\n",
      "After moving apart: [ 2 10  0] [2 8 1]\n",
      "There's overlap between 8 10\n",
      "Before moving apart: [2 8 1] [0 6 0]\n",
      "After moving apart: [4 9 1] [0 6 0]\n",
      "There's overlap between 1 8\n",
      "Before moving apart: [4 9 5] [4 9 1]\n",
      "After moving apart: [4 9 7] [4 9 1]\n",
      "There's overlap between 1 9\n",
      "Before moving apart: [4 9 7] [ 5  9 10]\n",
      "After moving apart: [3 9 6] [ 5  9 10]\n",
      "There's overlap between 5 8\n",
      "Before moving apart: [ 2 10  0] [4 9 1]\n",
      "After moving apart: [ 1 11 -1] [4 9 1]\n",
      "There's overlap between 1 8\n",
      "Before moving apart: [3 9 6] [4 9 1]\n",
      "After moving apart: [3 9 8] [4 9 1]\n",
      "There's overlap between 1 9\n",
      "Before moving apart: [3 9 8] [ 5  9 10]\n",
      "After moving apart: [2 9 7] [ 5  9 10]\n",
      "There's overlap between 1 8\n",
      "Before moving apart: [2 9 7] [4 9 1]\n",
      "After moving apart: [2 9 8] [4 9 1]\n",
      "There's overlap between 1 9\n",
      "Before moving apart: [2 9 8] [ 5  9 10]\n",
      "After moving apart: [1 9 8] [ 5  9 10]\n",
      "[Pokemino3D((7, 15)) Pokemino3D((7, 15)) Pokemino3D((6, 15))\n",
      " Pokemino3D((5, 15)) Pokemino3D((1, 15)) Pokemino3D((4, 15))\n",
      " Pokemino3D((7, 15)) Pokemino3D((7, 15)) Pokemino3D((2, 15))\n",
      " Pokemino3D((6, 15))]\n"
     ]
    }
   ],
   "source": [
    "seeds = [1, 2, 3, 4, 5, 6, 7]\n",
    "pokemino_size = 15\n",
    "\n",
    "n_pokeminos = 10\n",
    "max_size = 6 # max. expected length\n",
    "a_volume = int((n_pokeminos * max_size**3)**(1/3))\n",
    "test_image = Volume ((a_volume, a_volume, a_volume))\n",
    "\n",
    "for x in range (n_pokeminos):\n",
    "    random.seed()\n",
    "    # in the line below using random.choice(seeds) didn't return a random seed but e.g. 2, 5, 4, 1, 1, 1, 1, 1, 1 until the line random.seed()\n",
    "    polyomino = Pokemino3D(random.choice(seeds), pokemino_size, test_image, positioning=(random.randint(0, test_image.shape[0]-1), random.randint(0, test_image.shape[1]-1), random.randint(0, test_image.shape[2]-1)), density = x)\n",
    "    polyomino.rotate_the_block_3_axes()\n",
    "\n",
    "test_image.check_for_pairwise_overlap_and_fit()\n",
    "test_image.display_in_napari()\n",
    "print(test_image.creatures)"
   ]
  },
  {
   "cell_type": "code",
   "execution_count": 28,
   "metadata": {},
   "outputs": [
    {
     "ename": "FileNotFoundError",
     "evalue": "[Errno 2] No such file or directory: 'rotated_polyominos/1_0_0_0.mrc'",
     "output_type": "error",
     "traceback": [
      "\u001b[0;31m---------------------------------------------------------------------------\u001b[0m",
      "\u001b[0;31mFileNotFoundError\u001b[0m                         Traceback (most recent call last)",
      "\u001b[0;32m<ipython-input-28-c2e89a173e6d>\u001b[0m in \u001b[0;36m<module>\u001b[0;34m\u001b[0m\n\u001b[0;32m----> 1\u001b[0;31m \u001b[0mmrcfile\u001b[0m\u001b[0;34m.\u001b[0m\u001b[0mvalidate\u001b[0m\u001b[0;34m(\u001b[0m\u001b[0mPath\u001b[0m\u001b[0;34m(\u001b[0m\u001b[0;34m'rotated_polyominos/1_0_0_0.mrc'\u001b[0m\u001b[0;34m)\u001b[0m\u001b[0;34m)\u001b[0m\u001b[0;34m\u001b[0m\u001b[0;34m\u001b[0m\u001b[0m\n\u001b[0m",
      "\u001b[0;32m~/opt/anaconda3/lib/python3.8/site-packages/mrcfile/validator.py\u001b[0m in \u001b[0;36mvalidate\u001b[0;34m(name, print_file)\u001b[0m\n\u001b[1;32m    151\u001b[0m             \u001b[0;32mis\u001b[0m \u001b[0;32mnot\u001b[0m \u001b[0mthe\u001b[0m \u001b[0msame\u001b[0m \u001b[0msize\u001b[0m \u001b[0;32mas\u001b[0m \u001b[0mexpected\u001b[0m \u001b[0;32mfrom\u001b[0m \u001b[0mthe\u001b[0m \u001b[0mheader\u001b[0m\u001b[0;34m.\u001b[0m\u001b[0;34m\u001b[0m\u001b[0;34m\u001b[0m\u001b[0m\n\u001b[1;32m    152\u001b[0m     \"\"\"\n\u001b[0;32m--> 153\u001b[0;31m     \u001b[0;32mwith\u001b[0m \u001b[0mload_functions\u001b[0m\u001b[0;34m.\u001b[0m\u001b[0mopen\u001b[0m\u001b[0;34m(\u001b[0m\u001b[0mname\u001b[0m\u001b[0;34m,\u001b[0m \u001b[0mpermissive\u001b[0m\u001b[0;34m=\u001b[0m\u001b[0;32mTrue\u001b[0m\u001b[0;34m)\u001b[0m \u001b[0;32mas\u001b[0m \u001b[0mmrc\u001b[0m\u001b[0;34m:\u001b[0m\u001b[0;34m\u001b[0m\u001b[0;34m\u001b[0m\u001b[0m\n\u001b[0m\u001b[1;32m    154\u001b[0m         \u001b[0;32mreturn\u001b[0m \u001b[0mmrc\u001b[0m\u001b[0;34m.\u001b[0m\u001b[0mvalidate\u001b[0m\u001b[0;34m(\u001b[0m\u001b[0mprint_file\u001b[0m\u001b[0;34m=\u001b[0m\u001b[0mprint_file\u001b[0m\u001b[0;34m)\u001b[0m\u001b[0;34m\u001b[0m\u001b[0;34m\u001b[0m\u001b[0m\n\u001b[1;32m    155\u001b[0m \u001b[0;34m\u001b[0m\u001b[0m\n",
      "\u001b[0;32m~/opt/anaconda3/lib/python3.8/site-packages/mrcfile/load_functions.py\u001b[0m in \u001b[0;36mopen\u001b[0;34m(name, mode, permissive, header_only)\u001b[0m\n\u001b[1;32m    136\u001b[0m             \u001b[0;32melif\u001b[0m \u001b[0mstart\u001b[0m\u001b[0;34m[\u001b[0m\u001b[0;34m:\u001b[0m\u001b[0;36m2\u001b[0m\u001b[0;34m]\u001b[0m \u001b[0;34m==\u001b[0m \u001b[0;34mb'BZ'\u001b[0m\u001b[0;34m:\u001b[0m\u001b[0;34m\u001b[0m\u001b[0;34m\u001b[0m\u001b[0m\n\u001b[1;32m    137\u001b[0m                 \u001b[0mNewMrc\u001b[0m \u001b[0;34m=\u001b[0m \u001b[0mBzip2MrcFile\u001b[0m\u001b[0;34m\u001b[0m\u001b[0;34m\u001b[0m\u001b[0m\n\u001b[0;32m--> 138\u001b[0;31m     return NewMrc(name, mode=mode, permissive=permissive,\n\u001b[0m\u001b[1;32m    139\u001b[0m                   header_only=header_only)\n\u001b[1;32m    140\u001b[0m \u001b[0;34m\u001b[0m\u001b[0m\n",
      "\u001b[0;32m~/opt/anaconda3/lib/python3.8/site-packages/mrcfile/mrcfile.py\u001b[0m in \u001b[0;36m__init__\u001b[0;34m(self, name, mode, overwrite, permissive, header_only, **kwargs)\u001b[0m\n\u001b[1;32m    106\u001b[0m         \u001b[0mself\u001b[0m\u001b[0;34m.\u001b[0m\u001b[0m_read_only\u001b[0m \u001b[0;34m=\u001b[0m \u001b[0;34m(\u001b[0m\u001b[0mself\u001b[0m\u001b[0;34m.\u001b[0m\u001b[0m_mode\u001b[0m \u001b[0;34m==\u001b[0m \u001b[0;34m'r'\u001b[0m\u001b[0;34m)\u001b[0m\u001b[0;34m\u001b[0m\u001b[0;34m\u001b[0m\u001b[0m\n\u001b[1;32m    107\u001b[0m \u001b[0;34m\u001b[0m\u001b[0m\n\u001b[0;32m--> 108\u001b[0;31m         \u001b[0mself\u001b[0m\u001b[0;34m.\u001b[0m\u001b[0m_open_file\u001b[0m\u001b[0;34m(\u001b[0m\u001b[0mname\u001b[0m\u001b[0;34m)\u001b[0m\u001b[0;34m\u001b[0m\u001b[0;34m\u001b[0m\u001b[0m\n\u001b[0m\u001b[1;32m    109\u001b[0m \u001b[0;34m\u001b[0m\u001b[0m\n\u001b[1;32m    110\u001b[0m         \u001b[0;32mtry\u001b[0m\u001b[0;34m:\u001b[0m\u001b[0;34m\u001b[0m\u001b[0;34m\u001b[0m\u001b[0m\n",
      "\u001b[0;32m~/opt/anaconda3/lib/python3.8/site-packages/mrcfile/mrcfile.py\u001b[0m in \u001b[0;36m_open_file\u001b[0;34m(self, name)\u001b[0m\n\u001b[1;32m    123\u001b[0m     \u001b[0;32mdef\u001b[0m \u001b[0m_open_file\u001b[0m\u001b[0;34m(\u001b[0m\u001b[0mself\u001b[0m\u001b[0;34m,\u001b[0m \u001b[0mname\u001b[0m\u001b[0;34m)\u001b[0m\u001b[0;34m:\u001b[0m\u001b[0;34m\u001b[0m\u001b[0;34m\u001b[0m\u001b[0m\n\u001b[1;32m    124\u001b[0m         \u001b[0;34m\"\"\"Open a file object to use as the I/O stream.\"\"\"\u001b[0m\u001b[0;34m\u001b[0m\u001b[0;34m\u001b[0m\u001b[0m\n\u001b[0;32m--> 125\u001b[0;31m         \u001b[0mself\u001b[0m\u001b[0;34m.\u001b[0m\u001b[0m_iostream\u001b[0m \u001b[0;34m=\u001b[0m \u001b[0mopen\u001b[0m\u001b[0;34m(\u001b[0m\u001b[0mname\u001b[0m\u001b[0;34m,\u001b[0m \u001b[0mself\u001b[0m\u001b[0;34m.\u001b[0m\u001b[0m_mode\u001b[0m \u001b[0;34m+\u001b[0m \u001b[0;34m'b'\u001b[0m\u001b[0;34m)\u001b[0m\u001b[0;34m\u001b[0m\u001b[0;34m\u001b[0m\u001b[0m\n\u001b[0m\u001b[1;32m    126\u001b[0m \u001b[0;34m\u001b[0m\u001b[0m\n\u001b[1;32m    127\u001b[0m     \u001b[0;32mdef\u001b[0m \u001b[0m_read\u001b[0m\u001b[0;34m(\u001b[0m\u001b[0mself\u001b[0m\u001b[0;34m,\u001b[0m \u001b[0mheader_only\u001b[0m\u001b[0;34m=\u001b[0m\u001b[0;32mFalse\u001b[0m\u001b[0;34m)\u001b[0m\u001b[0;34m:\u001b[0m\u001b[0;34m\u001b[0m\u001b[0;34m\u001b[0m\u001b[0m\n",
      "\u001b[0;31mFileNotFoundError\u001b[0m: [Errno 2] No such file or directory: 'rotated_polyominos/1_0_0_0.mrc'"
     ]
    }
   ],
   "source": [
    "mrcfile.validate(Path('rotated_polyominos/1_0_0_0.mrc'))"
   ]
  },
  {
   "cell_type": "code",
   "execution_count": 37,
   "metadata": {},
   "outputs": [],
   "source": [
    "with mrcfile.open(Path('rotated_polyominos/5_0_0_0.mrc')) as mrc:\n",
    "    viewer = napari.view_image(mrc.data)"
   ]
  },
  {
   "cell_type": "markdown",
   "metadata": {},
   "source": [
    "## Create a 2D Polyomino and visualise all 90 degrees rotations"
   ]
  },
  {
   "cell_type": "code",
   "execution_count": 231,
   "metadata": {},
   "outputs": [
    {
     "data": {
      "image/png": "[encoded data removed]",
      "text/plain": [
       "<Figure size 432x288 with 4 Axes>"
      ]
     },
     "metadata": {
      "needs_background": "light"
     },
     "output_type": "display_data"
    }
   ],
   "source": [
    "heptamino = Pokemino2D(4, 10)\n",
    "fig = plt.figure()\n",
    "\n",
    "for i in range(1, 5):\n",
    "    rotation = THETA_EACH_90[i-1]\n",
    "    ax = fig.add_subplot(2, 2, i)\n",
    "    heptamino.rotate_the_block(rotation)\n",
    "    heptamino.visualise_the_2d_block(10)"
   ]
  },
  {
   "cell_type": "markdown",
   "metadata": {},
   "source": [
    "## Exploring mrcfile library & displaying mrc in napari"
   ]
  },
  {
   "cell_type": "code",
   "execution_count": 234,
   "metadata": {},
   "outputs": [],
   "source": [
    "# Displaying a 2D mrcfile\n",
    "with mrcfile.new('tmp2d.mrc', overwrite=True) as mrc:\n",
    "    mrc.set_data(np.zeros((5, 5), dtype=np.int8))\n",
    "    mrc.data[1:4,1:4] = 10\n",
    "    mrc.data[2:3,2:3] = 30\n",
    "    viewer = napari.view_image(mrc.data)\n",
    "    "
   ]
  },
  {
   "cell_type": "code",
   "execution_count": 49,
   "metadata": {},
   "outputs": [],
   "source": [
    "# Displaying a 3D mrcfile\n",
    "with mrcfile.new('tmp3d.mrc', overwrite=True) as mrc:\n",
    "    mrc.set_data(np.zeros((5, 5, 5), dtype=np.int8))\n",
    "    mrc.data[1:4,1:4,1:4] = 10\n",
    "    mrc.data[2:3,2:3,2:3] = 30\n",
    "    viewer = napari.view_image(mrc.data)"
   ]
  }
 ],
 "metadata": {
  "kernelspec": {
   "display_name": "Python 3",
   "language": "python",
   "name": "python3"
  },
  "language_info": {
   "codemirror_mode": {
    "name": "ipython",
    "version": 3
   },
   "file_extension": ".py",
   "mimetype": "text/x-python",
   "name": "python",
   "nbconvert_exporter": "python",
   "pygments_lexer": "ipython3",
   "version": "3.8.5"
  }
 },
 "nbformat": 4,
 "nbformat_minor": 4
}
