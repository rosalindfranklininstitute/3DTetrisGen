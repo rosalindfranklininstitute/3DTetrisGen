{
 "cells": [
  {
   "cell_type": "code",
   "execution_count": 1,
   "metadata": {},
   "outputs": [],
   "source": [
    "import importlib\n",
    "import random\n",
    "import mrcfile\n",
    "import csv\n",
    "import math\n",
    "import numpy as np\n",
    "from pathlib import Path\n",
    "import napari\n",
    "import pokemino_generator as poke"
   ]
  },
  {
   "cell_type": "code",
   "execution_count": 4,
   "metadata": {},
   "outputs": [
    {
     "data": {
      "text/plain": [
       "<module 'pokemino_generator' from '/Users/anna/Library/CloudStorage/OneDrive-Nexus365/RFI/Code/Pokeminos/pokemino_generator.py'>"
      ]
     },
     "execution_count": 4,
     "metadata": {},
     "output_type": "execute_result"
    }
   ],
   "source": [
    "importlib.reload(poke)"
   ]
  },
  {
   "cell_type": "code",
   "execution_count": 3,
   "metadata": {},
   "outputs": [],
   "source": [
    "def add_label(mrc, param_name, param_value):\n",
    "    \n",
    "    \"\"\"Adds information on rotation angles, shifts along x, y and z to the mrc header.\"\"\"\n",
    "    \n",
    "    label_count = mrc.header.nlabl\n",
    "    mrc.header.label[label_count] = f'{param_name}={str(param_value)}'\n",
    "    mrc.header.nlabl += 1"
   ]
  },
  {
   "cell_type": "markdown",
   "metadata": {},
   "source": [
    "## Example Dataset 1.Tetraminos."
   ]
  },
  {
   "cell_type": "code",
   "execution_count": 7,
   "metadata": {},
   "outputs": [],
   "source": [
    "importlib.reload(poke)\n",
    "\n",
    "tetraminos = [[[0, 0, 0], [0, 0, 1], [0, 0, 2], [0, 0, 3]],\n",
    "              [[0, 0, 0], [0, 0, 1], [0, 1, 0], [0, 1, 1]],\n",
    "              [[0, 0, 0], [0, 0, 1], [0, 1, 1], [0, 1, 2]], \n",
    "              [[0, 0, 0], [0, 0, 1], [0, 0, 2], [0, 1, 1]], \n",
    "              [[0, 0, 0], [0, 0, 1], [0, 0, 2], [0, 1, 0]], \n",
    "              [[0, 0, 0], [0, 0, 1], [0, 1, 0], [1, 0, 0]]]\n",
    "\n",
    "from itertools import product\n",
    "\n",
    "def upscale_coords(brick_list, scale_factor = 5):\n",
    "    upscaled_coords = []\n",
    "\n",
    "    for brick in brick_list:\n",
    "        upscaled_coords.append(list(product(*[[coord * scale_factor + i for i in range(scale_factor)] for coord in brick])))\n",
    "    \n",
    "    flat_list = [num for sublist in upscaled_coords for num in sublist]\n",
    "    return flat_list\n",
    "\n",
    "tetraminos = [upscale_coords(a) for a in tetraminos]\n",
    "\n",
    "tetra_id = ['I', 'O', 'Z', 'T', 'L', 'E']\n",
    "\n",
    "a = 32\n",
    "\n",
    "volume_large = poke.Volume((2*a, 3*a, a))\n",
    "\n",
    "for x in range(len(tetra_id)):\n",
    "    random.seed()\n",
    "    volume = poke.Volume((a, a, a))\n",
    "    pokemino = poke.Pokemino3D(size=4*125, volume=volume, brick_coords=tetraminos[x], positioning=(int(a/2), int(a/2), int(a/2)), algorithm=None)\n",
    "    pokemino.make_coords_relative_to_centre_of_mass()\n",
    "    volume.fit_pokemino(pokemino)\n",
    "    with mrcfile.new(Path(f'datasets/tetraminoes/{tetra_id[x]}.mrc'), overwrite=True) as mrc:\n",
    "        mrc.set_data(volume.array)"
   ]
  },
  {
   "cell_type": "markdown",
   "metadata": {},
   "source": [
    "## Example Dataset 2. Pokeminos of differnt sizes."
   ]
  },
  {
   "cell_type": "code",
   "execution_count": 9,
   "metadata": {},
   "outputs": [
    {
     "name": "stderr",
     "output_type": "stream",
     "text": [
      "100%|██████████| 5/5 [00:00<00:00, 61.43it/s]\n",
      "100%|██████████| 7/7 [00:00<00:00, 79.72it/s]\n",
      "100%|██████████| 10/10 [00:00<00:00, 61.58it/s]\n",
      "100%|██████████| 10/10 [00:00<00:00, 63.75it/s]\n",
      "100%|██████████| 15/15 [00:00<00:00, 53.11it/s]\n",
      "100%|██████████| 17/17 [00:00<00:00, 43.25it/s]\n",
      "100%|██████████| 25/25 [00:00<00:00, 38.66it/s]\n",
      "100%|██████████| 30/30 [00:00<00:00, 33.59it/s]\n"
     ]
    }
   ],
   "source": [
    "importlib.reload(poke)\n",
    "\n",
    "pokemino_names = ['Snorlax', 'Squirtle', 'Dragonite', 'Eevee', 'Squishy', 'Mewtwo', 'Pikachu', 'Greninja']\n",
    "\n",
    "sizes = [10, 12, 15, 15, 20, 22, 30, 35]\n",
    "\n",
    "a = 32\n",
    "\n",
    "random.seed(0)\n",
    "for x in range(8):\n",
    "    volume = poke.Volume((a, a, a))\n",
    "    pokemino = poke.Pokemino3D(size = sizes[x],\n",
    "                               volume = volume, \n",
    "                               seed = pokemino_names[x],\n",
    "                               crowd_factor = 0.2, \n",
    "                               target_ratio = [1, 1, 1], \n",
    "                               positioning=(int(a/2), int(a/2), int(a/2)), \n",
    "                               algorithm=\"biased\",\n",
    "                               scale_factor = 4)\n",
    "    \n",
    "    volume.fit_pokemino(pokemino)\n",
    "    with mrcfile.new(Path(f'datasets/pokeminoes/{pokemino_names[x]}.mrc'), overwrite=True) as mrc:\n",
    "        mrc.set_data(volume.array)"
   ]
  },
  {
   "cell_type": "markdown",
   "metadata": {},
   "source": [
    "## Example 3. Biased Pokeminos."
   ]
  },
  {
   "cell_type": "code",
   "execution_count": null,
   "metadata": {},
   "outputs": [
    {
     "name": "stderr",
     "output_type": "stream",
     "text": [
      " 79%|███████▉  | 233/295 [00:59<00:35,  1.73it/s]"
     ]
    }
   ],
   "source": [
    "importlib.reload(poke)\n",
    "\n",
    "pokemino_names = ['Bulbosaur', 'Ivysaur', 'Venusaur', 'Charmander', 'Charmeleon', 'Charizard', 'Squirtle', 'Wartortle']\n",
    "\n",
    "target_ratios = [# Training Pokemon\n",
    "                     [1, 1, 1], # blob\n",
    "                     [2, 1, 1], # elongated blob (capsule)\n",
    "                     [5, 1, 1], # awkward rod \n",
    "                     [15, 1, 1], # rod\n",
    "                     [4, 4, 1], # awkward sheet\n",
    "                     [8, 3, 1], # sheet\n",
    "                 # Pokemon for testing\n",
    "                     [5, 4, 1], # variation on an awkward sheet\n",
    "                     [6, 1.5, 1]] # variation on an awkward rod \n",
    "\n",
    "a = 64\n",
    "\n",
    "random.seed(0)\n",
    "for x in range(8):\n",
    "    volume = poke.Volume((a, a, a))\n",
    "    pokemino = poke.Pokemino3D(size = 300,\n",
    "                               volume = volume, \n",
    "                               seed = pokemino_names[x],\n",
    "                               crowd_factor = 0.1, \n",
    "                               target_ratio = target_ratios[x], \n",
    "                               positioning=(int(a/2), int(a/2), int(a/2)), \n",
    "                               algorithm=\"biased\",\n",
    "                               scale_factor=3)\n",
    "                               # max_ratio=max_ratio)\n",
    "    \n",
    "    #pokemino.upscale_pokemino(3)\n",
    "    #theta_x, theta_y, theta_z = pokemino.rotate_the_pokemino_3_axes()\n",
    "    volume.fit_pokemino(pokemino)\n",
    "    with mrcfile.new(Path(f'datasets/biased_pokeminoes/{pokemino_names[x]}.mrc'), overwrite=True) as mrc:\n",
    "        mrc.set_data(volume.array)\n",
    "        mrc.header.label[1] = f\"ratio_y_x={str(pokemino.ratio[1])}\"\n",
    "        mrc.header.label[2] = f\"ratio_z_x={str(pokemino.ratio[2])}\"\n",
    "        mrc.header.nlabl=3"
   ]
  },
  {
   "cell_type": "markdown",
   "metadata": {},
   "source": [
    "## Create large volumes with all example Pokeminos"
   ]
  },
  {
   "cell_type": "code",
   "execution_count": 11,
   "metadata": {},
   "outputs": [],
   "source": [
    "a = 64\n",
    "big_volume = np.zeros((a*2, a*3, a), dtype=np.float32)\n",
    "\n",
    "# tetra_id = ['Snorlax', 'Squirtle', 'Dragonite', 'Eevee', 'Squishy', 'Mewtwo', 'Pikachu', 'Greninja'] # pokeminos\n",
    "# tetra_id = ['Bulbasaur', 'Ivysaur', 'Venusaur', 'Charmander', 'Charmeleon', 'Charizard', 'Squirtle', 'Wartortle'] # biased_pokeminos\n",
    "\n",
    "for i, mino in enumerate(tetra_id):\n",
    "    with mrcfile.open(f'../datasets/biased_poke/{mino}.mrc') as mrc:\n",
    "        big_volume[math.floor(i/3)*a:(math.floor(i/3)+1)*a, (i%3)*a:(i%3+1)*a, 0:a] = mrc.data\n",
    "\n",
    "with mrcfile.new('../datasets/biased_poke/large_volume.mrc', overwrite=True) as mrc:\n",
    "    mrc.set_data(big_volume)"
   ]
  },
  {
   "cell_type": "code",
   "execution_count": null,
   "metadata": {},
   "outputs": [],
   "source": [
    "# a = 64\n",
    "\n",
    "big_volume = np.zeros((a*2, a*4, a), dtype=np.float32)\n",
    "\n",
    "tetra_id = ['1dfo_11', '1dkg_481', '1gfl_275', 'test/1d5n_1',\n",
    "            '1h7x_149', '1i5e_36', '1ks2_485', 'test/1ek8_68'\n",
    "           ]\n",
    "\n",
    "for i, mino in enumerate(tetra_id):\n",
    "    with mrcfile.open(Path(f'../datasets/mrcs_3R_0T/{mino}.mrc')) as mrc:\n",
    "        big_volume[math.floor(i/4)*a:(math.floor(i/4)+1)*a, (i%4)*a:(i%4+1)*a, 0:a] = mrc.data\n",
    "\n",
    "with mrcfile.new(Path(f'../datasets/large_volume.mrc'), overwrite=True) as mrc:\n",
    "    mrc.set_data(big_volume)"
   ]
  },
  {
   "cell_type": "code",
   "execution_count": 11,
   "metadata": {},
   "outputs": [],
   "source": [
    "a = 32\n",
    "\n",
    "big_volume = np.zeros((a*2, a*4, a), dtype=np.float32)\n",
    "\n",
    "tetra_id = ['L_889', 'O_892', 'Z_899', 'I_980', 'E_982', 'T_992'] \n",
    "\n",
    "for i, mino in enumerate(tetra_id):\n",
    "    with mrcfile.open(Path(f'../datasets/tetraminos_3R_0T/{mino}.mrc')) as mrc:\n",
    "        big_volume[math.floor(i/3)*a:(math.floor(i/3)+1)*a, (i%3)*a:(i%3+1)*a, 0:a] = mrc.data\n",
    "        \n",
    "with mrcfile.open(Path(f'../datasets/tetraminos_3R_0T/test/EL_149.mrc')) as mrc:\n",
    "    big_volume[16:48, 96:128, 0:32] = mrc.data\n",
    "\n",
    "with mrcfile.new(Path(f'../datasets/big_volume'), overwrite=True) as mrc:\n",
    "    mrc.set_data(big_volume)\n"
   ]
  },
  {
   "cell_type": "markdown",
   "metadata": {},
   "source": [
    "## Create test sets"
   ]
  },
  {
   "cell_type": "code",
   "execution_count": 9,
   "metadata": {},
   "outputs": [],
   "source": [
    "importlib.reload(poke)\n",
    "\n",
    "seeds = [1, 2, 3, 4, 7, 6]\n",
    "n_bricks = [3, 7, 12, 20, 20, 40]\n",
    "\n",
    "max_size = 10\n",
    "j, k, l = 2, 10, 10 # numbers of polyominos on a regular grid in each dimension\n",
    "\n",
    "test_volume = poke.Volume((max_size * j, max_size * k, max_size * l))\n",
    "\n",
    "for x in range (j):\n",
    "    for y in range (k):\n",
    "        for z in range (l):\n",
    "            random.seed()\n",
    "            no_pokemino=random.randint(0,5)\n",
    "            pokemino = poke.Pokemino3D(seeds[no_pokemino], n_bricks[no_pokemino], test_volume, positioning = (int(max_size*(x+0.5)), int(max_size*(y+0.5)), int(max_size*(z+0.5))))\n",
    "            pokemino.rotate_the_block_3_axes()\n",
    "\n",
    "test_volume.fit_all_pokeminos()\n",
    "test_volume.create_subpixel_resolution_array(5)\n",
    "test_volume.save_as_mrcfile(Path(f'Exp1_S_vs_L/test.mrc'))\n",
    "test_volume.display_in_napari()"
   ]
  },
  {
   "cell_type": "code",
   "execution_count": 10,
   "metadata": {},
   "outputs": [],
   "source": [
    "with open(Path(f'Exp1_S_vs_L/test_description.mrc'), 'w') as f:\n",
    "    writer = csv.writer(f)\n",
    "    writer.writerow(['seed', 'size', 'x', 'y', 'z'])\n",
    "    for creature in test_volume.creatures:\n",
    "        x, y, z = creature.positioning\n",
    "        writer.writerow([creature.seed, creature.size, x, y, z])"
   ]
  },
  {
   "cell_type": "code",
   "execution_count": 2,
   "metadata": {},
   "outputs": [
    {
     "ename": "TypeError",
     "evalue": "object of type 'NoneType' has no len()",
     "output_type": "error",
     "traceback": [
      "\u001b[0;31m---------------------------------------------------------------------------\u001b[0m",
      "\u001b[0;31mTypeError\u001b[0m                                 Traceback (most recent call last)",
      "\u001b[0;32m<ipython-input-2-dffce44f141c>\u001b[0m in \u001b[0;36m<module>\u001b[0;34m\u001b[0m\n\u001b[1;32m     11\u001b[0m     \u001b[0mrandom\u001b[0m\u001b[0;34m.\u001b[0m\u001b[0mseed\u001b[0m\u001b[0;34m(\u001b[0m\u001b[0;34m)\u001b[0m\u001b[0;34m\u001b[0m\u001b[0;34m\u001b[0m\u001b[0m\n\u001b[1;32m     12\u001b[0m     \u001b[0mno_pokemino\u001b[0m\u001b[0;34m=\u001b[0m\u001b[0mrandom\u001b[0m\u001b[0;34m.\u001b[0m\u001b[0mrandint\u001b[0m\u001b[0;34m(\u001b[0m\u001b[0;36m0\u001b[0m\u001b[0;34m,\u001b[0m\u001b[0;36m5\u001b[0m\u001b[0;34m)\u001b[0m\u001b[0;34m\u001b[0m\u001b[0;34m\u001b[0m\u001b[0m\n\u001b[0;32m---> 13\u001b[0;31m     \u001b[0mpolyomino\u001b[0m \u001b[0;34m=\u001b[0m \u001b[0mpoke\u001b[0m\u001b[0;34m.\u001b[0m\u001b[0mPokemino3D\u001b[0m\u001b[0;34m(\u001b[0m\u001b[0mseeds\u001b[0m\u001b[0;34m[\u001b[0m\u001b[0mno_pokemino\u001b[0m\u001b[0;34m]\u001b[0m\u001b[0;34m,\u001b[0m \u001b[0mn_bricks\u001b[0m\u001b[0;34m[\u001b[0m\u001b[0mno_pokemino\u001b[0m\u001b[0;34m]\u001b[0m\u001b[0;34m,\u001b[0m \u001b[0mtest_volume\u001b[0m\u001b[0;34m,\u001b[0m \u001b[0mpositioning\u001b[0m\u001b[0;34m=\u001b[0m\u001b[0;34m(\u001b[0m\u001b[0mrandom\u001b[0m\u001b[0;34m.\u001b[0m\u001b[0mrandint\u001b[0m\u001b[0;34m(\u001b[0m\u001b[0;36m0\u001b[0m\u001b[0;34m,\u001b[0m \u001b[0mtest_volume\u001b[0m\u001b[0;34m.\u001b[0m\u001b[0mshape\u001b[0m\u001b[0;34m[\u001b[0m\u001b[0;36m0\u001b[0m\u001b[0;34m]\u001b[0m\u001b[0;34m-\u001b[0m\u001b[0;36m1\u001b[0m\u001b[0;34m)\u001b[0m\u001b[0;34m,\u001b[0m \u001b[0mrandom\u001b[0m\u001b[0;34m.\u001b[0m\u001b[0mrandint\u001b[0m\u001b[0;34m(\u001b[0m\u001b[0;36m0\u001b[0m\u001b[0;34m,\u001b[0m \u001b[0mtest_volume\u001b[0m\u001b[0;34m.\u001b[0m\u001b[0mshape\u001b[0m\u001b[0;34m[\u001b[0m\u001b[0;36m1\u001b[0m\u001b[0;34m]\u001b[0m\u001b[0;34m-\u001b[0m\u001b[0;36m1\u001b[0m\u001b[0;34m)\u001b[0m\u001b[0;34m,\u001b[0m \u001b[0mrandom\u001b[0m\u001b[0;34m.\u001b[0m\u001b[0mrandint\u001b[0m\u001b[0;34m(\u001b[0m\u001b[0;36m0\u001b[0m\u001b[0;34m,\u001b[0m \u001b[0mtest_volume\u001b[0m\u001b[0;34m.\u001b[0m\u001b[0mshape\u001b[0m\u001b[0;34m[\u001b[0m\u001b[0;36m2\u001b[0m\u001b[0;34m]\u001b[0m\u001b[0;34m-\u001b[0m\u001b[0;36m1\u001b[0m\u001b[0;34m)\u001b[0m\u001b[0;34m)\u001b[0m\u001b[0;34m,\u001b[0m \u001b[0mdensity\u001b[0m\u001b[0;34m=\u001b[0m\u001b[0mx\u001b[0m\u001b[0;34m)\u001b[0m\u001b[0;34m\u001b[0m\u001b[0;34m\u001b[0m\u001b[0m\n\u001b[0m\u001b[1;32m     14\u001b[0m     \u001b[0mpolyomino\u001b[0m\u001b[0;34m.\u001b[0m\u001b[0mrotate_the_block_3_axes\u001b[0m\u001b[0;34m(\u001b[0m\u001b[0;34m)\u001b[0m\u001b[0;34m\u001b[0m\u001b[0;34m\u001b[0m\u001b[0m\n\u001b[1;32m     15\u001b[0m \u001b[0;34m\u001b[0m\u001b[0m\n",
      "\u001b[0;32m~/OneDrive - Nexus365/RFI/Code/3DTetrisGen/pokemino_generator.py\u001b[0m in \u001b[0;36m__init__\u001b[0;34m(self, seed, size, volume, dim, positioning, density, algorithm, brick_pos_list)\u001b[0m\n\u001b[1;32m    192\u001b[0m     \u001b[0;32mdef\u001b[0m \u001b[0m__init__\u001b[0m\u001b[0;34m(\u001b[0m\u001b[0mself\u001b[0m\u001b[0;34m,\u001b[0m \u001b[0mseed\u001b[0m\u001b[0;34m,\u001b[0m \u001b[0msize\u001b[0m\u001b[0;34m,\u001b[0m \u001b[0mvolume\u001b[0m\u001b[0;34m,\u001b[0m \u001b[0mdim\u001b[0m\u001b[0;34m=\u001b[0m\u001b[0;36m3\u001b[0m\u001b[0;34m,\u001b[0m \u001b[0mpositioning\u001b[0m\u001b[0;34m=\u001b[0m\u001b[0;34m\"central\"\u001b[0m\u001b[0;34m,\u001b[0m \u001b[0mdensity\u001b[0m\u001b[0;34m=\u001b[0m\u001b[0;36m1\u001b[0m\u001b[0;34m,\u001b[0m \u001b[0malgorithm\u001b[0m\u001b[0;34m=\u001b[0m\u001b[0;32mFalse\u001b[0m\u001b[0;34m,\u001b[0m \u001b[0mbrick_pos_list\u001b[0m\u001b[0;34m=\u001b[0m\u001b[0;32mNone\u001b[0m\u001b[0;34m)\u001b[0m\u001b[0;34m:\u001b[0m\u001b[0;34m\u001b[0m\u001b[0;34m\u001b[0m\u001b[0m\n\u001b[1;32m    193\u001b[0m         \u001b[0mself\u001b[0m\u001b[0;34m.\u001b[0m\u001b[0mdim\u001b[0m \u001b[0;34m=\u001b[0m \u001b[0;36m3\u001b[0m\u001b[0;34m\u001b[0m\u001b[0;34m\u001b[0m\u001b[0m\n\u001b[0;32m--> 194\u001b[0;31m         \u001b[0msuper\u001b[0m\u001b[0;34m(\u001b[0m\u001b[0;34m)\u001b[0m\u001b[0;34m.\u001b[0m\u001b[0m__init__\u001b[0m\u001b[0;34m(\u001b[0m\u001b[0mseed\u001b[0m\u001b[0;34m,\u001b[0m \u001b[0msize\u001b[0m\u001b[0;34m,\u001b[0m \u001b[0mvolume\u001b[0m\u001b[0;34m,\u001b[0m \u001b[0mdim\u001b[0m\u001b[0;34m,\u001b[0m \u001b[0mpositioning\u001b[0m\u001b[0;34m,\u001b[0m \u001b[0mdensity\u001b[0m\u001b[0;34m,\u001b[0m \u001b[0malgorithm\u001b[0m\u001b[0;34m,\u001b[0m \u001b[0mbrick_pos_list\u001b[0m\u001b[0;34m)\u001b[0m\u001b[0;34m\u001b[0m\u001b[0;34m\u001b[0m\u001b[0m\n\u001b[0m\u001b[1;32m    195\u001b[0m \u001b[0;34m\u001b[0m\u001b[0m\n\u001b[1;32m    196\u001b[0m     \u001b[0;32mdef\u001b[0m \u001b[0m__repr__\u001b[0m\u001b[0;34m(\u001b[0m\u001b[0mself\u001b[0m\u001b[0;34m)\u001b[0m\u001b[0;34m:\u001b[0m\u001b[0;34m\u001b[0m\u001b[0;34m\u001b[0m\u001b[0m\n",
      "\u001b[0;32m~/OneDrive - Nexus365/RFI/Code/3DTetrisGen/pokemino_generator.py\u001b[0m in \u001b[0;36m__init__\u001b[0;34m(self, seed, size, volume, dim, positioning, density, algorithm, brick_pos_list)\u001b[0m\n\u001b[1;32m     42\u001b[0m \u001b[0;34m\u001b[0m\u001b[0m\n\u001b[1;32m     43\u001b[0m         \u001b[0;32mif\u001b[0m \u001b[0;32mnot\u001b[0m \u001b[0mself\u001b[0m\u001b[0;34m.\u001b[0m\u001b[0malgorithm\u001b[0m\u001b[0;34m:\u001b[0m\u001b[0;34m\u001b[0m\u001b[0;34m\u001b[0m\u001b[0m\n\u001b[0;32m---> 44\u001b[0;31m             \u001b[0;32massert\u001b[0m \u001b[0mlen\u001b[0m\u001b[0;34m(\u001b[0m\u001b[0mbrick_pos_list\u001b[0m\u001b[0;34m)\u001b[0m \u001b[0;34m==\u001b[0m \u001b[0mself\u001b[0m\u001b[0;34m.\u001b[0m\u001b[0msize\u001b[0m\u001b[0;34m,\u001b[0m \u001b[0;34m\"Size declared not matched with len(brick_pos_list)!\"\u001b[0m\u001b[0;34m\u001b[0m\u001b[0;34m\u001b[0m\u001b[0m\n\u001b[0m\u001b[1;32m     45\u001b[0m             \u001b[0;32massert\u001b[0m \u001b[0mall\u001b[0m\u001b[0;34m(\u001b[0m\u001b[0;34m[\u001b[0m\u001b[0misinstance\u001b[0m\u001b[0;34m(\u001b[0m\u001b[0mi\u001b[0m\u001b[0;34m,\u001b[0m \u001b[0mlist\u001b[0m\u001b[0;34m)\u001b[0m \u001b[0;32mfor\u001b[0m \u001b[0mi\u001b[0m \u001b[0;32min\u001b[0m \u001b[0mbrick_pos_list\u001b[0m\u001b[0;34m]\u001b[0m\u001b[0;34m)\u001b[0m\u001b[0;34m,\u001b[0m \u001b[0;34m\"Brick positions passed in an incorrect format!\"\u001b[0m\u001b[0;34m\u001b[0m\u001b[0;34m\u001b[0m\u001b[0m\n\u001b[1;32m     46\u001b[0m             assert all([len(i) == self.dim for i in\n",
      "\u001b[0;31mTypeError\u001b[0m: object of type 'NoneType' has no len()"
     ]
    }
   ],
   "source": [
    "importlib.reload(poke)\n",
    "\n",
    "seeds = [1, 2, 3, 4, 7, 6]\n",
    "n_bricks = [3, 7, 12, 20, 20, 40]\n",
    "\n",
    "n_pokeminos = 200\n",
    "a_volume = 60 \n",
    "test_volume = poke.Volume ((a_volume, a_volume, a_volume))\n",
    "\n",
    "for x in range (n_pokeminos):\n",
    "    random.seed()\n",
    "    no_pokemino=random.randint(0,5)\n",
    "    polyomino = poke.Pokemino3D(seeds[no_pokemino], n_bricks[no_pokemino], test_volume, positioning=(random.randint(0, test_volume.shape[0]-1), random.randint(0, test_volume.shape[1]-1), random.randint(0, test_volume.shape[2]-1)), density=x)\n",
    "    polyomino.rotate_the_block_3_axes()\n",
    "\n",
    "test_volume.check_for_pairwise_overlap()\n",
    "test_volume.fit_all_pokeminos(fit_excluded_volume=True)\n",
    "test_volume.add_extra_volume_to_remove_cuts()\n",
    "test_volume.create_subpixel_resolution_array(5)\n",
    "test_volume.save_as_mrcfile(Path(f'Exp2_S_vs_L_w_Noise/test.mrc'))"
   ]
  },
  {
   "cell_type": "code",
   "execution_count": 115,
   "metadata": {},
   "outputs": [],
   "source": [
    "with open(Path(f'Exp2_S_vs_L_w_Noise/test_description.mrc'), 'w') as f:\n",
    "    writer = csv.writer(f)\n",
    "    writer.writerow(['seed', 'size', 'x', 'y', 'z'])\n",
    "    for creature in test_volume.creatures:\n",
    "        x, y, z = creature.positioning\n",
    "        writer.writerow([creature.seed, creature.size, x, y, z])"
   ]
  },
  {
   "cell_type": "code",
   "execution_count": 38,
   "metadata": {},
   "outputs": [
    {
     "name": "stdout",
     "output_type": "stream",
     "text": [
      "tl, br: [-34. -44.  -3.] [367. 310. 326.]\n"
     ]
    },
    {
     "name": "stderr",
     "output_type": "stream",
     "text": [
      "/Users/anna/OneDrive - Nexus365/RFI/Code/Pokeminos/pokemino_generator.py:236: FutureWarning: Using a non-tuple sequence for multidimensional indexing is deprecated; use `arr[tuple(seq)]` instead of `arr[seq]`. In the future this will be interpreted as an array index, `arr[np.array(seq)]`, which will result either in an error or a different result.\n",
      "  a = np.floor(np.array(pokemino.poke_array.shape) / 2).astype(np.int32)\n"
     ]
    }
   ],
   "source": [
    "importlib.reload(poke)\n",
    "\n",
    "seeds = [1, 2, 3, 4, 5, 6]\n",
    "n_bricks = [3, 7, 12, 20, 20, 400]\n",
    "\n",
    "n_pokeminos = 100\n",
    "a_volume = 300\n",
    "test_volume = poke.Volume((a_volume, a_volume, a_volume))\n",
    "\n",
    "for x in range (n_pokeminos):\n",
    "    random.seed()\n",
    "    no_pokemino=random.randint(0,5)\n",
    "    pokemino = poke.Pokemino3D(seeds[no_pokemino], n_bricks[no_pokemino], test_volume, positioning=(random.randint(0, test_volume.shape[0]-1), random.randint(0, test_volume.shape[1]-1), random.randint(0, test_volume.shape[2]-1)), algorithm=\"clumped\", density=1)\n",
    "    pokemino.upscale_pokemino(5)\n",
    "    pokemino.rotate_the_pokemino_3_axes()\n",
    "\n",
    "test_volume.check_for_pairwise_overlap()\n",
    "test_volume.fit_all_pokeminos()\n",
    "# test_volume.add_extra_volume_to_remove_cuts()\n",
    "\n",
    "test_volume.display_in_napari()\n",
    "#test_volume.save_as_mrcfile(Path(f'Exp3_Custom_Rotations/test.mrc'))"
   ]
  }
 ],
 "metadata": {
  "kernelspec": {
   "display_name": "Python 3",
   "language": "python",
   "name": "python3"
  },
  "language_info": {
   "codemirror_mode": {
    "name": "ipython",
    "version": 3
   },
   "file_extension": ".py",
   "mimetype": "text/x-python",
   "name": "python",
   "nbconvert_exporter": "python",
   "pygments_lexer": "ipython3",
   "version": "3.8.5"
  }
 },
 "nbformat": 4,
 "nbformat_minor": 4
}
