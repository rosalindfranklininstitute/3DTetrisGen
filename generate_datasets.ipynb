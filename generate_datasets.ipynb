{
 "cells": [
  {
   "cell_type": "code",
   "execution_count": 3,
   "metadata": {},
   "outputs": [],
   "source": [
    "import importlib\n",
    "import random\n",
    "import mrcfile\n",
    "import csv\n",
    "import numpy as np\n",
    "from pathlib import Path\n",
    "import napari"
   ]
  },
  {
   "cell_type": "code",
   "execution_count": 4,
   "metadata": {},
   "outputs": [
    {
     "data": {
      "text/plain": [
       "<module 'pokemino_generator' from '/Users/anna/Library/CloudStorage/OneDrive-Nexus365/RFI/Code/Pokeminos/pokemino_generator.py'>"
      ]
     },
     "execution_count": 4,
     "metadata": {},
     "output_type": "execute_result"
    }
   ],
   "source": [
    "import pokemino_generator as poke\n",
    "importlib.reload(poke)"
   ]
  },
  {
   "cell_type": "code",
   "execution_count": 7,
   "metadata": {},
   "outputs": [
    {
     "ename": "FileNotFoundError",
     "evalue": "[Errno 2] No such file or directory: 'DS_6/clefairy-25_118.mrc'",
     "output_type": "error",
     "traceback": [
      "\u001b[0;31m---------------------------------------------------------------------------\u001b[0m",
      "\u001b[0;31mFileNotFoundError\u001b[0m                         Traceback (most recent call last)",
      "\u001b[0;32m<ipython-input-7-9029a5363b7f>\u001b[0m in \u001b[0;36m<module>\u001b[0;34m\u001b[0m\n\u001b[1;32m      1\u001b[0m \u001b[0;31m# Visualise a scrap from the training dataset\u001b[0m\u001b[0;34m\u001b[0m\u001b[0;34m\u001b[0m\u001b[0;34m\u001b[0m\u001b[0m\n\u001b[0;32m----> 2\u001b[0;31m \u001b[0;32mwith\u001b[0m \u001b[0mmrcfile\u001b[0m\u001b[0;34m.\u001b[0m\u001b[0mopen\u001b[0m\u001b[0;34m(\u001b[0m\u001b[0mPath\u001b[0m\u001b[0;34m(\u001b[0m\u001b[0;34m'DS_6/clefairy-25_118.mrc'\u001b[0m\u001b[0;34m)\u001b[0m\u001b[0;34m)\u001b[0m \u001b[0;32mas\u001b[0m \u001b[0mmrc\u001b[0m\u001b[0;34m:\u001b[0m\u001b[0;34m\u001b[0m\u001b[0;34m\u001b[0m\u001b[0m\n\u001b[0m\u001b[1;32m      3\u001b[0m     \u001b[0;32mpass\u001b[0m\u001b[0;34m\u001b[0m\u001b[0;34m\u001b[0m\u001b[0m\n\u001b[1;32m      4\u001b[0m     \u001b[0;31m#mrc.print_header()\u001b[0m\u001b[0;34m\u001b[0m\u001b[0;34m\u001b[0m\u001b[0;34m\u001b[0m\u001b[0m\n",
      "\u001b[0;32m~/opt/anaconda3/lib/python3.8/site-packages/mrcfile/load_functions.py\u001b[0m in \u001b[0;36mopen\u001b[0;34m(name, mode, permissive, header_only)\u001b[0m\n\u001b[1;32m    136\u001b[0m             \u001b[0;32melif\u001b[0m \u001b[0mstart\u001b[0m\u001b[0;34m[\u001b[0m\u001b[0;34m:\u001b[0m\u001b[0;36m2\u001b[0m\u001b[0;34m]\u001b[0m \u001b[0;34m==\u001b[0m \u001b[0;34mb'BZ'\u001b[0m\u001b[0;34m:\u001b[0m\u001b[0;34m\u001b[0m\u001b[0;34m\u001b[0m\u001b[0m\n\u001b[1;32m    137\u001b[0m                 \u001b[0mNewMrc\u001b[0m \u001b[0;34m=\u001b[0m \u001b[0mBzip2MrcFile\u001b[0m\u001b[0;34m\u001b[0m\u001b[0;34m\u001b[0m\u001b[0m\n\u001b[0;32m--> 138\u001b[0;31m     return NewMrc(name, mode=mode, permissive=permissive,\n\u001b[0m\u001b[1;32m    139\u001b[0m                   header_only=header_only)\n\u001b[1;32m    140\u001b[0m \u001b[0;34m\u001b[0m\u001b[0m\n",
      "\u001b[0;32m~/opt/anaconda3/lib/python3.8/site-packages/mrcfile/mrcfile.py\u001b[0m in \u001b[0;36m__init__\u001b[0;34m(self, name, mode, overwrite, permissive, header_only, **kwargs)\u001b[0m\n\u001b[1;32m    106\u001b[0m         \u001b[0mself\u001b[0m\u001b[0;34m.\u001b[0m\u001b[0m_read_only\u001b[0m \u001b[0;34m=\u001b[0m \u001b[0;34m(\u001b[0m\u001b[0mself\u001b[0m\u001b[0;34m.\u001b[0m\u001b[0m_mode\u001b[0m \u001b[0;34m==\u001b[0m \u001b[0;34m'r'\u001b[0m\u001b[0;34m)\u001b[0m\u001b[0;34m\u001b[0m\u001b[0;34m\u001b[0m\u001b[0m\n\u001b[1;32m    107\u001b[0m \u001b[0;34m\u001b[0m\u001b[0m\n\u001b[0;32m--> 108\u001b[0;31m         \u001b[0mself\u001b[0m\u001b[0;34m.\u001b[0m\u001b[0m_open_file\u001b[0m\u001b[0;34m(\u001b[0m\u001b[0mname\u001b[0m\u001b[0;34m)\u001b[0m\u001b[0;34m\u001b[0m\u001b[0;34m\u001b[0m\u001b[0m\n\u001b[0m\u001b[1;32m    109\u001b[0m \u001b[0;34m\u001b[0m\u001b[0m\n\u001b[1;32m    110\u001b[0m         \u001b[0;32mtry\u001b[0m\u001b[0;34m:\u001b[0m\u001b[0;34m\u001b[0m\u001b[0;34m\u001b[0m\u001b[0m\n",
      "\u001b[0;32m~/opt/anaconda3/lib/python3.8/site-packages/mrcfile/mrcfile.py\u001b[0m in \u001b[0;36m_open_file\u001b[0;34m(self, name)\u001b[0m\n\u001b[1;32m    123\u001b[0m     \u001b[0;32mdef\u001b[0m \u001b[0m_open_file\u001b[0m\u001b[0;34m(\u001b[0m\u001b[0mself\u001b[0m\u001b[0;34m,\u001b[0m \u001b[0mname\u001b[0m\u001b[0;34m)\u001b[0m\u001b[0;34m:\u001b[0m\u001b[0;34m\u001b[0m\u001b[0;34m\u001b[0m\u001b[0m\n\u001b[1;32m    124\u001b[0m         \u001b[0;34m\"\"\"Open a file object to use as the I/O stream.\"\"\"\u001b[0m\u001b[0;34m\u001b[0m\u001b[0;34m\u001b[0m\u001b[0m\n\u001b[0;32m--> 125\u001b[0;31m         \u001b[0mself\u001b[0m\u001b[0;34m.\u001b[0m\u001b[0m_iostream\u001b[0m \u001b[0;34m=\u001b[0m \u001b[0mopen\u001b[0m\u001b[0;34m(\u001b[0m\u001b[0mname\u001b[0m\u001b[0;34m,\u001b[0m \u001b[0mself\u001b[0m\u001b[0;34m.\u001b[0m\u001b[0m_mode\u001b[0m \u001b[0;34m+\u001b[0m \u001b[0;34m'b'\u001b[0m\u001b[0;34m)\u001b[0m\u001b[0;34m\u001b[0m\u001b[0;34m\u001b[0m\u001b[0m\n\u001b[0m\u001b[1;32m    126\u001b[0m \u001b[0;34m\u001b[0m\u001b[0m\n\u001b[1;32m    127\u001b[0m     \u001b[0;32mdef\u001b[0m \u001b[0m_read\u001b[0m\u001b[0;34m(\u001b[0m\u001b[0mself\u001b[0m\u001b[0;34m,\u001b[0m \u001b[0mheader_only\u001b[0m\u001b[0;34m=\u001b[0m\u001b[0;32mFalse\u001b[0m\u001b[0;34m)\u001b[0m\u001b[0;34m:\u001b[0m\u001b[0;34m\u001b[0m\u001b[0;34m\u001b[0m\u001b[0m\n",
      "\u001b[0;31mFileNotFoundError\u001b[0m: [Errno 2] No such file or directory: 'DS_6/clefairy-25_118.mrc'"
     ]
    }
   ],
   "source": [
    "# Visualise a scrap from the training dataset\n",
    "with mrcfile.open(Path('DS_6/clefairy-25_118.mrc')) as mrc:\n",
    "    pass\n",
    "    #mrc.print_header()"
   ]
  },
  {
   "cell_type": "markdown",
   "metadata": {},
   "source": [
    "## Visualise all Pokeminos in a dataset"
   ]
  },
  {
   "cell_type": "code",
   "execution_count": 7,
   "metadata": {},
   "outputs": [
    {
     "name": "stdout",
     "output_type": "stream",
     "text": [
      "crowd_factor: 0.1\n"
     ]
    },
    {
     "name": "stderr",
     "output_type": "stream",
     "text": [
      "100%|██████████| 200/200 [00:28<00:00,  7.14it/s]\n",
      "ic| self.ratio: array([1.        , 1.54653877, 1.68881019])\n",
      "    self.colour: array([98.35130935,  1.        ,  0.5168881 ])\n",
      "ic| self.fractal_dim: 2.757939942052502\n",
      "/Users/anna/Library/CloudStorage/OneDrive-Nexus365/RFI/Code/Pokeminos/pokemino_generator.py:385: FutureWarning: Using a non-tuple sequence for multidimensional indexing is deprecated; use `arr[tuple(seq)]` instead of `arr[seq]`. In the future this will be interpreted as an array index, `arr[np.array(seq)]`, which will result either in an error or a different result.\n",
      "  self.array[slices] += pokemino.poke_array\n"
     ]
    },
    {
     "name": "stdout",
     "output_type": "stream",
     "text": [
      "crowd_factor: 0.1\n"
     ]
    },
    {
     "name": "stderr",
     "output_type": "stream",
     "text": [
      "100%|██████████| 200/200 [00:26<00:00,  7.63it/s]\n",
      "ic| self.ratio: array([1.        , 9.62246393, 1.39191114])\n",
      "    self.colour: array([141.96130524,   1.        ,   0.51391911])\n",
      "ic| self.fractal_dim: 2.3964636185535935\n"
     ]
    },
    {
     "name": "stdout",
     "output_type": "stream",
     "text": [
      "crowd_factor: 0.1\n"
     ]
    },
    {
     "name": "stderr",
     "output_type": "stream",
     "text": [
      "100%|██████████| 200/200 [00:22<00:00,  8.97it/s]\n",
      "ic| self.ratio: array([ 1.        , 19.01291509,  1.13374154])\n",
      "    self.colour: array([192.66974151,   1.        ,   0.51133742])\n",
      "ic| self.fractal_dim: 2.310995126181718\n"
     ]
    },
    {
     "name": "stdout",
     "output_type": "stream",
     "text": [
      "crowd_factor: 0.1\n"
     ]
    },
    {
     "name": "stderr",
     "output_type": "stream",
     "text": [
      "100%|██████████| 200/200 [00:23<00:00,  8.52it/s]\n",
      "ic| self.ratio: array([1.        , 6.46034329, 9.06628576])\n",
      "    self.colour: array([124.88585376,   1.        ,   0.59066286])\n",
      "ic| self.fractal_dim: 2.774047034173205\n"
     ]
    },
    {
     "name": "stdout",
     "output_type": "stream",
     "text": [
      "crowd_factor: 0.1\n"
     ]
    },
    {
     "name": "stderr",
     "output_type": "stream",
     "text": [
      "100%|██████████| 200/200 [00:24<00:00,  8.05it/s]\n",
      "ic| self.ratio: array([ 1.        ,  9.20256457, 16.81350607])\n",
      "    self.colour: array([139.69384867,   1.        ,   0.66813506])\n",
      "ic| self.fractal_dim: 2.4672500000983115\n"
     ]
    },
    {
     "name": "stdout",
     "output_type": "stream",
     "text": [
      "crowd_factor: 0.1\n"
     ]
    },
    {
     "name": "stderr",
     "output_type": "stream",
     "text": [
      "100%|██████████| 200/200 [00:23<00:00,  8.43it/s]\n",
      "ic| self.ratio: array([ 1.        , 17.76772255, 18.69963154])\n",
      "    self.colour: array([185.94570179,   1.        ,   0.68699632])\n",
      "ic| self.fractal_dim: 2.423428322816892\n"
     ]
    }
   ],
   "source": [
    "importlib.reload(poke)\n",
    "\n",
    "creatures = [['clefairy', 200, [1, 1, 1]], \n",
    "             ['wooper', 200, [1, 10, 1]], \n",
    "             ['onix', 200, [1, 20, 1]],\n",
    "             ['koffing', 200, [1, 10, 10]], \n",
    "             ['squirtle', 200, [1, 10, 20]],\n",
    "             ['eevee', 200, [1, 20, 20]]]\n",
    "\n",
    "colours = []\n",
    "\n",
    "a = 28\n",
    "volume = poke.Volume((a*len(creatures), a, a))\n",
    "\n",
    "for i, creature in enumerate(creatures):\n",
    "    random.seed()\n",
    "    seed, size, target_ratio = creature\n",
    "    pokemino = poke.Pokemino3D(size=size, volume=volume, seed=seed, crowd_factor=0.1, target_ratio=target_ratio, positioning=(int(a/2 + a*i), int(a/2), int(a/2)), algorithm=\"biased\")\n",
    "    colours.append(pokemino.colour)\n",
    "    #pokemino.upscale_pokemino(3)\n",
    "    #pokemino.rotate_the_pokemino_3_axes()\n",
    "    volume.fit_pokemino(pokemino)\n",
    "\n",
    "volume.save_as_mrcfile('DS_7_pokemino_clases.mrc')\n",
    "                               \n",
    "with mrcfile.open(Path('DS_7_pokemino_clases.mrc')) as mrc:\n",
    "    viewer = napari.view_image(mrc.data)\n",
    "                               "
   ]
  },
  {
   "cell_type": "markdown",
   "metadata": {},
   "source": [
    "# 0. Reference Dataset"
   ]
  },
  {
   "cell_type": "code",
   "execution_count": 18,
   "metadata": {},
   "outputs": [
    {
     "data": {
      "text/plain": [
       "<module 'pokemino_generator' from '/Users/anna/OneDrive - Nexus365/RFI/Code/Pokeminos/pokemino_generator.py'>"
      ]
     },
     "execution_count": 18,
     "metadata": {},
     "output_type": "execute_result"
    }
   ],
   "source": [
    "importlib.reload(poke)\n",
    "\n",
    "seeds = [1, 2, 3, 4, 5, 6]\n",
    "n_bricks = [3, 7, 12, 20, 20, 40]\n",
    "\n",
    "n_pokeminos = 1000\n",
    "a_volume = 50\n",
    "\n",
    "for x in range (n_pokeminos):\n",
    "    random.seed()\n",
    "    no_pokemino=random.randint(0,5)\n",
    "    volume = poke.Volume((a_volume, a_volume, a_volume))\n",
    "    pokemino = poke.Pokemino3D(seeds[no_pokemino], n_bricks[no_pokemino], volume, positioning=([int(a_volume/2)]*3), algorithm=\"clumped\", density=1)\n",
    "    pokemino.upscale_pokemino(5)\n",
    "    pokemino.rotate_the_pokemino_3_axes()\n",
    "    volume.fit_pokemino(pokemino)\n",
    "    volume.save_as_mrcfile(Path(f'DS_0/{seeds[no_pokemino]}_{x}.mrc'))\n",
    "\n",
    "importlib.reload(poke)"
   ]
  },
  {
   "cell_type": "markdown",
   "metadata": {},
   "source": [
    "# 1. Same as 0. but with Pokemon names as seeds."
   ]
  },
  {
   "cell_type": "code",
   "execution_count": 9,
   "metadata": {},
   "outputs": [],
   "source": [
    "importlib.reload(poke)\n",
    "\n",
    "creatures = [['pidgeot', 3], \n",
    "             ['wooper', 7], \n",
    "             ['gengard', 10],\n",
    "             ['charizard', 20], \n",
    "             ['squirtle', 20],\n",
    "             ['snorlax', 40]]\n",
    "\n",
    "n_pokeminos = 1000\n",
    "a_volume = 50\n",
    "\n",
    "for x in range (n_pokeminos):\n",
    "    random.seed()\n",
    "    creature, size = random.choice(creatures)\n",
    "    volume = poke.Volume((a_volume, a_volume, a_volume))\n",
    "    pokemino = poke.Pokemino3D(creature, size, volume, positioning=([int(a_volume/2)]*3), algorithm=\"clumped\", density=1)\n",
    "    pokemino.upscale_pokemino(5)\n",
    "    pokemino.rotate_the_pokemino_3_axes()\n",
    "    volume.fit_pokemino(pokemino)\n",
    "    volume.save_as_mrcfile(Path(f'DS_1/{creature}{str(size)}_{x}.mrc'))"
   ]
  },
  {
   "cell_type": "markdown",
   "metadata": {},
   "source": [
    "# 2. Include Empty Instances"
   ]
  },
  {
   "cell_type": "code",
   "execution_count": 6,
   "metadata": {},
   "outputs": [],
   "source": [
    "importlib.reload(poke)\n",
    "\n",
    "creatures = [['pidgeot', 3], \n",
    "             ['wooper', 7], \n",
    "             ['gengard', 10],\n",
    "             ['charizard', 20], \n",
    "             ['squirtle', 20],\n",
    "             ['snorlax', 40],\n",
    "             ['empty', 0]]\n",
    "\n",
    "n_pokeminos = 1000\n",
    "a_volume = 50\n",
    "\n",
    "for x in range (n_pokeminos):\n",
    "    random.seed()\n",
    "    creature, size = random.choice(creatures)\n",
    "    volume = poke.Volume((a_volume, a_volume, a_volume))\n",
    "    if creature != 'empty':\n",
    "        pokemino = poke.Pokemino3D(creature, size, volume, positioning=([int(a_volume/2)]*3), algorithm=\"clumped\", density=1)\n",
    "        pokemino.upscale_pokemino(5)\n",
    "        pokemino.rotate_the_pokemino_3_axes()\n",
    "        volume.fit_pokemino(pokemino)\n",
    "    volume.save_as_mrcfile(Path(f'DS_2/{creature}-{size}_{x}.mrc'))"
   ]
  },
  {
   "cell_type": "markdown",
   "metadata": {},
   "source": [
    "## 3. Change Volume shape to 48x48x48 to make patch extraction symmetric"
   ]
  },
  {
   "cell_type": "code",
   "execution_count": 3,
   "metadata": {},
   "outputs": [
    {
     "name": "stderr",
     "output_type": "stream",
     "text": [
      "/Users/anna/OneDrive - Nexus365/RFI/Code/Pokeminos/pokemino_generator.py:233: FutureWarning: Using a non-tuple sequence for multidimensional indexing is deprecated; use `arr[tuple(seq)]` instead of `arr[seq]`. In the future this will be interpreted as an array index, `arr[np.array(seq)]`, which will result either in an error or a different result.\n",
      "  self.array[slices] += pokemino.poke_array\n"
     ]
    }
   ],
   "source": [
    "importlib.reload(poke)\n",
    "\n",
    "creatures = [['pidgeot', 3], \n",
    "             ['wooper', 7], \n",
    "             ['gengard', 10],\n",
    "             ['charizard', 20], \n",
    "             ['squirtle', 20],\n",
    "             ['snorlax', 40]]\n",
    "\n",
    "n_pokeminos = 1000\n",
    "a_volume = 48\n",
    "\n",
    "for x in range (n_pokeminos):\n",
    "    random.seed()\n",
    "    creature, size = random.choice(creatures)\n",
    "    volume = poke.Volume((a_volume, a_volume, a_volume))\n",
    "    pokemino = poke.Pokemino3D(creature, size, volume, positioning=([int(a_volume/2)]*3), algorithm=\"clumped\", density=1)\n",
    "    pokemino.upscale_pokemino(5)\n",
    "    pokemino.rotate_the_pokemino_3_axes()\n",
    "    volume.fit_pokemino(pokemino)\n",
    "    volume.save_as_mrcfile(Path(f'DS_3/{creature}-{size}_{x}.mrc'))"
   ]
  },
  {
   "cell_type": "markdown",
   "metadata": {},
   "source": [
    "## 4. Include Empty Instances and Make Bigger"
   ]
  },
  {
   "cell_type": "code",
   "execution_count": 12,
   "metadata": {},
   "outputs": [],
   "source": [
    "importlib.reload(poke)\n",
    "\n",
    "creatures = [['pidgeot', 3], \n",
    "             ['wooper', 7], \n",
    "             ['gengard', 10],\n",
    "             ['charizard', 20], \n",
    "             ['squirtle', 20],\n",
    "             ['snorlax', 40],\n",
    "             ['empty', 0]]\n",
    "\n",
    "n_pokeminos = 200\n",
    "a_volume = 78\n",
    "\n",
    "for x in range (n_pokeminos):\n",
    "    random.seed()\n",
    "    creature, size = random.choice(creatures)\n",
    "    volume = poke.Volume((a_volume, a_volume, a_volume))\n",
    "    if creature != 'empty':\n",
    "        pokemino = poke.Pokemino3D(creature, size, volume, positioning=([int(a_volume/2)]*3), algorithm=\"clumped\", density=1)\n",
    "        pokemino.upscale_pokemino(5)\n",
    "        pokemino.rotate_the_pokemino_3_axes()\n",
    "        volume.fit_pokemino(pokemino)\n",
    "    volume.save_as_mrcfile(Path(f'DS_4/{creature}-{size}_{x}.mrc'))"
   ]
  },
  {
   "cell_type": "markdown",
   "metadata": {},
   "source": [
    "## 5. Single patch Pokeminos"
   ]
  },
  {
   "cell_type": "markdown",
   "metadata": {},
   "source": [
    "I had to decrease snorlax to fit inside the 28x28x28 volume"
   ]
  },
  {
   "cell_type": "markdown",
   "metadata": {},
   "source": [
    "This code is lost :)) "
   ]
  },
  {
   "cell_type": "markdown",
   "metadata": {},
   "source": [
    "## 6. Single-patch, single-size Pokeminos"
   ]
  },
  {
   "cell_type": "code",
   "execution_count": null,
   "metadata": {},
   "outputs": [],
   "source": [
    "importlib.reload(poke)\n",
    "\n",
    "creatures = [['clefairy', 25, 'extended'], \n",
    "             ['wooper', 25, 'extended'], \n",
    "             ['onix', 25, 'extended'],\n",
    "             ['koffing', 25, 'clumped'], \n",
    "             ['squirtle', 25, 'clumped'],\n",
    "             ['eevee', 25, 'clumped']]\n",
    "\n",
    "n_pokeminos = 1000\n",
    "a_volume = 28\n",
    "\n",
    "for x in range (n_pokeminos):\n",
    "    random.seed()\n",
    "    creature, size, algorithm = random.choice(creatures)\n",
    "    volume = poke.Volume((a_volume, a_volume, a_volume))\n",
    "    pokemino = poke.Pokemino3D(creature, size, volume, positioning=([int(a_volume/2)]*3), algorithm=algorithm, density=1)\n",
    "    pokemino.upscale_pokemino(3)\n",
    "    theta_x, theta_y, theta_z = pokemino.rotate_the_pokemino_3_axes()\n",
    "    volume.fit_pokemino(pokemino)\n",
    "    with mrcfile.new(Path(f'DS_6/{creature}-{size}_{x}.mrc')) as mrc:\n",
    "        mrc.set_data(volume.array)\n",
    "        mrc.header.exttyp = np.int8\n",
    "        mrc.set_extended_header({'theta_x': theta_x, 'theta_y': theta_y, 'theta_z': theta_z})"
   ]
  },
  {
   "cell_type": "markdown",
   "metadata": {},
   "source": [
    "## 7. First biased Pokeminos"
   ]
  },
  {
   "cell_type": "code",
   "execution_count": null,
   "metadata": {},
   "outputs": [],
   "source": []
  },
  {
   "cell_type": "markdown",
   "metadata": {},
   "source": [
    "## Exp1_S_vs_L"
   ]
  },
  {
   "cell_type": "markdown",
   "metadata": {},
   "source": [
    "### Create a training set"
   ]
  },
  {
   "cell_type": "code",
   "execution_count": 2,
   "metadata": {},
   "outputs": [
    {
     "ename": "AttributeError",
     "evalue": "module 'pokemino_generator' has no attribute 'THETA_EACH_90'",
     "output_type": "error",
     "traceback": [
      "\u001b[0;31m---------------------------------------------------------------------------\u001b[0m",
      "\u001b[0;31mAttributeError\u001b[0m                            Traceback (most recent call last)",
      "\u001b[0;32m<ipython-input-2-31bec0214f50>\u001b[0m in \u001b[0;36m<module>\u001b[0;34m\u001b[0m\n\u001b[1;32m      5\u001b[0m \u001b[0;34m\u001b[0m\u001b[0m\n\u001b[1;32m      6\u001b[0m \u001b[0;32mfor\u001b[0m \u001b[0mseed\u001b[0m\u001b[0;34m,\u001b[0m \u001b[0msize\u001b[0m \u001b[0;32min\u001b[0m \u001b[0mzip\u001b[0m\u001b[0;34m(\u001b[0m\u001b[0mseeds\u001b[0m\u001b[0;34m,\u001b[0m \u001b[0mn_bricks\u001b[0m\u001b[0;34m)\u001b[0m\u001b[0;34m:\u001b[0m\u001b[0;34m\u001b[0m\u001b[0;34m\u001b[0m\u001b[0m\n\u001b[0;32m----> 7\u001b[0;31m     \u001b[0;32mfor\u001b[0m \u001b[0mtheta_x\u001b[0m \u001b[0;32min\u001b[0m \u001b[0mpoke\u001b[0m\u001b[0;34m.\u001b[0m\u001b[0mTHETA_EACH_90\u001b[0m\u001b[0;34m:\u001b[0m\u001b[0;34m\u001b[0m\u001b[0;34m\u001b[0m\u001b[0m\n\u001b[0m\u001b[1;32m      8\u001b[0m         \u001b[0;32mfor\u001b[0m \u001b[0mtheta_y\u001b[0m \u001b[0;32min\u001b[0m \u001b[0mpoke\u001b[0m\u001b[0;34m.\u001b[0m\u001b[0mTHETA_EACH_90\u001b[0m\u001b[0;34m:\u001b[0m\u001b[0;34m\u001b[0m\u001b[0;34m\u001b[0m\u001b[0m\n\u001b[1;32m      9\u001b[0m             \u001b[0;32mfor\u001b[0m \u001b[0mtheta_z\u001b[0m \u001b[0;32min\u001b[0m \u001b[0mpoke\u001b[0m\u001b[0;34m.\u001b[0m\u001b[0mTHETA_EACH_90\u001b[0m\u001b[0;34m:\u001b[0m\u001b[0;34m\u001b[0m\u001b[0;34m\u001b[0m\u001b[0m\n",
      "\u001b[0;31mAttributeError\u001b[0m: module 'pokemino_generator' has no attribute 'THETA_EACH_90'"
     ]
    }
   ],
   "source": [
    "importlib.reload(poke)\n",
    "\n",
    "seeds = [1, 2, 3, 4, 5, 6]\n",
    "n_bricks = [3, 7, 12, 20, 20, 40]\n",
    "THETA_EACH_90 = [0, 90, 180, 270]\n",
    "\n",
    "for seed, size in zip(seeds, n_bricks):\n",
    "    for theta_x in THETA_EACH_90:\n",
    "        for theta_y in THETA_EACH_90:\n",
    "            for theta_z in THETA_EACH_90:\n",
    "                volume = poke.Volume ((10, 10, 10))\n",
    "                pokemino = poke.Pokemino3D(seed, size, volume, algorithm = \"extended\")\n",
    "                pokemino.rotate_the_block_1_axis(axis=0, theta=theta_z)\n",
    "                pokemino.rotate_the_block_1_axis(axis=1, theta=theta_x)\n",
    "                pokemino.rotate_the_block_1_axis(axis=2, theta=theta_y)\n",
    "                volume.fit_pokemino(pokemino)\n",
    "                volume.create_subpixel_resolution_array(5)\n",
    "                volume.save_as_mrcfile(Path(f'Exp1_S_vs_L/{seed}_{size}_{theta_z}_{theta_x}_{theta_y}.mrc'))"
   ]
  },
  {
   "cell_type": "code",
   "execution_count": 22,
   "metadata": {},
   "outputs": [],
   "source": [
    "# Visualise a scrap from the training dataset\n",
    "with mrcfile.open(Path('DS_0_all_pokeminos.mrc')) as mrc:\n",
    "    viewer = napari.view_image(mrc.data)"
   ]
  },
  {
   "cell_type": "markdown",
   "metadata": {},
   "source": [
    "### Create a test set"
   ]
  },
  {
   "cell_type": "code",
   "execution_count": 9,
   "metadata": {},
   "outputs": [],
   "source": [
    "importlib.reload(poke)\n",
    "\n",
    "seeds = [1, 2, 3, 4, 7, 6]\n",
    "n_bricks = [3, 7, 12, 20, 20, 40]\n",
    "\n",
    "max_size = 10\n",
    "j, k, l = 2, 10, 10 # numbers of polyominos on a regular grid in each dimension\n",
    "\n",
    "test_volume = poke.Volume((max_size * j, max_size * k, max_size * l))\n",
    "\n",
    "for x in range (j):\n",
    "    for y in range (k):\n",
    "        for z in range (l):\n",
    "            random.seed()\n",
    "            no_pokemino=random.randint(0,5)\n",
    "            pokemino = poke.Pokemino3D(seeds[no_pokemino], n_bricks[no_pokemino], test_volume, positioning = (int(max_size*(x+0.5)), int(max_size*(y+0.5)), int(max_size*(z+0.5))))\n",
    "            pokemino.rotate_the_block_3_axes()\n",
    "\n",
    "test_volume.fit_all_pokeminos()\n",
    "test_volume.create_subpixel_resolution_array(5)\n",
    "test_volume.save_as_mrcfile(Path(f'Exp1_S_vs_L/test.mrc'))\n",
    "test_volume.display_in_napari()"
   ]
  },
  {
   "cell_type": "code",
   "execution_count": 10,
   "metadata": {},
   "outputs": [],
   "source": [
    "with open(Path(f'Exp1_S_vs_L/test_description.mrc'), 'w') as f:\n",
    "    writer = csv.writer(f)\n",
    "    writer.writerow(['seed', 'size', 'x', 'y', 'z'])\n",
    "    for creature in test_volume.creatures:\n",
    "        x, y, z = creature.positioning\n",
    "        writer.writerow([creature.seed, creature.size, x, y, z])"
   ]
  },
  {
   "cell_type": "markdown",
   "metadata": {},
   "source": [
    "## Exp2_S_vs_L_w_Noise"
   ]
  },
  {
   "cell_type": "markdown",
   "metadata": {},
   "source": [
    "### Create a test set"
   ]
  },
  {
   "cell_type": "code",
   "execution_count": 2,
   "metadata": {},
   "outputs": [
    {
     "ename": "TypeError",
     "evalue": "object of type 'NoneType' has no len()",
     "output_type": "error",
     "traceback": [
      "\u001b[0;31m---------------------------------------------------------------------------\u001b[0m",
      "\u001b[0;31mTypeError\u001b[0m                                 Traceback (most recent call last)",
      "\u001b[0;32m<ipython-input-2-dffce44f141c>\u001b[0m in \u001b[0;36m<module>\u001b[0;34m\u001b[0m\n\u001b[1;32m     11\u001b[0m     \u001b[0mrandom\u001b[0m\u001b[0;34m.\u001b[0m\u001b[0mseed\u001b[0m\u001b[0;34m(\u001b[0m\u001b[0;34m)\u001b[0m\u001b[0;34m\u001b[0m\u001b[0;34m\u001b[0m\u001b[0m\n\u001b[1;32m     12\u001b[0m     \u001b[0mno_pokemino\u001b[0m\u001b[0;34m=\u001b[0m\u001b[0mrandom\u001b[0m\u001b[0;34m.\u001b[0m\u001b[0mrandint\u001b[0m\u001b[0;34m(\u001b[0m\u001b[0;36m0\u001b[0m\u001b[0;34m,\u001b[0m\u001b[0;36m5\u001b[0m\u001b[0;34m)\u001b[0m\u001b[0;34m\u001b[0m\u001b[0;34m\u001b[0m\u001b[0m\n\u001b[0;32m---> 13\u001b[0;31m     \u001b[0mpolyomino\u001b[0m \u001b[0;34m=\u001b[0m \u001b[0mpoke\u001b[0m\u001b[0;34m.\u001b[0m\u001b[0mPokemino3D\u001b[0m\u001b[0;34m(\u001b[0m\u001b[0mseeds\u001b[0m\u001b[0;34m[\u001b[0m\u001b[0mno_pokemino\u001b[0m\u001b[0;34m]\u001b[0m\u001b[0;34m,\u001b[0m \u001b[0mn_bricks\u001b[0m\u001b[0;34m[\u001b[0m\u001b[0mno_pokemino\u001b[0m\u001b[0;34m]\u001b[0m\u001b[0;34m,\u001b[0m \u001b[0mtest_volume\u001b[0m\u001b[0;34m,\u001b[0m \u001b[0mpositioning\u001b[0m\u001b[0;34m=\u001b[0m\u001b[0;34m(\u001b[0m\u001b[0mrandom\u001b[0m\u001b[0;34m.\u001b[0m\u001b[0mrandint\u001b[0m\u001b[0;34m(\u001b[0m\u001b[0;36m0\u001b[0m\u001b[0;34m,\u001b[0m \u001b[0mtest_volume\u001b[0m\u001b[0;34m.\u001b[0m\u001b[0mshape\u001b[0m\u001b[0;34m[\u001b[0m\u001b[0;36m0\u001b[0m\u001b[0;34m]\u001b[0m\u001b[0;34m-\u001b[0m\u001b[0;36m1\u001b[0m\u001b[0;34m)\u001b[0m\u001b[0;34m,\u001b[0m \u001b[0mrandom\u001b[0m\u001b[0;34m.\u001b[0m\u001b[0mrandint\u001b[0m\u001b[0;34m(\u001b[0m\u001b[0;36m0\u001b[0m\u001b[0;34m,\u001b[0m \u001b[0mtest_volume\u001b[0m\u001b[0;34m.\u001b[0m\u001b[0mshape\u001b[0m\u001b[0;34m[\u001b[0m\u001b[0;36m1\u001b[0m\u001b[0;34m]\u001b[0m\u001b[0;34m-\u001b[0m\u001b[0;36m1\u001b[0m\u001b[0;34m)\u001b[0m\u001b[0;34m,\u001b[0m \u001b[0mrandom\u001b[0m\u001b[0;34m.\u001b[0m\u001b[0mrandint\u001b[0m\u001b[0;34m(\u001b[0m\u001b[0;36m0\u001b[0m\u001b[0;34m,\u001b[0m \u001b[0mtest_volume\u001b[0m\u001b[0;34m.\u001b[0m\u001b[0mshape\u001b[0m\u001b[0;34m[\u001b[0m\u001b[0;36m2\u001b[0m\u001b[0;34m]\u001b[0m\u001b[0;34m-\u001b[0m\u001b[0;36m1\u001b[0m\u001b[0;34m)\u001b[0m\u001b[0;34m)\u001b[0m\u001b[0;34m,\u001b[0m \u001b[0mdensity\u001b[0m\u001b[0;34m=\u001b[0m\u001b[0mx\u001b[0m\u001b[0;34m)\u001b[0m\u001b[0;34m\u001b[0m\u001b[0;34m\u001b[0m\u001b[0m\n\u001b[0m\u001b[1;32m     14\u001b[0m     \u001b[0mpolyomino\u001b[0m\u001b[0;34m.\u001b[0m\u001b[0mrotate_the_block_3_axes\u001b[0m\u001b[0;34m(\u001b[0m\u001b[0;34m)\u001b[0m\u001b[0;34m\u001b[0m\u001b[0;34m\u001b[0m\u001b[0m\n\u001b[1;32m     15\u001b[0m \u001b[0;34m\u001b[0m\u001b[0m\n",
      "\u001b[0;32m~/OneDrive - Nexus365/RFI/Code/3DTetrisGen/pokemino_generator.py\u001b[0m in \u001b[0;36m__init__\u001b[0;34m(self, seed, size, volume, dim, positioning, density, algorithm, brick_pos_list)\u001b[0m\n\u001b[1;32m    192\u001b[0m     \u001b[0;32mdef\u001b[0m \u001b[0m__init__\u001b[0m\u001b[0;34m(\u001b[0m\u001b[0mself\u001b[0m\u001b[0;34m,\u001b[0m \u001b[0mseed\u001b[0m\u001b[0;34m,\u001b[0m \u001b[0msize\u001b[0m\u001b[0;34m,\u001b[0m \u001b[0mvolume\u001b[0m\u001b[0;34m,\u001b[0m \u001b[0mdim\u001b[0m\u001b[0;34m=\u001b[0m\u001b[0;36m3\u001b[0m\u001b[0;34m,\u001b[0m \u001b[0mpositioning\u001b[0m\u001b[0;34m=\u001b[0m\u001b[0;34m\"central\"\u001b[0m\u001b[0;34m,\u001b[0m \u001b[0mdensity\u001b[0m\u001b[0;34m=\u001b[0m\u001b[0;36m1\u001b[0m\u001b[0;34m,\u001b[0m \u001b[0malgorithm\u001b[0m\u001b[0;34m=\u001b[0m\u001b[0;32mFalse\u001b[0m\u001b[0;34m,\u001b[0m \u001b[0mbrick_pos_list\u001b[0m\u001b[0;34m=\u001b[0m\u001b[0;32mNone\u001b[0m\u001b[0;34m)\u001b[0m\u001b[0;34m:\u001b[0m\u001b[0;34m\u001b[0m\u001b[0;34m\u001b[0m\u001b[0m\n\u001b[1;32m    193\u001b[0m         \u001b[0mself\u001b[0m\u001b[0;34m.\u001b[0m\u001b[0mdim\u001b[0m \u001b[0;34m=\u001b[0m \u001b[0;36m3\u001b[0m\u001b[0;34m\u001b[0m\u001b[0;34m\u001b[0m\u001b[0m\n\u001b[0;32m--> 194\u001b[0;31m         \u001b[0msuper\u001b[0m\u001b[0;34m(\u001b[0m\u001b[0;34m)\u001b[0m\u001b[0;34m.\u001b[0m\u001b[0m__init__\u001b[0m\u001b[0;34m(\u001b[0m\u001b[0mseed\u001b[0m\u001b[0;34m,\u001b[0m \u001b[0msize\u001b[0m\u001b[0;34m,\u001b[0m \u001b[0mvolume\u001b[0m\u001b[0;34m,\u001b[0m \u001b[0mdim\u001b[0m\u001b[0;34m,\u001b[0m \u001b[0mpositioning\u001b[0m\u001b[0;34m,\u001b[0m \u001b[0mdensity\u001b[0m\u001b[0;34m,\u001b[0m \u001b[0malgorithm\u001b[0m\u001b[0;34m,\u001b[0m \u001b[0mbrick_pos_list\u001b[0m\u001b[0;34m)\u001b[0m\u001b[0;34m\u001b[0m\u001b[0;34m\u001b[0m\u001b[0m\n\u001b[0m\u001b[1;32m    195\u001b[0m \u001b[0;34m\u001b[0m\u001b[0m\n\u001b[1;32m    196\u001b[0m     \u001b[0;32mdef\u001b[0m \u001b[0m__repr__\u001b[0m\u001b[0;34m(\u001b[0m\u001b[0mself\u001b[0m\u001b[0;34m)\u001b[0m\u001b[0;34m:\u001b[0m\u001b[0;34m\u001b[0m\u001b[0;34m\u001b[0m\u001b[0m\n",
      "\u001b[0;32m~/OneDrive - Nexus365/RFI/Code/3DTetrisGen/pokemino_generator.py\u001b[0m in \u001b[0;36m__init__\u001b[0;34m(self, seed, size, volume, dim, positioning, density, algorithm, brick_pos_list)\u001b[0m\n\u001b[1;32m     42\u001b[0m \u001b[0;34m\u001b[0m\u001b[0m\n\u001b[1;32m     43\u001b[0m         \u001b[0;32mif\u001b[0m \u001b[0;32mnot\u001b[0m \u001b[0mself\u001b[0m\u001b[0;34m.\u001b[0m\u001b[0malgorithm\u001b[0m\u001b[0;34m:\u001b[0m\u001b[0;34m\u001b[0m\u001b[0;34m\u001b[0m\u001b[0m\n\u001b[0;32m---> 44\u001b[0;31m             \u001b[0;32massert\u001b[0m \u001b[0mlen\u001b[0m\u001b[0;34m(\u001b[0m\u001b[0mbrick_pos_list\u001b[0m\u001b[0;34m)\u001b[0m \u001b[0;34m==\u001b[0m \u001b[0mself\u001b[0m\u001b[0;34m.\u001b[0m\u001b[0msize\u001b[0m\u001b[0;34m,\u001b[0m \u001b[0;34m\"Size declared not matched with len(brick_pos_list)!\"\u001b[0m\u001b[0;34m\u001b[0m\u001b[0;34m\u001b[0m\u001b[0m\n\u001b[0m\u001b[1;32m     45\u001b[0m             \u001b[0;32massert\u001b[0m \u001b[0mall\u001b[0m\u001b[0;34m(\u001b[0m\u001b[0;34m[\u001b[0m\u001b[0misinstance\u001b[0m\u001b[0;34m(\u001b[0m\u001b[0mi\u001b[0m\u001b[0;34m,\u001b[0m \u001b[0mlist\u001b[0m\u001b[0;34m)\u001b[0m \u001b[0;32mfor\u001b[0m \u001b[0mi\u001b[0m \u001b[0;32min\u001b[0m \u001b[0mbrick_pos_list\u001b[0m\u001b[0;34m]\u001b[0m\u001b[0;34m)\u001b[0m\u001b[0;34m,\u001b[0m \u001b[0;34m\"Brick positions passed in an incorrect format!\"\u001b[0m\u001b[0;34m\u001b[0m\u001b[0;34m\u001b[0m\u001b[0m\n\u001b[1;32m     46\u001b[0m             assert all([len(i) == self.dim for i in\n",
      "\u001b[0;31mTypeError\u001b[0m: object of type 'NoneType' has no len()"
     ]
    }
   ],
   "source": [
    "importlib.reload(poke)\n",
    "\n",
    "seeds = [1, 2, 3, 4, 7, 6]\n",
    "n_bricks = [3, 7, 12, 20, 20, 40]\n",
    "\n",
    "n_pokeminos = 200\n",
    "a_volume = 60 \n",
    "test_volume = poke.Volume ((a_volume, a_volume, a_volume))\n",
    "\n",
    "for x in range (n_pokeminos):\n",
    "    random.seed()\n",
    "    no_pokemino=random.randint(0,5)\n",
    "    polyomino = poke.Pokemino3D(seeds[no_pokemino], n_bricks[no_pokemino], test_volume, positioning=(random.randint(0, test_volume.shape[0]-1), random.randint(0, test_volume.shape[1]-1), random.randint(0, test_volume.shape[2]-1)), density=x)\n",
    "    polyomino.rotate_the_block_3_axes()\n",
    "\n",
    "test_volume.check_for_pairwise_overlap()\n",
    "test_volume.fit_all_pokeminos(fit_excluded_volume=True)\n",
    "test_volume.add_extra_volume_to_remove_cuts()\n",
    "test_volume.create_subpixel_resolution_array(5)\n",
    "test_volume.save_as_mrcfile(Path(f'Exp2_S_vs_L_w_Noise/test.mrc'))"
   ]
  },
  {
   "cell_type": "code",
   "execution_count": null,
   "metadata": {},
   "outputs": [],
   "source": [
    "test_volume.display_in_napari()"
   ]
  },
  {
   "cell_type": "code",
   "execution_count": 115,
   "metadata": {},
   "outputs": [],
   "source": [
    "with open(Path(f'Exp2_S_vs_L_w_Noise/test_description.mrc'), 'w') as f:\n",
    "    writer = csv.writer(f)\n",
    "    writer.writerow(['seed', 'size', 'x', 'y', 'z'])\n",
    "    for creature in test_volume.creatures:\n",
    "        x, y, z = creature.positioning\n",
    "        writer.writerow([creature.seed, creature.size, x, y, z])"
   ]
  },
  {
   "cell_type": "markdown",
   "metadata": {},
   "source": [
    "# Exp3_Custom_Rotations"
   ]
  },
  {
   "cell_type": "markdown",
   "metadata": {},
   "source": [
    "## Test image"
   ]
  },
  {
   "cell_type": "code",
   "execution_count": 38,
   "metadata": {},
   "outputs": [
    {
     "name": "stdout",
     "output_type": "stream",
     "text": [
      "tl, br: [-34. -44.  -3.] [367. 310. 326.]\n"
     ]
    },
    {
     "name": "stderr",
     "output_type": "stream",
     "text": [
      "/Users/anna/OneDrive - Nexus365/RFI/Code/Pokeminos/pokemino_generator.py:236: FutureWarning: Using a non-tuple sequence for multidimensional indexing is deprecated; use `arr[tuple(seq)]` instead of `arr[seq]`. In the future this will be interpreted as an array index, `arr[np.array(seq)]`, which will result either in an error or a different result.\n",
      "  a = np.floor(np.array(pokemino.poke_array.shape) / 2).astype(np.int32)\n"
     ]
    }
   ],
   "source": [
    "importlib.reload(poke)\n",
    "\n",
    "seeds = [1, 2, 3, 4, 5, 6]\n",
    "n_bricks = [3, 7, 12, 20, 20, 400]\n",
    "\n",
    "n_pokeminos = 100\n",
    "a_volume = 300\n",
    "test_volume = poke.Volume((a_volume, a_volume, a_volume))\n",
    "\n",
    "for x in range (n_pokeminos):\n",
    "    random.seed()\n",
    "    no_pokemino=random.randint(0,5)\n",
    "    pokemino = poke.Pokemino3D(seeds[no_pokemino], n_bricks[no_pokemino], test_volume, positioning=(random.randint(0, test_volume.shape[0]-1), random.randint(0, test_volume.shape[1]-1), random.randint(0, test_volume.shape[2]-1)), algorithm=\"clumped\", density=1)\n",
    "    pokemino.upscale_pokemino(5)\n",
    "    pokemino.rotate_the_pokemino_3_axes()\n",
    "\n",
    "test_volume.check_for_pairwise_overlap()\n",
    "test_volume.fit_all_pokeminos()\n",
    "# test_volume.add_extra_volume_to_remove_cuts()\n",
    "\n",
    "test_volume.display_in_napari()\n",
    "#test_volume.save_as_mrcfile(Path(f'Exp3_Custom_Rotations/test.mrc'))"
   ]
  },
  {
   "cell_type": "code",
   "execution_count": 35,
   "metadata": {},
   "outputs": [
    {
     "data": {
      "text/plain": [
       "100"
      ]
     },
     "execution_count": 35,
     "metadata": {},
     "output_type": "execute_result"
    }
   ],
   "source": [
    "test_volume.i"
   ]
  },
  {
   "cell_type": "markdown",
   "metadata": {},
   "source": [
    "### Create a training set"
   ]
  },
  {
   "cell_type": "code",
   "execution_count": 11,
   "metadata": {},
   "outputs": [
    {
     "name": "stdout",
     "output_type": "stream",
     "text": [
      "Before moving apart: [299 304 144] [298 288 149]\n",
      "After moving apart: [299 304 144] [298 284 149]\n",
      "Before moving apart: [65 55 13] [68 51 12]\n",
      "After moving apart: [61 61 15] [70 47 12]\n",
      "Before moving apart: [210 260 141] [204 252 146]\n",
      "After moving apart: [211 262 140] [202 252 148]\n",
      "Before moving apart: [392 383 396] [383 367 384]\n",
      "After moving apart: [392 385 401] [382 364 383]\n",
      "Before moving apart: [392 385 401] [376 390 392]\n",
      "After moving apart: [396 385 402] [370 392 386]\n",
      "Before moving apart: [ 29  68 286] [ 34  79 296]\n",
      "After moving apart: [ 26  65 281] [ 36  79 296]\n",
      "Before moving apart: [343  10  67] [351   1  49]\n",
      "After moving apart: [342  10  72] [352  -2  47]\n",
      "Before moving apart: [342  10  72] [335  27  79]\n",
      "After moving apart: [342  10  72] [335  28  79]\n",
      "Before moving apart: [342  10  72] [365  10  61]\n",
      "After moving apart: [341  10  73] [365  10  60]\n",
      "Before moving apart: [352  -2  47] [365  10  60]\n",
      "After moving apart: [352  -2  46] [368  11  61]\n",
      "Before moving apart: [205 181 119] [224 174 102]\n",
      "After moving apart: [204 181 119] [224 174 102]\n",
      "Before moving apart: [ 80  65 155] [ 91  78 151]\n",
      "After moving apart: [ 79  63 155] [ 94  81 148]\n",
      "Before moving apart: [ 79  63 155] [ 87  75 161]\n",
      "After moving apart: [ 77  56 153] [ 91  78 163]\n",
      "Before moving apart: [277  17  41] [278  20  65]\n",
      "After moving apart: [277  17  41] [278  20  66]\n",
      "Before moving apart: [163 164 193] [149 171 196]\n",
      "After moving apart: [168 162 190] [145 173 196]\n",
      "Before moving apart: [116 230 245] [121 224 236]\n",
      "After moving apart: [116 231 249] [122 221 235]\n",
      "Before moving apart: [116 231 249] [132 213 236]\n",
      "After moving apart: [115 231 251] [133 212 236]\n",
      "Before moving apart: [255 258  87] [261 233  90]\n",
      "After moving apart: [255 263  86] [262 232  91]\n",
      "Before moving apart: [201 221 278] [183 235 276]\n",
      "After moving apart: [202 218 278] [179 236 275]\n",
      "Before moving apart: [ 86  28 100] [ 89  31 104]\n",
      "After moving apart: [79 24 91] [ 94  37 111]\n",
      "Before moving apart: [182 223  11] [189 222   4]\n",
      "After moving apart: [171 224  17] [192 221  -4]\n",
      "Before moving apart: [117 102 350] [123  95 339]\n",
      "After moving apart: [116 104 352] [125  94 334]\n",
      "Before moving apart: [175  70 227] [178  64 198]\n",
      "After moving apart: [174  70 227] [178  64 197]\n",
      "Before moving apart: [332 347  16] [330 360   5]\n",
      "After moving apart: [333 345  18] [330 364   3]\n",
      "Before moving apart: [112 334 148] [111 331 131]\n",
      "After moving apart: [113 335 152] [111 329 125]\n",
      "Before moving apart: [144  75 133] [142  88 108]\n",
      "After moving apart: [144  75 134] [142  88 108]\n",
      "Before moving apart: [144  75 134] [139  76 114]\n",
      "After moving apart: [146  75 137] [139  76 111]\n",
      "Before moving apart: [211 157 355] [213 139 356]\n",
      "After moving apart: [211 162 355] [213 136 356]\n",
      "Before moving apart: [260 271 295] [264 288 293]\n",
      "After moving apart: [260 270 295] [264 290 293]\n",
      "Before moving apart: [ 57 262 232] [ 77 257 221]\n",
      "After moving apart: [ 55 263 232] [ 78 257 219]\n",
      "Before moving apart: [ 55 263 232] [ 49 238 229]\n",
      "After moving apart: [ 55 264 232] [ 49 236 229]\n",
      "Before moving apart: [291  15 257] [282  13 249]\n",
      "After moving apart: [293  17 261] [275  13 245]\n",
      "Before moving apart: [293  17 261] [301  23 276]\n",
      "After moving apart: [291  17 255] [302  27 278]\n",
      "Before moving apart: [212 146 319] [197 155 299]\n",
      "After moving apart: [212 146 320] [197 155 296]\n",
      "Before moving apart: [212 146 320] [219 119 311]\n",
      "After moving apart: [212 146 320] [219 116 311]\n",
      "Before moving apart: [ 75  26 387] [ 79  21 378]\n",
      "After moving apart: [ 72  29 397] [ 83  17 373]\n",
      "Before moving apart: [ 72  29 397] [ 80  28 397]\n",
      "After moving apart: [ 67  29 397] [ 85  26 397]\n",
      "Before moving apart: [119 194 248] [133 212 236]\n",
      "After moving apart: [117 193 249] [134 214 236]\n",
      "Before moving apart: [ 28 248 362] [  4 241 365]\n",
      "After moving apart: [ 30 248 362] [  2 241 365]\n",
      "Before moving apart: [294 152  37] [269 142  49]\n",
      "After moving apart: [296 152  37] [269 141  49]\n",
      "Before moving apart: [296 152  37] [305 127  44]\n",
      "After moving apart: [296 152  37] [305 126  45]\n",
      "Before moving apart: [343 372  26] [348 369  25]\n",
      "After moving apart: [332 377  28] [352 367  24]\n",
      "Before moving apart: [142 340 104] [131 330  89]\n",
      "After moving apart: [143 342 106] [129 329  87]\n",
      "Before moving apart: [ 12  94 118] [  7  83 113]\n",
      "After moving apart: [ 14  98 119] [  6  81 112]\n",
      "Before moving apart: [ 14  98 119] [ 27  98 130]\n",
      "After moving apart: [ 13  98 119] [ 28  98 130]\n",
      "Before moving apart: [302  27 278] [303  24 297]\n",
      "After moving apart: [302  28 275] [303  23 299]\n",
      "Before moving apart: [175  63 187] [178  64 197]\n",
      "After moving apart: [174  63 180] [179  65 200]\n",
      "Before moving apart: [ 67 109 186] [ 80  96 190]\n",
      "After moving apart: [ 60 114 185] [ 81  94 190]\n",
      "Before moving apart: [ 60 114 185] [ 60 120 192]\n",
      "After moving apart: [ 60 104 179] [ 60 124 200]\n",
      "Before moving apart: [ 25 386 123] [  8 382 110]\n",
      "After moving apart: [ 26 386 123] [  8 382 108]\n",
      "Before moving apart: [ 44 269 136] [ 43 269 146]\n",
      "After moving apart: [ 44 269 129] [ 41 269 155]\n",
      "Before moving apart: [145 173 196] [141 175 217]\n",
      "After moving apart: [145 173 193] [140 175 217]\n",
      "Before moving apart: [122 221 235] [134 214 236]\n",
      "After moving apart: [120 221 235] [139 212 236]\n",
      "Before moving apart: [229 375  79] [230 373  75]\n",
      "After moving apart: [226 380  91] [231 368  67]\n",
      "Before moving apart: [ 36  79 296] [ 45  77 303]\n",
      "After moving apart: [ 27  81 291] [ 50  76 307]\n",
      "Before moving apart: [378  60   4] [373  70   6]\n",
      "After moving apart: [384  56   3] [372  79   8]\n",
      "Before moving apart: [193 227 380] [203 252 372]\n",
      "After moving apart: [190 226 380] [203 255 372]\n",
      "Before moving apart: [201   9 305] [181  12 315]\n",
      "After moving apart: [203   9 305] [179  13 316]\n",
      "Before moving apart: [203   9 305] [203  12 314]\n",
      "After moving apart: [203   9 301] [203  14 316]\n",
      "Before moving apart: [203   9 301] [204  10 314]\n",
      "After moving apart: [203   8 294] [205  10 320]\n",
      "Before moving apart: [179  13 316] [205  10 320]\n",
      "After moving apart: [178  14 315] [208  10 320]\n",
      "Before moving apart: [107  76  42] [108  65  53]\n",
      "After moving apart: [107  76  42] [108  64  53]\n",
      "Before moving apart: [108  64  53] [128  73  42]\n",
      "After moving apart: [104  63  54] [128  73  42]\n",
      "Before moving apart: [219  31 132] [233  18 126]\n",
      "After moving apart: [216  33 132] [236  16 126]\n",
      "Before moving apart: [251 159  17] [255 153   9]\n",
      "After moving apart: [249 160  19] [256 148   4]\n",
      "Before moving apart: [  6  81 112] [ 11  73 126]\n",
      "After moving apart: [  5  84 110] [ 14  71 131]\n",
      "Before moving apart: [330 209 231] [321 217 239]\n",
      "After moving apart: [331 207 229] [318 217 241]\n",
      "Before moving apart: [331 207 229] [317 193 215]\n",
      "After moving apart: [335 209 231] [316 191 214]\n",
      "Before moving apart: [156 258 320] [155 285 327]\n",
      "After moving apart: [156 258 320] [155 287 328]\n",
      "Before moving apart: [ 74 253  35] [ 87 269  37]\n",
      "After moving apart: [ 73 252  35] [ 87 270  37]\n",
      "Before moving apart: [ 54 194 110] [ 66 187 104]\n",
      "After moving apart: [ 48 198 113] [ 74 183 101]\n",
      "Before moving apart: [342 262 145] [326 269 134]\n",
      "After moving apart: [344 262 147] [324 271 134]\n",
      "Before moving apart: [ 99 320  75] [ 87 303  93]\n",
      "After moving apart: [100 320  73] [ 85 301  93]\n",
      "Before moving apart: [100 320  73] [102 348  75]\n",
      "After moving apart: [100 319  73] [102 349  75]\n",
      "Before moving apart: [285 384 270] [278 389 268]\n",
      "After moving apart: [286 381 271] [273 390 267]\n",
      "Before moving apart: [142  88 108] [139  76 111]\n",
      "After moving apart: [142  96 106] [138  72 112]\n",
      "Before moving apart: [142  96 106] [131 105  98]\n",
      "After moving apart: [148  95 109] [126 110  95]\n",
      "Before moving apart: [120 176 356] [130 168 372]\n",
      "After moving apart: [120 177 354] [130 168 375]\n",
      "Before moving apart: [283 288 305] [264 290 293]\n",
      "After moving apart: [284 287 307] [261 290 293]\n",
      "Before moving apart: [295 391 182] [281 375 171]\n",
      "After moving apart: [295 393 183] [281 372 170]\n",
      "Before moving apart: [ 75  70 240] [ 80  94 244]\n",
      "After moving apart: [ 75  70 240] [ 80  96 244]\n",
      "Before moving apart: [ 75  70 240] [ 71  85 246]\n",
      "After moving apart: [ 77  62 237] [ 69  91 249]\n",
      "Before moving apart: [ 2 19 69] [ 0 28 95]\n",
      "After moving apart: [ 3 19 68] [ 0 29 96]\n",
      "Before moving apart: [133  45  31] [128  73  42]\n",
      "After moving apart: [133  45  31] [128  74  43]\n",
      "Before moving apart: [184 342 160] [162 325 166]\n",
      "After moving apart: [184 342 160] [161 325 166]\n",
      "Before moving apart: [ 74 183 101] [ 74 181  98]\n",
      "After moving apart: [ 74 188 106] [ 74 176  89]\n",
      "Before moving apart: [130 267 357] [142 265 364]\n",
      "After moving apart: [126 267 353] [150 263 367]\n",
      "Before moving apart: [278  43  33] [275  52  45]\n",
      "After moving apart: [278  38  30] [274  56  51]\n",
      "Before moving apart: [124 234 113] [128 240 101]\n",
      "After moving apart: [124 230 117] [129 241  95]\n",
      "Before moving apart: [90 82 36] [96 88 54]\n",
      "After moving apart: [90 81 33] [96 89 56]\n",
      "Before moving apart: [ 19 127 163] [ 16 142 164]\n",
      "After moving apart: [ 19 126 163] [ 14 146 164]\n",
      "Before moving apart: [262 232  91] [277 227  90]\n",
      "After moving apart: [257 235  91] [285 225  89]\n",
      "Before moving apart: [225 135  71] [234 162  73]\n",
      "After moving apart: [225 133  71] [234 164  73]\n"
     ]
    },
    {
     "name": "stdout",
     "output_type": "stream",
     "text": [
      "Before moving apart: [230  21 311] [208  10 320]\n",
      "After moving apart: [231  21 311] [207   8 321]\n",
      "Before moving apart: [ 89  98 156] [ 75  93 165]\n",
      "After moving apart: [ 94  99 153] [ 72  93 168]\n",
      "Before moving apart: [ 94  99 153] [ 94  81 148]\n",
      "After moving apart: [ 94 101 156] [ 94  78 147]\n",
      "Before moving apart: [ 94 101 156] [ 91  78 163]\n",
      "After moving apart: [ 96 102 155] [ 91  77 165]\n",
      "Before moving apart: [ 96 102 155] [ 86 116 161]\n",
      "After moving apart: [ 99  95 154] [ 83 118 163]\n",
      "Before moving apart: [316 191 214] [319 165 203]\n",
      "After moving apart: [316 192 214] [319 165 203]\n",
      "Before moving apart: [316 192 214] [325 201 195]\n",
      "After moving apart: [314 191 215] [326 201 192]\n",
      "Before moving apart: [314 191 215] [310 181 189]\n",
      "After moving apart: [314 192 217] [310 181 188]\n",
      "Before moving apart: [164 385 124] [161 387 130]\n",
      "After moving apart: [165 383 119] [159 388 133]\n",
      "Before moving apart: [ 81  94 190] [ 72  93 168]\n",
      "After moving apart: [ 81  95 191] [ 69  93 166]\n",
      "Before moving apart: [276 128 121] [268 127 115]\n",
      "After moving apart: [280 128 126] [262 126 112]\n",
      "Before moving apart: [306 247 298] [314 242 300]\n",
      "After moving apart: [299 250 297] [318 239 302]\n",
      "Before moving apart: [ 94 103 224] [ 80  96 244]\n",
      "After moving apart: [ 96 103 224] [ 80  95 244]\n",
      "Before moving apart: [ 29 168 207] [ 47 156 194]\n",
      "After moving apart: [ 28 168 207] [ 51 154 194]\n",
      "Before moving apart: [106 338   7] [ 94 353   7]\n",
      "After moving apart: [107 337   7] [ 91 356   7]\n",
      "Before moving apart: [203  14 316] [207   8 321]\n",
      "After moving apart: [201  17 313] [209   2 324]\n",
      "Before moving apart: [139 212 236] [136 208 238]\n",
      "After moving apart: [143 224 231] [128 204 241]\n",
      "Before moving apart: [256  72 381] [258  70 355]\n",
      "After moving apart: [256  72 385] [259  70 354]\n",
      "Before moving apart: [239 362  45] [262 368  43]\n",
      "After moving apart: [236 362  45] [264 368  42]\n",
      "Before moving apart: [236 362  45] [231 368  67]\n",
      "After moving apart: [236 360  44] [231 368  70]\n",
      "Before moving apart: [319 165 203] [310 181 188]\n",
      "After moving apart: [321 164 203] [310 183 184]\n",
      "Before moving apart: [ 80  95 244] [ 69  91 249]\n",
      "After moving apart: [ 85  96 239] [ 61  88 250]\n",
      "Before moving apart: [  8 306 334] [  6 285 338]\n",
      "After moving apart: [  8 308 334] [  6 283 338]\n",
      "Before moving apart: [ 69  93 166] [ 91  77 165]\n",
      "After moving apart: [ 68  93 166] [ 91  77 165]\n",
      "Before moving apart: [269 374 167] [281 372 170]\n",
      "After moving apart: [265 374 167] [281 372 171]\n",
      "Before moving apart: [253 190 368] [272 170 361]\n",
      "After moving apart: [252 192 368] [272 170 360]\n",
      "Before moving apart: [ 91 227 310] [110 227 306]\n",
      "After moving apart: [ 88 227 310] [115 227 304]\n",
      "Before moving apart: [ 94  78 147] [ 91  77 165]\n",
      "After moving apart: [ 94  78 145] [ 91  76 170]\n",
      "Before moving apart: [263 114  98] [262 126 112]\n",
      "After moving apart: [263 113  96] [262 127 114]\n",
      "Before moving apart: [155 287 328] [157 310 343]\n",
      "After moving apart: [155 286 327] [158 311 343]\n",
      "Before moving apart: [287 128 307] [292 130 286]\n",
      "After moving apart: [286 128 308] [292 130 283]\n",
      "Before moving apart: [286 128 308] [285 139 300]\n",
      "After moving apart: [286 126 309] [285 140 300]\n",
      "Before moving apart: [354 356 301] [347 358 319]\n",
      "After moving apart: [357 356 300] [347 358 324]\n",
      "Before moving apart: [240   1 130] [236  16 126]\n",
      "After moving apart: [242  -1 130] [235  20 124]\n",
      "Before moving apart: [292 130 283] [312 141 279]\n",
      "After moving apart: [289 129 283] [315 143 276]\n",
      "Before moving apart: [326 201 192] [310 183 184]\n",
      "After moving apart: [326 201 192] [307 183 183]\n",
      "Before moving apart: [347 217  67] [351 233  77]\n",
      "After moving apart: [346 215  66] [351 238  81]\n",
      "Before moving apart: [ 35 325 224] [ 50 305 233]\n",
      "After moving apart: [ 33 325 224] [ 51 304 234]\n",
      "Before moving apart: [ 83  17 373] [ 83  24 368]\n",
      "After moving apart: [ 83   7 378] [ 83  32 363]\n",
      "Before moving apart: [151 395 171] [136 392 168]\n",
      "After moving apart: [154 397 172] [129 392 166]\n",
      "Before moving apart: [175 317 196] [195 322 205]\n",
      "After moving apart: [172 316 196] [196 322 205]\n",
      "Before moving apart: [113 333 178] [113 335 152]\n",
      "After moving apart: [113 333 179] [113 335 149]\n",
      "Before moving apart: [ 26  65 281] [ 27  81 291]\n",
      "After moving apart: [ 26  64 280] [ 27  84 291]\n",
      "Before moving apart: [277  17  41] [278  38  30]\n",
      "After moving apart: [277  16  41] [278  38  29]\n",
      "Before moving apart: [168 162 190] [145 173 193]\n",
      "After moving apart: [168 162 190] [145 174 193]\n",
      "Before moving apart: [255 263  86] [257 235  91]\n",
      "After moving apart: [255 264  86] [257 232  92]\n",
      "Before moving apart: [174  70 227] [179  65 200]\n",
      "After moving apart: [174  71 229] [179  65 199]\n",
      "Before moving apart: [113 335 149] [111 329 125]\n",
      "After moving apart: [113 336 151] [111 328 125]\n",
      "Before moving apart: [291  17 255] [275  13 245]\n",
      "After moving apart: [295  17 255] [273  12 244]\n",
      "Before moving apart: [295  17 255] [302  28 275]\n",
      "After moving apart: [295  16 254] [303  31 276]\n",
      "Before moving apart: [219 376 114] [226 380  91]\n",
      "After moving apart: [219 376 116] [226 380  90]\n",
      "Before moving apart: [117 193 249] [128 204 241]\n",
      "After moving apart: [114 190 250] [130 206 240]\n",
      "Before moving apart: [ 13  98 119] [  5  84 110]\n",
      "After moving apart: [ 13 100 119] [  5  84 109]\n",
      "Before moving apart: [174  63 180] [179  65 199]\n",
      "After moving apart: [174  63 179] [179  65 199]\n",
      "Before moving apart: [ 60 104 179] [ 81  95 191]\n",
      "After moving apart: [ 58 105 177] [ 81  94 191]\n",
      "Before moving apart: [ 58 105 177] [ 68  93 166]\n",
      "After moving apart: [ 54 108 179] [ 70  89 163]\n",
      "Before moving apart: [ 54 108 179] [ 60 124 200]\n",
      "After moving apart: [ 53 108 178] [ 60 125 201]\n",
      "Before moving apart: [226 380  90] [231 368  70]\n",
      "After moving apart: [226 380  93] [233 367  70]\n",
      "Before moving apart: [203   8 294] [208  32 287]\n",
      "After moving apart: [202   7 294] [208  33 287]\n",
      "Before moving apart: [257 377 262] [273 390 267]\n",
      "After moving apart: [257 377 262] [275 391 268]\n",
      "Before moving apart: [216  33 132] [235  20 124]\n",
      "After moving apart: [216  33 133] [238  20 123]\n",
      "Before moving apart: [335 209 231] [314 192 217]\n",
      "After moving apart: [335 209 231] [314 191 217]\n",
      "Before moving apart: [156 258 320] [155 286 327]\n",
      "After moving apart: [156 257 320] [155 286 328]\n",
      "Before moving apart: [ 48 198 113] [ 74 188 106]\n",
      "After moving apart: [ 46 199 113] [ 75 187 105]\n",
      "Before moving apart: [332 149 262] [315 143 276]\n",
      "After moving apart: [332 149 259] [313 143 277]\n",
      "Before moving apart: [100 319  73] [ 85 301  93]\n",
      "After moving apart: [100 319  72] [ 85 301  93]\n",
      "Before moving apart: [286 381 271] [275 391 268]\n",
      "After moving apart: [286 380 271] [275 392 268]\n",
      "Before moving apart: [127 248 287] [115 227 304]\n",
      "After moving apart: [127 250 286] [115 227 304]\n",
      "Before moving apart: [ 75 187 105] [ 74 176  89]\n",
      "After moving apart: [ 75 187 105] [ 73 175  88]\n",
      "Before moving apart: [257 232  92] [285 225  89]\n",
      "After moving apart: [257 232  92] [286 225  89]\n",
      "Before moving apart: [ 99  95 154] [ 94  78 145]\n",
      "After moving apart: [ 99  96 156] [ 94  76 143]\n",
      "Before moving apart: [ 99  96 156] [ 91  76 170]\n",
      "After moving apart: [ 99  97 155] [ 91  75 170]\n",
      "Before moving apart: [ 99  97 155] [ 83 118 163]\n",
      "After moving apart: [101  97 155] [ 83 119 163]\n",
      "Before moving apart: [280 128 126] [262 127 114]\n",
      "After moving apart: [280 128 127] [261 127 114]\n",
      "Before moving apart: [ 96 103 224] [ 85  96 239]\n",
      "After moving apart: [ 99 104 219] [ 84  96 240]\n",
      "Before moving apart: [143 224 231] [130 206 240]\n",
      "After moving apart: [144 226 231] [129 206 241]\n",
      "Before moving apart: [ 84  96 240] [ 61  88 250]\n",
      "After moving apart: [ 85  96 240] [ 61  87 250]\n",
      "Before moving apart: [ 70  89 163] [ 91  75 170]\n",
      "After moving apart: [ 70  89 162] [ 92  74 170]\n",
      "Before moving apart: [155 286 328] [158 311 343]\n",
      "After moving apart: [155 285 328] [158 311 343]\n",
      "Before moving apart: [289 129 283] [313 143 277]\n",
      "After moving apart: [289 129 283] [314 144 277]\n",
      "Before moving apart: [113 333 179] [113 336 151]\n",
      "After moving apart: [113 333 180] [113 336 150]\n",
      "Before moving apart: [113 336 150] [111 328 125]\n",
      "After moving apart: [113 336 150] [111 328 124]\n",
      "Before moving apart: [219 376 116] [226 380  93]\n",
      "After moving apart: [219 376 117] [226 381  91]\n",
      "Before moving apart: [114 190 250] [129 206 241]\n",
      "After moving apart: [113 190 250] [129 206 241]\n",
      "Before moving apart: [226 381  91] [233 367  70]\n",
      "After moving apart: [226 381  91] [234 366  70]\n"
     ]
    },
    {
     "name": "stdout",
     "output_type": "stream",
     "text": [
      "Before moving apart: [156 257 320] [155 285 328]\n",
      "After moving apart: [156 256 319] [155 285 328]\n",
      "Before moving apart: [332 149 259] [314 144 277]\n",
      "After moving apart: [333 149 259] [314 143 277]\n",
      "Before moving apart: [ 99 104 219] [ 85  96 240]\n",
      "After moving apart: [ 99 104 218] [ 85  96 240]\n",
      "Before moving apart: [236 360  44] [234 366  70]\n",
      "After moving apart: [236 360  44] [234 366  71]\n",
      "Before moving apart: [289 129 283] [314 143 277]\n",
      "After moving apart: [288 129 283] [314 143 277]\n",
      "Before moving apart: [226 381  91] [234 366  71]\n",
      "After moving apart: [226 382  91] [234 366  71]\n"
     ]
    }
   ],
   "source": [
    "seeds = [1, 2, 3, 4, 5, 6]\n",
    "n_bricks = [3, 7, 12, 20, 20, 40]\n",
    "\n",
    "n_pokeminos = 500\n",
    "a_volume = 400\n",
    "test_volume = poke.Volume ((a_volume, a_volume, a_volume))\n",
    "\n",
    "for x in range (n_pokeminos):\n",
    "    random.seed()\n",
    "    no_pokemino=random.randint(0,5)\n",
    "    pokemino = poke.Pokemino3D(seeds[no_pokemino], n_bricks[no_pokemino], test_volume, positioning=(random.randint(0, test_volume.shape[0]-1), random.randint(0, test_volume.shape[1]-1), random.randint(0, test_volume.shape[2]-1)), algorithm='clumped')\n",
    "    pokemino.upscale_pokemino(5)\n",
    "    pokemino.rotate_the_pokemino_3_axes()\n",
    "\n",
    "test_volume.check_for_pairwise_overlap()\n",
    "test_volume.fit_all_pokeminos()"
   ]
  },
  {
   "cell_type": "code",
   "execution_count": 12,
   "metadata": {},
   "outputs": [],
   "source": [
    "for i, creature in enumerate(test_volume.creatures):\n",
    "    x, y, z = creature.positioning\n",
    "    if all([i in range(25, 375) for i in [x, y, z]]):\n",
    "        mrc = mrcfile.new(Path(f'Exp3_Custom_Rotations/{creature.seed}_{creature.size}_{i}.mrc'), overwrite=True)\n",
    "        scrap = test_volume.array[x-25:x+25, y-25:y+25, z-25:z+25]\n",
    "        mrc.set_data(scrap)\n",
    "        mrc.close()"
   ]
  },
  {
   "cell_type": "code",
   "execution_count": 3,
   "metadata": {},
   "outputs": [
    {
     "ename": "FileNotFoundError",
     "evalue": "[Errno 2] No such file or directory: 'Exp3_Custom_Rotations/test.mrc'",
     "output_type": "error",
     "traceback": [
      "\u001b[0;31m---------------------------------------------------------------------------\u001b[0m",
      "\u001b[0;31mFileNotFoundError\u001b[0m                         Traceback (most recent call last)",
      "\u001b[0;32m<ipython-input-3-6f6e6a7c0f8b>\u001b[0m in \u001b[0;36m<module>\u001b[0;34m\u001b[0m\n\u001b[0;32m----> 1\u001b[0;31m \u001b[0;32mwith\u001b[0m \u001b[0mmrcfile\u001b[0m\u001b[0;34m.\u001b[0m\u001b[0mopen\u001b[0m\u001b[0;34m(\u001b[0m\u001b[0mPath\u001b[0m\u001b[0;34m(\u001b[0m\u001b[0;34m'Exp3_Custom_Rotations/test.mrc'\u001b[0m\u001b[0;34m)\u001b[0m\u001b[0;34m)\u001b[0m \u001b[0;32mas\u001b[0m \u001b[0mmrc\u001b[0m\u001b[0;34m:\u001b[0m\u001b[0;34m\u001b[0m\u001b[0;34m\u001b[0m\u001b[0m\n\u001b[0m\u001b[1;32m      2\u001b[0m     \u001b[0mviewer\u001b[0m \u001b[0;34m=\u001b[0m \u001b[0mnapari\u001b[0m\u001b[0;34m.\u001b[0m\u001b[0mview_image\u001b[0m\u001b[0;34m(\u001b[0m\u001b[0mmrc\u001b[0m\u001b[0;34m.\u001b[0m\u001b[0mdata\u001b[0m\u001b[0;34m)\u001b[0m\u001b[0;34m\u001b[0m\u001b[0;34m\u001b[0m\u001b[0m\n",
      "\u001b[0;32m~/opt/anaconda3/lib/python3.8/site-packages/mrcfile/load_functions.py\u001b[0m in \u001b[0;36mopen\u001b[0;34m(name, mode, permissive, header_only)\u001b[0m\n\u001b[1;32m    136\u001b[0m             \u001b[0;32melif\u001b[0m \u001b[0mstart\u001b[0m\u001b[0;34m[\u001b[0m\u001b[0;34m:\u001b[0m\u001b[0;36m2\u001b[0m\u001b[0;34m]\u001b[0m \u001b[0;34m==\u001b[0m \u001b[0;34mb'BZ'\u001b[0m\u001b[0;34m:\u001b[0m\u001b[0;34m\u001b[0m\u001b[0;34m\u001b[0m\u001b[0m\n\u001b[1;32m    137\u001b[0m                 \u001b[0mNewMrc\u001b[0m \u001b[0;34m=\u001b[0m \u001b[0mBzip2MrcFile\u001b[0m\u001b[0;34m\u001b[0m\u001b[0;34m\u001b[0m\u001b[0m\n\u001b[0;32m--> 138\u001b[0;31m     return NewMrc(name, mode=mode, permissive=permissive,\n\u001b[0m\u001b[1;32m    139\u001b[0m                   header_only=header_only)\n\u001b[1;32m    140\u001b[0m \u001b[0;34m\u001b[0m\u001b[0m\n",
      "\u001b[0;32m~/opt/anaconda3/lib/python3.8/site-packages/mrcfile/mrcfile.py\u001b[0m in \u001b[0;36m__init__\u001b[0;34m(self, name, mode, overwrite, permissive, header_only, **kwargs)\u001b[0m\n\u001b[1;32m    106\u001b[0m         \u001b[0mself\u001b[0m\u001b[0;34m.\u001b[0m\u001b[0m_read_only\u001b[0m \u001b[0;34m=\u001b[0m \u001b[0;34m(\u001b[0m\u001b[0mself\u001b[0m\u001b[0;34m.\u001b[0m\u001b[0m_mode\u001b[0m \u001b[0;34m==\u001b[0m \u001b[0;34m'r'\u001b[0m\u001b[0;34m)\u001b[0m\u001b[0;34m\u001b[0m\u001b[0;34m\u001b[0m\u001b[0m\n\u001b[1;32m    107\u001b[0m \u001b[0;34m\u001b[0m\u001b[0m\n\u001b[0;32m--> 108\u001b[0;31m         \u001b[0mself\u001b[0m\u001b[0;34m.\u001b[0m\u001b[0m_open_file\u001b[0m\u001b[0;34m(\u001b[0m\u001b[0mname\u001b[0m\u001b[0;34m)\u001b[0m\u001b[0;34m\u001b[0m\u001b[0;34m\u001b[0m\u001b[0m\n\u001b[0m\u001b[1;32m    109\u001b[0m \u001b[0;34m\u001b[0m\u001b[0m\n\u001b[1;32m    110\u001b[0m         \u001b[0;32mtry\u001b[0m\u001b[0;34m:\u001b[0m\u001b[0;34m\u001b[0m\u001b[0;34m\u001b[0m\u001b[0m\n",
      "\u001b[0;32m~/opt/anaconda3/lib/python3.8/site-packages/mrcfile/mrcfile.py\u001b[0m in \u001b[0;36m_open_file\u001b[0;34m(self, name)\u001b[0m\n\u001b[1;32m    123\u001b[0m     \u001b[0;32mdef\u001b[0m \u001b[0m_open_file\u001b[0m\u001b[0;34m(\u001b[0m\u001b[0mself\u001b[0m\u001b[0;34m,\u001b[0m \u001b[0mname\u001b[0m\u001b[0;34m)\u001b[0m\u001b[0;34m:\u001b[0m\u001b[0;34m\u001b[0m\u001b[0;34m\u001b[0m\u001b[0m\n\u001b[1;32m    124\u001b[0m         \u001b[0;34m\"\"\"Open a file object to use as the I/O stream.\"\"\"\u001b[0m\u001b[0;34m\u001b[0m\u001b[0;34m\u001b[0m\u001b[0m\n\u001b[0;32m--> 125\u001b[0;31m         \u001b[0mself\u001b[0m\u001b[0;34m.\u001b[0m\u001b[0m_iostream\u001b[0m \u001b[0;34m=\u001b[0m \u001b[0mopen\u001b[0m\u001b[0;34m(\u001b[0m\u001b[0mname\u001b[0m\u001b[0;34m,\u001b[0m \u001b[0mself\u001b[0m\u001b[0;34m.\u001b[0m\u001b[0m_mode\u001b[0m \u001b[0;34m+\u001b[0m \u001b[0;34m'b'\u001b[0m\u001b[0;34m)\u001b[0m\u001b[0;34m\u001b[0m\u001b[0;34m\u001b[0m\u001b[0m\n\u001b[0m\u001b[1;32m    126\u001b[0m \u001b[0;34m\u001b[0m\u001b[0m\n\u001b[1;32m    127\u001b[0m     \u001b[0;32mdef\u001b[0m \u001b[0m_read\u001b[0m\u001b[0;34m(\u001b[0m\u001b[0mself\u001b[0m\u001b[0;34m,\u001b[0m \u001b[0mheader_only\u001b[0m\u001b[0;34m=\u001b[0m\u001b[0;32mFalse\u001b[0m\u001b[0;34m)\u001b[0m\u001b[0;34m:\u001b[0m\u001b[0;34m\u001b[0m\u001b[0;34m\u001b[0m\u001b[0m\n",
      "\u001b[0;31mFileNotFoundError\u001b[0m: [Errno 2] No such file or directory: 'Exp3_Custom_Rotations/test.mrc'"
     ]
    }
   ],
   "source": [
    "with mrcfile.open(Path('Exp3_Custom_Rotations/test.mrc')) as mrc:\n",
    "    viewer = napari.view_image(mrc.data)"
   ]
  },
  {
   "cell_type": "markdown",
   "metadata": {},
   "source": [
    "### Create a training set"
   ]
  },
  {
   "cell_type": "code",
   "execution_count": 195,
   "metadata": {},
   "outputs": [],
   "source": [
    "seeds = [1, 2, 3, 4, 5, 6]\n",
    "n_bricks = [3, 7, 12, 20, 20, 40]\n",
    "n_subpixels = 5\n",
    "\n",
    "n_pokeminos = 500\n",
    "a_volume = 80 \n",
    "test_volume = poke.Volume ((a_volume, a_volume, a_volume))\n",
    "\n",
    "for x in range (n_pokeminos):\n",
    "    random.seed()\n",
    "    no_pokemino=random.randint(0,5)\n",
    "    polyomino = poke.Pokemino3D(seeds[no_pokemino], n_bricks[no_pokemino], test_volume, positioning=(random.randint(0, test_volume.shape[0]-1), random.randint(0, test_volume.shape[1]-1), random.randint(0, test_volume.shape[2]-1)))\n",
    "    polyomino.rotate_the_block_3_axes()\n",
    "\n",
    "test_volume.check_for_pairwise_overlap()\n",
    "test_volume.fit_all_pokeminos()\n",
    "test_volume.create_subpixel_resolution_array(n_subpixels)"
   ]
  },
  {
   "cell_type": "code",
   "execution_count": 196,
   "metadata": {},
   "outputs": [],
   "source": [
    "for i, creature in enumerate(test_volume.creatures):\n",
    "    x, y, z = creature.positioning\n",
    "    if all([i in range(5, 75) for i in [x, y, z]]):\n",
    "        mrc = mrcfile.new(Path(f'Exp2_S_vs_L_w_Noise/{creature.seed}_{creature.size}_{i}.mrc'), overwrite=True)\n",
    "        scrap = test_volume.subpixel_resolution_array[(x-5)*n_subpixels:(x+5)*n_subpixels, (y-5)*n_subpixels:(y+5)*n_subpixels, (z-5)*n_subpixels:(z+5)*n_subpixels]\n",
    "        mrc.set_data(scrap)\n",
    "        mrc.close()"
   ]
  },
  {
   "cell_type": "code",
   "execution_count": 9,
   "metadata": {},
   "outputs": [],
   "source": [
    "# Visualise a scrap from the training dataset\n",
    "with mrcfile.open(Path('test_Exp2.mrc')) as mrc:\n",
    "    viewer = napari.view_image(mrc.data)"
   ]
  },
  {
   "cell_type": "markdown",
   "metadata": {},
   "source": [
    "## Comparing clumped and extended Pokeminos"
   ]
  },
  {
   "cell_type": "code",
   "execution_count": 2,
   "metadata": {},
   "outputs": [],
   "source": [
    "volume = poke.Volume((100, 50, 50))\n",
    "pokeminko1 = poke.Pokemino3D(3, 500, volume, positioning=(25, 25, 25), algorithm=\"extended\")\n",
    "pokeminko2 = poke.Pokemino3D(3, 500, volume, positioning=(75, 25, 25), algorithm=\"clumped\")\n",
    "volume.fit_all_pokeminos()\n",
    "volume.display_in_napari()"
   ]
  },
  {
   "cell_type": "markdown",
   "metadata": {},
   "source": [
    "### mrc_random.py"
   ]
  },
  {
   "cell_type": "code",
   "execution_count": null,
   "metadata": {},
   "outputs": [],
   "source": [
    "mrcfile.validate(Path('rotated_polyominos/1_0_0_0.mrc'))\n",
    "\n",
    "with mrcfile.open(Path('rotated_polyominos/5_0_0_0.mrc')) as mrc:\n",
    "    viewer = napari.view_image(mrc.data)\n",
    "\n",
    "# Displaying a 2D mrcfile\n",
    "with mrcfile.new('tmp2d.mrc', overwrite=True) as mrc:\n",
    "    mrc.set_data(np.zeros((5, 5), dtype=np.int8))\n",
    "    mrc.data[1:4,1:4] = 10\n",
    "    mrc.data[2:3,2:3] = 30\n",
    "    viewer = napari.view_image(mrc.data)\n",
    "    \n",
    "\n",
    "# Displaying a 3D mrcfile\n",
    "with mrcfile.new('tmp3d.mrc', overwrite=True) as mrc:\n",
    "    mrc.set_data(np.zeros((5, 5, 5), dtype=np.int8))\n",
    "    mrc.data[1:4,1:4,1:4] = 10\n",
    "    mrc.data[2:3,2:3,2:3] = 30\n",
    "    viewer = napari.view_image(mrc.data)"
   ]
  }
 ],
 "metadata": {
  "kernelspec": {
   "display_name": "Python 3",
   "language": "python",
   "name": "python3"
  },
  "language_info": {
   "codemirror_mode": {
    "name": "ipython",
    "version": 3
   },
   "file_extension": ".py",
   "mimetype": "text/x-python",
   "name": "python",
   "nbconvert_exporter": "python",
   "pygments_lexer": "ipython3",
   "version": "3.8.5"
  }
 },
 "nbformat": 4,
 "nbformat_minor": 4
}
