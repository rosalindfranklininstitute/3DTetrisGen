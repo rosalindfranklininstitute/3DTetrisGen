{
 "cells": [
  {
   "cell_type": "code",
   "execution_count": 12,
   "metadata": {},
   "outputs": [],
   "source": [
    "import importlib\n",
    "import random\n",
    "import mrcfile\n",
    "import csv\n",
    "import numpy as np\n",
    "from pathlib import Path\n",
    "import napari\n",
    "import pokemino_generator as poke"
   ]
  },
  {
   "cell_type": "code",
   "execution_count": 13,
   "metadata": {},
   "outputs": [
    {
     "data": {
      "text/plain": [
       "<module 'pokemino_generator' from '/Users/anna/Library/CloudStorage/OneDrive-Nexus365/RFI/Code/Pokeminos/pokemino_generator.py'>"
      ]
     },
     "execution_count": 13,
     "metadata": {},
     "output_type": "execute_result"
    }
   ],
   "source": [
    "import pokemino_generator as poke\n",
    "importlib.reload(poke)"
   ]
  },
  {
   "cell_type": "code",
   "execution_count": 14,
   "metadata": {},
   "outputs": [],
   "source": [
    "def add_label(mrc, param_name, param_value):\n",
    "    \n",
    "    \"\"\"Adds information on rotation angles, shifts along x, y and z to the mrc header.\"\"\"\n",
    "    \n",
    "    label_count = mrc.header.nlabl\n",
    "    mrc.header.label[label_count] = f'{param_name}={str(param_value)}'\n",
    "    mrc.header.nlabl += 1"
   ]
  },
  {
   "cell_type": "code",
   "execution_count": 91,
   "metadata": {},
   "outputs": [
    {
     "name": "stdout",
     "output_type": "stream",
     "text": [
      "nx              : 32\n",
      "ny              : 32\n",
      "nz              : 32\n",
      "mode            : 2\n",
      "nxstart         : 0\n",
      "nystart         : 0\n",
      "nzstart         : 0\n",
      "mx              : 32\n",
      "my              : 32\n",
      "mz              : 32\n",
      "cella           : (0., 0., 0.)\n",
      "cellb           : (90., 90., 90.)\n",
      "mapc            : 1\n",
      "mapr            : 2\n",
      "maps            : 3\n",
      "dmin            : 0.0\n",
      "dmax            : 0.911742091178894\n",
      "dmean           : 0.012626565992832184\n",
      "ispg            : 1\n",
      "nsymbt          : 0\n",
      "extra1          : b'\\x00\\x00\\x00\\x00\\x00\\x00\\x00\\x00'\n",
      "exttyp          : b''\n",
      "nversion        : 20140\n",
      "extra2          : b'\\x00\\x00\\x00\\x00\\x00\\x00\\x00\\x00\\x00\\x00\\x00\\x00\\x00\\x00\\x00\\x00\\x00\\x00\\x00\\x00\\x00\\x00\\x00\\x00\\x00\\x00\\x00\\x00\\x00\\x00\\x00\\x00\\x00\\x00\\x00\\x00\\x00\\x00\\x00\\x00\\x00\\x00\\x00\\x00\\x00\\x00\\x00\\x00\\x00\\x00\\x00\\x00\\x00\\x00\\x00\\x00\\x00\\x00\\x00\\x00\\x00\\x00\\x00\\x00\\x00\\x00\\x00\\x00\\x00\\x00\\x00\\x00\\x00\\x00\\x00\\x00\\x00\\x00\\x00\\x00\\x00\\x00\\x00\\x00'\n",
      "origin          : (0., 0., 0.)\n",
      "map             : b'MAP '\n",
      "machst          : [68 68  0  0]\n",
      "rms             : 0.09017372876405716\n",
      "nlabl           : 7\n",
      "label           : [b'Created by mrcfile.py                                       2022-03-30 16:31:33 '\n",
      " b'theta_x=339' b'theta_y=221' b'theta_z=8' b'trans_x=0.625'\n",
      " b'trans_y=0.364' b'trans_z=0.423' b'' b'' b'']\n"
     ]
    }
   ],
   "source": [
    "# Visualise a scrap from the training dataset\n",
    "with mrcfile.open(Path('../DS_16/E_8.mrc')) as mrc:\n",
    "    napari.view_image(mrc.data)\n",
    "    mrc.print_header()"
   ]
  },
  {
   "cell_type": "markdown",
   "metadata": {},
   "source": [
    "! pip install icecream"
   ]
  },
  {
   "cell_type": "code",
   "execution_count": 19,
   "metadata": {},
   "outputs": [
    {
     "name": "stderr",
     "output_type": "stream",
     "text": [
      "ic| i: b'Created by mrcfile.py                                       2022-02-21 11:13:27 '\n",
      "ic| i: b'theta_x=41'\n",
      "ic| i: b'theta_y=26'\n",
      "ic| i: b'theta_z=242'\n",
      "ic| i: b''"
     ]
    },
    {
     "name": "stdout",
     "output_type": "stream",
     "text": [
      "nx              : 64\n",
      "ny              : 64\n",
      "nz              : 64\n",
      "mode            : 2\n",
      "nxstart         : 0\n",
      "nystart         : 0\n",
      "nzstart         : 0\n",
      "mx              : 64\n",
      "my              : 64\n",
      "mz              : 64\n",
      "cella           : (0., 0., 0.)\n",
      "cellb           : (90., 90., 90.)\n",
      "mapc            : 1\n",
      "mapr            : 2\n",
      "maps            : 3\n",
      "dmin            : 0.0\n",
      "dmax            : 1.0\n",
      "dmean           : 0.0018514286493882537\n",
      "ispg            : 1\n",
      "nsymbt          : 0\n",
      "extra1          : b'\\x00\\x00\\x00\\x00\\x00\\x00\\x00\\x00'\n",
      "exttyp          : b''\n",
      "nversion        : 20140\n",
      "extra2          : b'\\x00\\x00\\x00\\x00\\x00\\x00\\x00\\x00\\x00\\x00\\x00\\x00\\x00\\x00\\x00\\x00\\x00\\x00\\x00\\x00\\x00\\x00\\x00\\x00\\x00\\x00\\x00\\x00\\x00\\x00\\x00\\x00\\x00\\x00\\x00\\x00\\x00\\x00\\x00\\x00\\x00\\x00\\x00\\x00\\x00\\x00\\x00\\x00\\x00\\x00\\x00\\x00\\x00\\x00\\x00\\x00\\x00\\x00\\x00\\x00\\x00\\x00\\x00\\x00\\x00\\x00\\x00\\x00\\x00\\x00\\x00\\x00\\x00\\x00\\x00\\x00\\x00\\x00\\x00\\x00\\x00\\x00\\x00\\x00'\n",
      "origin          : (0., 0., 0.)\n",
      "map             : b'MAP '\n",
      "machst          : [68 68  0  0]\n",
      "rms             : 0.037315964698791504\n",
      "nlabl           : 4\n",
      "label           : [b'Created by mrcfile.py                                       2022-02-21 11:13:27 '\n",
      " b'theta_x=41' b'theta_y=26' b'theta_z=242' b'' b'' b'' b'' b'' b'']\n"
     ]
    },
    {
     "name": "stderr",
     "output_type": "stream",
     "text": [
      "\n",
      "ic| i: b''\n",
      "ic| i: b''\n",
      "ic| i: b''\n",
      "ic| i: b''\n",
      "ic| i: b''\n",
      "ic| i: b'Created by mrcfile.py                                       2022-02-21 11:13:45 '\n",
      "ic| i: b'theta_x=332'\n",
      "ic| i: b'theta_y=40'\n",
      "ic| i: b'theta_z=335'\n",
      "ic| i: b''\n",
      "ic| i: b''\n",
      "ic| i: b''\n"
     ]
    },
    {
     "name": "stdout",
     "output_type": "stream",
     "text": [
      "nx              : 64\n",
      "ny              : 64\n",
      "nz              : 64\n",
      "mode            : 2\n",
      "nxstart         : 0\n",
      "nystart         : 0\n",
      "nzstart         : 0\n",
      "mx              : 64\n",
      "my              : 64\n",
      "mz              : 64\n",
      "cella           : (0., 0., 0.)\n",
      "cellb           : (90., 90., 90.)\n",
      "mapc            : 1\n",
      "mapr            : 2\n",
      "maps            : 3\n",
      "dmin            : 0.0\n",
      "dmax            : 1.0\n",
      "dmean           : 0.0015612458810210228\n",
      "ispg            : 1\n",
      "nsymbt          : 0\n",
      "extra1          : b'\\x00\\x00\\x00\\x00\\x00\\x00\\x00\\x00'\n",
      "exttyp          : b''\n",
      "nversion        : 20140\n",
      "extra2          : b'\\x00\\x00\\x00\\x00\\x00\\x00\\x00\\x00\\x00\\x00\\x00\\x00\\x00\\x00\\x00\\x00\\x00\\x00\\x00\\x00\\x00\\x00\\x00\\x00\\x00\\x00\\x00\\x00\\x00\\x00\\x00\\x00\\x00\\x00\\x00\\x00\\x00\\x00\\x00\\x00\\x00\\x00\\x00\\x00\\x00\\x00\\x00\\x00\\x00\\x00\\x00\\x00\\x00\\x00\\x00\\x00\\x00\\x00\\x00\\x00\\x00\\x00\\x00\\x00\\x00\\x00\\x00\\x00\\x00\\x00\\x00\\x00\\x00\\x00\\x00\\x00\\x00\\x00\\x00\\x00\\x00\\x00\\x00\\x00'\n",
      "origin          : (0., 0., 0.)\n",
      "map             : b'MAP '\n",
      "machst          : [68 68  0  0]\n",
      "rms             : 0.03497914597392082\n",
      "nlabl           : 4\n",
      "label           : [b'Created by mrcfile.py                                       2022-02-21 11:13:45 '\n",
      " b'theta_x=332' b'theta_y=40' b'theta_z=335' b'' b'' b'' b'' b'' b'']\n"
     ]
    },
    {
     "name": "stderr",
     "output_type": "stream",
     "text": [
      "ic| i: b''\n",
      "ic| i: b''\n",
      "ic| i: b''\n",
      "ic| i: b'Created by mrcfile.py                                       2022-02-21 11:13:32 '\n",
      "ic| i: b'theta_x=154'\n",
      "ic| i: b'theta_y=62'\n",
      "ic| i: b'theta_z=162'\n",
      "ic| i: b''\n",
      "ic| i: b''\n",
      "ic| i: b''\n",
      "ic| i"
     ]
    },
    {
     "name": "stdout",
     "output_type": "stream",
     "text": [
      "nx              : 64\n",
      "ny              : 64\n",
      "nz              : 64\n",
      "mode            : 2\n",
      "nxstart         : 0\n",
      "nystart         : 0\n",
      "nzstart         : 0\n",
      "mx              : 64\n",
      "my              : 64\n",
      "mz              : 64\n",
      "cella           : (0., 0., 0.)\n",
      "cellb           : (90., 90., 90.)\n",
      "mapc            : 1\n",
      "mapr            : 2\n",
      "maps            : 3\n",
      "dmin            : 0.0\n",
      "dmax            : 1.0\n",
      "dmean           : 0.0015805625589564443\n",
      "ispg            : 1\n",
      "nsymbt          : 0\n",
      "extra1          : b'\\x00\\x00\\x00\\x00\\x00\\x00\\x00\\x00'\n",
      "exttyp          : b''\n",
      "nversion        : 20140\n",
      "extra2          : b'\\x00\\x00\\x00\\x00\\x00\\x00\\x00\\x00\\x00\\x00\\x00\\x00\\x00\\x00\\x00\\x00\\x00\\x00\\x00\\x00\\x00\\x00\\x00\\x00\\x00\\x00\\x00\\x00\\x00\\x00\\x00\\x00\\x00\\x00\\x00\\x00\\x00\\x00\\x00\\x00\\x00\\x00\\x00\\x00\\x00\\x00\\x00\\x00\\x00\\x00\\x00\\x00\\x00\\x00\\x00\\x00\\x00\\x00\\x00\\x00\\x00\\x00\\x00\\x00\\x00\\x00\\x00\\x00\\x00\\x00\\x00\\x00\\x00\\x00\\x00\\x00\\x00\\x00\\x00\\x00\\x00\\x00\\x00\\x00'\n",
      "origin          : (0., 0., 0.)\n",
      "map             : b'MAP '\n",
      "machst          : [68 68  0  0]\n",
      "rms             : 0.03575906530022621\n",
      "nlabl           : 4\n",
      "label           : [b'Created by mrcfile.py                                       2022-02-21 11:13:32 '\n",
      " b'theta_x=154' b'theta_y=62' b'theta_z=162' b'' b'' b'' b'' b'' b'']\n"
     ]
    },
    {
     "name": "stderr",
     "output_type": "stream",
     "text": [
      ": b''\n",
      "ic| i: b''\n",
      "ic| i: b''\n",
      "ic| i: b'Created by mrcfile.py                                       2022-02-21 11:13:40 '\n",
      "ic| i: b'theta_x=304'\n",
      "ic| i: b'theta_y=122'\n",
      "ic| i: b'theta_z=279'\n",
      "ic| i: b''\n",
      "ic| i: b''\n",
      "ic| i: b''\n"
     ]
    },
    {
     "name": "stdout",
     "output_type": "stream",
     "text": [
      "nx              : 64\n",
      "ny              : 64\n",
      "nz              : 64\n",
      "mode            : 2\n",
      "nxstart         : 0\n",
      "nystart         : 0\n",
      "nzstart         : 0\n",
      "mx              : 64\n",
      "my              : 64\n",
      "mz              : 64\n",
      "cella           : (0., 0., 0.)\n",
      "cellb           : (90., 90., 90.)\n",
      "mapc            : 1\n",
      "mapr            : 2\n",
      "maps            : 3\n",
      "dmin            : 0.0\n",
      "dmax            : 1.0\n",
      "dmean           : 0.0017617731355130672\n",
      "ispg            : 1\n",
      "nsymbt          : 0\n",
      "extra1          : b'\\x00\\x00\\x00\\x00\\x00\\x00\\x00\\x00'\n",
      "exttyp          : b''\n",
      "nversion        : 20140\n",
      "extra2          : b'\\x00\\x00\\x00\\x00\\x00\\x00\\x00\\x00\\x00\\x00\\x00\\x00\\x00\\x00\\x00\\x00\\x00\\x00\\x00\\x00\\x00\\x00\\x00\\x00\\x00\\x00\\x00\\x00\\x00\\x00\\x00\\x00\\x00\\x00\\x00\\x00\\x00\\x00\\x00\\x00\\x00\\x00\\x00\\x00\\x00\\x00\\x00\\x00\\x00\\x00\\x00\\x00\\x00\\x00\\x00\\x00\\x00\\x00\\x00\\x00\\x00\\x00\\x00\\x00\\x00\\x00\\x00\\x00\\x00\\x00\\x00\\x00\\x00\\x00\\x00\\x00\\x00\\x00\\x00\\x00\\x00\\x00\\x00\\x00'\n",
      "origin          : (0., 0., 0.)\n",
      "map             : b'MAP '\n",
      "machst          : [68 68  0  0]\n",
      "rms             : 0.03710421174764633\n",
      "nlabl           : 4\n",
      "label           : [b'Created by mrcfile.py                                       2022-02-21 11:13:40 '\n",
      " b'theta_x=304' b'theta_y=122' b'theta_z=279' b'' b'' b'' b'' b'' b'']\n"
     ]
    },
    {
     "name": "stderr",
     "output_type": "stream",
     "text": [
      "ic| i: b''\n",
      "ic| i: b''\n",
      "ic| i: b''\n",
      "ic| i: b'Created by mrcfile.py                                       2022-02-21 11:13:28 '\n",
      "ic| i: b'theta_x=56'\n",
      "ic| i: b'theta_y=17'\n",
      "ic| i: b'theta_z=209'\n",
      "ic| i: b''\n",
      "ic| i: b''\n",
      "ic| i: b''\n",
      "ic| i: b''\n",
      "ic| i: b''\n"
     ]
    },
    {
     "name": "stdout",
     "output_type": "stream",
     "text": [
      "nx              : 64\n",
      "ny              : 64\n",
      "nz              : 64\n",
      "mode            : 2\n",
      "nxstart         : 0\n",
      "nystart         : 0\n",
      "nzstart         : 0\n",
      "mx              : 64\n",
      "my              : 64\n",
      "mz              : 64\n",
      "cella           : (0., 0., 0.)\n",
      "cellb           : (90., 90., 90.)\n",
      "mapc            : 1\n",
      "mapr            : 2\n",
      "maps            : 3\n",
      "dmin            : 0.0\n",
      "dmax            : 1.0\n",
      "dmean           : 0.0016503160586580634\n",
      "ispg            : 1\n",
      "nsymbt          : 0\n",
      "extra1          : b'\\x00\\x00\\x00\\x00\\x00\\x00\\x00\\x00'\n",
      "exttyp          : b''\n",
      "nversion        : 20140\n",
      "extra2          : b'\\x00\\x00\\x00\\x00\\x00\\x00\\x00\\x00\\x00\\x00\\x00\\x00\\x00\\x00\\x00\\x00\\x00\\x00\\x00\\x00\\x00\\x00\\x00\\x00\\x00\\x00\\x00\\x00\\x00\\x00\\x00\\x00\\x00\\x00\\x00\\x00\\x00\\x00\\x00\\x00\\x00\\x00\\x00\\x00\\x00\\x00\\x00\\x00\\x00\\x00\\x00\\x00\\x00\\x00\\x00\\x00\\x00\\x00\\x00\\x00\\x00\\x00\\x00\\x00\\x00\\x00\\x00\\x00\\x00\\x00\\x00\\x00\\x00\\x00\\x00\\x00\\x00\\x00\\x00\\x00\\x00\\x00\\x00\\x00'\n",
      "origin          : (0., 0., 0.)\n",
      "map             : b'MAP '\n",
      "machst          : [68 68  0  0]\n",
      "rms             : 0.03572983294725418\n",
      "nlabl           : 4\n",
      "label           : [b'Created by mrcfile.py                                       2022-02-21 11:13:28 '\n",
      " b'theta_x=56' b'theta_y=17' b'theta_z=209' b'' b'' b'' b'' b'' b'']\n"
     ]
    },
    {
     "name": "stderr",
     "output_type": "stream",
     "text": [
      "ic| i: b''\n"
     ]
    }
   ],
   "source": [
    "from icecream import ic\n",
    "# Visualise a scrap from the training dataset\n",
    "a=64\n",
    "volume = np.zeros((a*5, a, a), dtype=np.float32)\n",
    "volume.shape\n",
    "pokeminos = ['DS_12/I_10.mrc', 'DS_12/L_1640.mrc', 'DS_12/O_354.mrc', 'DS_12/T_1144.mrc', 'DS_12/Z_17.mrc']\n",
    "for did, d in enumerate(pokeminos):\n",
    "    with mrcfile.open(d) as mrc:\n",
    "        volume[did*a:(did+1)*a, 0:a, 0:a] = mrc.data\n",
    "        mrc.print_header()\n",
    "        for i in mrc.header.label:\n",
    "            ic(i)\n",
    "with mrcfile.new('DS_12_examples', overwrite=True) as mrc:\n",
    "    mrc.set_data(volume)\n",
    "with mrcfile.open(Path('DS_12_examples')) as mrc:\n",
    "    napari.view_image(mrc.data)\n"
   ]
  },
  {
   "cell_type": "markdown",
   "metadata": {},
   "source": [
    "## Visualise all Pokeminos in a dataset"
   ]
  },
  {
   "cell_type": "code",
   "execution_count": 7,
   "metadata": {},
   "outputs": [
    {
     "name": "stdout",
     "output_type": "stream",
     "text": [
      "crowd_factor: 0.1\n"
     ]
    },
    {
     "name": "stderr",
     "output_type": "stream",
     "text": [
      "100%|██████████| 200/200 [00:28<00:00,  7.14it/s]\n",
      "ic| self.ratio: array([1.        , 1.54653877, 1.68881019])\n",
      "    self.colour: array([98.35130935,  1.        ,  0.5168881 ])\n",
      "ic| self.fractal_dim: 2.757939942052502\n",
      "/Users/anna/Library/CloudStorage/OneDrive-Nexus365/RFI/Code/Pokeminos/pokemino_generator.py:385: FutureWarning: Using a non-tuple sequence for multidimensional indexing is deprecated; use `arr[tuple(seq)]` instead of `arr[seq]`. In the future this will be interpreted as an array index, `arr[np.array(seq)]`, which will result either in an error or a different result.\n",
      "  self.array[slices] += pokemino.poke_array\n"
     ]
    },
    {
     "name": "stdout",
     "output_type": "stream",
     "text": [
      "crowd_factor: 0.1\n"
     ]
    },
    {
     "name": "stderr",
     "output_type": "stream",
     "text": [
      "100%|██████████| 200/200 [00:26<00:00,  7.63it/s]\n",
      "ic| self.ratio: array([1.        , 9.62246393, 1.39191114])\n",
      "    self.colour: array([141.96130524,   1.        ,   0.51391911])\n",
      "ic| self.fractal_dim: 2.3964636185535935\n"
     ]
    },
    {
     "name": "stdout",
     "output_type": "stream",
     "text": [
      "crowd_factor: 0.1\n"
     ]
    },
    {
     "name": "stderr",
     "output_type": "stream",
     "text": [
      "100%|██████████| 200/200 [00:22<00:00,  8.97it/s]\n",
      "ic| self.ratio: array([ 1.        , 19.01291509,  1.13374154])\n",
      "    self.colour: array([192.66974151,   1.        ,   0.51133742])\n",
      "ic| self.fractal_dim: 2.310995126181718\n"
     ]
    },
    {
     "name": "stdout",
     "output_type": "stream",
     "text": [
      "crowd_factor: 0.1\n"
     ]
    },
    {
     "name": "stderr",
     "output_type": "stream",
     "text": [
      "100%|██████████| 200/200 [00:23<00:00,  8.52it/s]\n",
      "ic| self.ratio: array([1.        , 6.46034329, 9.06628576])\n",
      "    self.colour: array([124.88585376,   1.        ,   0.59066286])\n",
      "ic| self.fractal_dim: 2.774047034173205\n"
     ]
    },
    {
     "name": "stdout",
     "output_type": "stream",
     "text": [
      "crowd_factor: 0.1\n"
     ]
    },
    {
     "name": "stderr",
     "output_type": "stream",
     "text": [
      "100%|██████████| 200/200 [00:24<00:00,  8.05it/s]\n",
      "ic| self.ratio: array([ 1.        ,  9.20256457, 16.81350607])\n",
      "    self.colour: array([139.69384867,   1.        ,   0.66813506])\n",
      "ic| self.fractal_dim: 2.4672500000983115\n"
     ]
    },
    {
     "name": "stdout",
     "output_type": "stream",
     "text": [
      "crowd_factor: 0.1\n"
     ]
    },
    {
     "name": "stderr",
     "output_type": "stream",
     "text": [
      "100%|██████████| 200/200 [00:23<00:00,  8.43it/s]\n",
      "ic| self.ratio: array([ 1.        , 17.76772255, 18.69963154])\n",
      "    self.colour: array([185.94570179,   1.        ,   0.68699632])\n",
      "ic| self.fractal_dim: 2.423428322816892\n"
     ]
    }
   ],
   "source": [
    "importlib.reload(poke)\n",
    "\n",
    "creatures = [['clefairy', 200, [1, 1, 1]], \n",
    "             ['wooper', 200, [1, 10, 1]], \n",
    "             ['onix', 200, [1, 20, 1]],\n",
    "             ['koffing', 200, [1, 10, 10]], \n",
    "             ['squirtle', 200, [1, 10, 20]],\n",
    "             ['eevee', 200, [1, 20, 20]]]\n",
    "\n",
    "colours = []\n",
    "\n",
    "a = 28\n",
    "volume = poke.Volume((a*len(creatures), a, a))\n",
    "\n",
    "for i, creature in enumerate(creatures):\n",
    "    random.seed()\n",
    "    seed, size, target_ratio = creature\n",
    "    pokemino = poke.Pokemino3D(size=size, volume=volume, seed=seed, crowd_factor=0.1, target_ratio=target_ratio, positioning=(int(a/2 + a*i), int(a/2), int(a/2)), algorithm=\"biased\")\n",
    "    colours.append(pokemino.colour)\n",
    "    #pokemino.upscale_pokemino(3)\n",
    "    #pokemino.rotate_the_pokemino_3_axes()\n",
    "    volume.fit_pokemino(pokemino)\n",
    "p\n",
    "                               \n",
    "with mrcfile.open(Path('DS_7_pokemino_clases.mrc')) as mrc:\n",
    "    viewer = napari.view_image(mrc.data)\n",
    "                               "
   ]
  },
  {
   "cell_type": "markdown",
   "metadata": {},
   "source": [
    "# 0. Reference Dataset"
   ]
  },
  {
   "cell_type": "code",
   "execution_count": 18,
   "metadata": {},
   "outputs": [
    {
     "data": {
      "text/plain": [
       "<module 'pokemino_generator' from '/Users/anna/OneDrive - Nexus365/RFI/Code/Pokeminos/pokemino_generator.py'>"
      ]
     },
     "execution_count": 18,
     "metadata": {},
     "output_type": "execute_result"
    }
   ],
   "source": [
    "importlib.reload(poke)\n",
    "\n",
    "seeds = [1, 2, 3, 4, 5, 6]\n",
    "n_bricks = [3, 7, 12, 20, 20, 40]\n",
    "\n",
    "n_pokeminos = 1000\n",
    "a_volume = 50\n",
    "\n",
    "for x in range (n_pokeminos):\n",
    "    random.seed()\n",
    "    no_pokemino=random.randint(0,5)\n",
    "    volume = poke.Volume((a_volume, a_volume, a_volume))\n",
    "    pokemino = poke.Pokemino3D(seeds[no_pokemino], n_bricks[no_pokemino], volume, positioning=([int(a_volume/2)]*3), algorithm=\"clumped\", density=1)\n",
    "    pokemino.upscale_pokemino(5)\n",
    "    pokemino.rotate_the_pokemino_3_axes()\n",
    "    volume.fit_pokemino(pokemino)\n",
    "    volume.save_as_mrcfile(Path(f'DS_0/{seeds[no_pokemino]}_{x}.mrc'))\n",
    "\n",
    "importlib.reload(poke)"
   ]
  },
  {
   "cell_type": "markdown",
   "metadata": {},
   "source": [
    "# 1. Same as 0. but with Pokemon names as seeds."
   ]
  },
  {
   "cell_type": "code",
   "execution_count": 9,
   "metadata": {},
   "outputs": [],
   "source": [
    "importlib.reload(poke)\n",
    "\n",
    "creatures = [['pidgeot', 3], \n",
    "             ['wooper', 7], \n",
    "             ['gengard', 10],\n",
    "             ['charizard', 20], \n",
    "             ['squirtle', 20],\n",
    "             ['snorlax', 40]]\n",
    "\n",
    "n_pokeminos = 1000\n",
    "a_volume = 50\n",
    "\n",
    "for x in range (n_pokeminos):\n",
    "    random.seed()\n",
    "    creature, size = random.choice(creatures)\n",
    "    volume = poke.Volume((a_volume, a_volume, a_volume))\n",
    "    pokemino = poke.Pokemino3D(creature, size, volume, positioning=([int(a_volume/2)]*3), algorithm=\"clumped\", density=1)\n",
    "    pokemino.upscale_pokemino(5)\n",
    "    pokemino.rotate_the_pokemino_3_axes()\n",
    "    volume.fit_pokemino(pokemino)\n",
    "    volume.save_as_mrcfile(Path(f'DS_1/{creature}{str(size)}_{x}.mrc'))"
   ]
  },
  {
   "cell_type": "markdown",
   "metadata": {},
   "source": [
    "# 2. Include Empty Instances"
   ]
  },
  {
   "cell_type": "code",
   "execution_count": 6,
   "metadata": {},
   "outputs": [],
   "source": [
    "importlib.reload(poke)\n",
    "\n",
    "creatures = [['pidgeot', 3], \n",
    "             ['wooper', 7], \n",
    "             ['gengard', 10],\n",
    "             ['charizard', 20], \n",
    "             ['squirtle', 20],\n",
    "             ['snorlax', 40],\n",
    "             ['empty', 0]]\n",
    "\n",
    "n_pokeminos = 1000\n",
    "a_volume = 50\n",
    "\n",
    "for x in range (n_pokeminos):\n",
    "    random.seed()\n",
    "    creature, size = random.choice(creatures)\n",
    "    volume = poke.Volume((a_volume, a_volume, a_volume))\n",
    "    if creature != 'empty':\n",
    "        pokemino = poke.Pokemino3D(creature, size, volume, positioning=([int(a_volume/2)]*3), algorithm=\"clumped\", density=1)\n",
    "        pokemino.upscale_pokemino(5)\n",
    "        pokemino.rotate_the_pokemino_3_axes()\n",
    "        volume.fit_pokemino(pokemino)\n",
    "    volume.save_as_mrcfile(Path(f'DS_2/{creature}-{size}_{x}.mrc'))"
   ]
  },
  {
   "cell_type": "markdown",
   "metadata": {},
   "source": [
    "## 3. Change Volume shape to 48x48x48 to make patch extraction symmetric"
   ]
  },
  {
   "cell_type": "code",
   "execution_count": 3,
   "metadata": {},
   "outputs": [
    {
     "name": "stderr",
     "output_type": "stream",
     "text": [
      "/Users/anna/OneDrive - Nexus365/RFI/Code/Pokeminos/pokemino_generator.py:233: FutureWarning: Using a non-tuple sequence for multidimensional indexing is deprecated; use `arr[tuple(seq)]` instead of `arr[seq]`. In the future this will be interpreted as an array index, `arr[np.array(seq)]`, which will result either in an error or a different result.\n",
      "  self.array[slices] += pokemino.poke_array\n"
     ]
    }
   ],
   "source": [
    "importlib.reload(poke)\n",
    "\n",
    "creatures = [['pidgeot', 3], \n",
    "             ['wooper', 7], \n",
    "             ['gengard', 10],\n",
    "             ['charizard', 20], \n",
    "             ['squirtle', 20],\n",
    "             ['snorlax', 40]]\n",
    "\n",
    "n_pokeminos = 1000\n",
    "a_volume = 48\n",
    "\n",
    "for x in range (n_pokeminos):\n",
    "    random.seed()\n",
    "    creature, size = random.choice(creatures)\n",
    "    volume = poke.Volume((a_volume, a_volume, a_volume))\n",
    "    pokemino = poke.Pokemino3D(creature, size, volume, positioning=([int(a_volume/2)]*3), algorithm=\"clumped\", density=1)\n",
    "    pokemino.upscale_pokemino(5)\n",
    "    pokemino.rotate_the_pokemino_3_axes()\n",
    "    volume.fit_pokemino(pokemino)\n",
    "    volume.save_as_mrcfile(Path(f'DS_3/{creature}-{size}_{x}.mrc'))"
   ]
  },
  {
   "cell_type": "markdown",
   "metadata": {},
   "source": [
    "## 4. Include Empty Instances and Make Bigger"
   ]
  },
  {
   "cell_type": "code",
   "execution_count": 12,
   "metadata": {},
   "outputs": [],
   "source": [
    "importlib.reload(poke)\n",
    "\n",
    "creatures = [['pidgeot', 3], \n",
    "             ['wooper', 7], \n",
    "             ['gengard', 10],\n",
    "             ['charizard', 20], \n",
    "             ['squirtle', 20],\n",
    "             ['snorlax', 40],\n",
    "             ['empty', 0]]\n",
    "\n",
    "n_pokeminos = 200\n",
    "a_volume = 78\n",
    "\n",
    "for x in range (n_pokeminos):\n",
    "    random.seed()\n",
    "    creature, size = random.choice(creatures)\n",
    "    volume = poke.Volume((a_volume, a_volume, a_volume))\n",
    "    if creature != 'empty':\n",
    "        pokemino = poke.Pokemino3D(creature, size, volume, positioning=([int(a_volume/2)]*3), algorithm=\"clumped\", density=1)\n",
    "        pokemino.upscale_pokemino(5)\n",
    "        pokemino.rotate_the_pokemino_3_axes()\n",
    "        volume.fit_pokemino(pokemino)\n",
    "    volume.save_as_mrcfile(Path(f'DS_4/{creature}-{size}_{x}.mrc'))"
   ]
  },
  {
   "cell_type": "markdown",
   "metadata": {},
   "source": [
    "## 5. Single patch Pokeminos"
   ]
  },
  {
   "cell_type": "markdown",
   "metadata": {},
   "source": [
    "I had to decrease snorlax to fit inside the 28x28x28 volume"
   ]
  },
  {
   "cell_type": "markdown",
   "metadata": {},
   "source": [
    "This code is lost :)) "
   ]
  },
  {
   "cell_type": "markdown",
   "metadata": {},
   "source": [
    "## 6. Single-patch, single-size Pokeminos"
   ]
  },
  {
   "cell_type": "code",
   "execution_count": null,
   "metadata": {},
   "outputs": [],
   "source": [
    "importlib.reload(poke)\n",
    "\n",
    "creatures = [['clefairy', 25, 'extended'], \n",
    "             ['wooper', 25, 'extended'], \n",
    "             ['onix', 25, 'extended'],\n",
    "             ['koffing', 25, 'clumped'], \n",
    "             ['squirtle', 25, 'clumped'],\n",
    "             ['eevee', 25, 'clumped']]\n",
    "\n",
    "n_pokeminos = 1000\n",
    "a_volume = 28\n",
    "\n",
    "for x in range (n_pokeminos):\n",
    "    random.seed()\n",
    "    creature, size, algorithm = random.choice(creatures)\n",
    "    volume = poke.Volume((a_volume, a_volume, a_volume))\n",
    "    pokemino = poke.Pokemino3D(creature, size, volume, positioning=([int(a_volume/2)]*3), algorithm=algorithm, density=1)\n",
    "    pokemino.upscale_pokemino(3)\n",
    "    theta_x, theta_y, theta_z = pokemino.rotate_the_pokemino_3_axes()\n",
    "    volume.fit_pokemino(pokemino)\n",
    "    with mrcfile.new(Path(f'DS_6/{creature}-{size}_{x}.mrc')) as mrc:\n",
    "        mrc.set_data(volume.array)\n",
    "        mrc.header.exttyp = np.int8\n",
    "        mrc.set_extended_header({'theta_x': theta_x, 'theta_y': theta_y, 'theta_z': theta_z})"
   ]
  },
  {
   "cell_type": "markdown",
   "metadata": {},
   "source": [
    "## 7. First biased Pokeminos"
   ]
  },
  {
   "cell_type": "code",
   "execution_count": 11,
   "metadata": {},
   "outputs": [
    {
     "name": "stderr",
     "output_type": "stream",
     "text": [
      "100%|██████████| 250/250 [00:41<00:00,  6.06it/s]\n",
      "ic| self.ratio: array([ 1.        ,  6.69978773, 13.02421048])\n",
      "    self.colour: array([180.4471344 ,   1.        ,   0.82560526])\n",
      "ic| self.fractal_dim: 2.706581519860204\n",
      "100%|██████████| 250/250 [00:50<00:00,  4.94it/s]\n",
      "ic| self.ratio: array([ 1.        , 10.70516499, 15.19054116])\n",
      "    self.colour: array([234.51972735,   1.        ,   0.87976353])\n",
      "ic| self.fractal_dim: 2.7117717727189627\n",
      "100%|██████████| 250/250 [00:38<00:00,  6.41it/s]\n",
      "ic| self.ratio: array([ 1.        , 11.78700375,  3.18910543])\n",
      "    self.colour: array([249.12455057,   1.        ,   0.57972764])\n",
      "ic| self.fractal_dim: 2.4284828458019727\n",
      "100%|██████████| 250/250 [00:50<00:00,  4.99it/s]\n",
      "ic| self.ratio: array([ 1.        ,  9.22200091, 16.19410253])\n",
      "    self.colour: array([214.49701235,   1.        ,   0.90485256])\n",
      "ic| self.fractal_dim: 2.728125983945368\n",
      "100%|██████████| 250/250 [00:38<00:00,  6.45it/s]\n",
      "ic| self.ratio: array([1.        , 4.87685314, 3.94787335])\n",
      "    self.colour: array([155.83751744,   1.        ,   0.59869683])\n",
      "ic| self.fractal_dim: 2.5531307065126416\n"
     ]
    }
   ],
   "source": [
    "importlib.reload(poke)\n",
    "\n",
    "pokemino_names = ['Bulbasaur', 'Ivysaur', 'Venusaur', 'Charmander', 'Charmeleon', 'Charizard', 'Squirtle', 'Wartortle', 'Blastoise', 'Caterpie', 'Metapod', 'Butterfree', 'Weedle', 'Kakuna', 'Beedrill', 'Pidgey', 'Pidgeotto', 'Pidgeot', 'Rattata', 'Raticate', 'Spearow', 'Fearow', 'Ekans', 'Arbok', 'Pikachu', 'Raichu', 'Sandshrew', 'Sandslash', 'Nidoran♀', 'Nidorina', 'Nidoqueen', 'Nidoran♂', 'Nidorino', 'Nidoking', 'Clefairy', 'Clefable', 'Vulpix', 'Ninetales', 'Jigglypuff', 'Wigglytuff', 'Zubat', 'Golbat', 'Oddish', 'Gloom', 'Vileplume', 'Paras', 'Parasect', 'Venonat', 'Venomoth', 'Diglett', 'Dugtrio', 'Meowth', 'Persian', 'Psyduck', 'Golduck', 'Mankey', 'Primeape', 'Growlithe', 'Arcanine', 'Poliwag', 'Poliwhirl', 'Poliwrath', 'Abra', 'Kadabra', 'Alakazam', 'Machop', 'Machoke', 'Machamp', 'Bellsprout', 'Weepinbell', 'Victreebel', 'Tentacool', 'Tentacruel', 'Geodude', 'Graveler', 'Golem', 'Ponyta', 'Rapidash', 'Slowpoke', 'Slowbro', 'Magnemite', 'Magneton', \"Farfetch'd\", 'Doduo', 'Dodrio', 'Seel', 'Dewgong', 'Grimer', 'Muk', 'Shellder', 'Cloyster', 'Gastly', 'Haunter', 'Gengar', 'Onix', 'Drowzee', 'Hypno', 'Krabby', 'Kingler', 'Voltorb', 'Electrode', 'Exeggcute', 'Exeggutor', 'Cubone', 'Marowak', 'Hitmonlee', 'Hitmonchan', 'Lickitung', 'Koffing', 'Weezing', 'Rhyhorn', 'Rhydon', 'Chansey', 'Tangela', 'Kangaskhan', 'Horsea', 'Seadra', 'Goldeen', 'Seaking', 'Staryu', 'Starmie', 'Scyther', 'Jynx', 'Electabuzz', 'Magmar', 'Pinsir', 'Tauros', 'Magikarp', 'Gyarados', 'Lapras', 'Ditto', 'Eevee', 'Vaporeon', 'Jolteon', 'Flareon', 'Porygon', 'Omanyte', 'Omastar', 'Kabuto', 'Kabutops', 'Aerodactyl', 'Snorlax', 'Articuno', 'Zapdos', 'Moltres', 'Dratini', 'Dragonair', 'Dragonite', 'Mewtwo', 'Mew', 'Chikorita', 'Bayleef', 'Meganium', 'Cyndaquil', 'Quilava', 'Typhlosion', 'Totodile', 'Croconaw', 'Feraligatr', 'Sentret', 'Furret', 'Hoothoot', 'Noctowl', 'Ledyba', 'Ledian', 'Spinarak', 'Ariados', 'Crobat', 'Chinchou', 'Lanturn', 'Pichu', 'Cleffa', 'Igglybuff', 'Togepi', 'Togetic', 'Natu', 'Xatu', 'Mareep', 'Flaaffy', 'Ampharos', 'Bellossom', 'Marill', 'Azumarill', 'Sudowoodo', 'Politoed', 'Hoppip', 'Skiploom', 'Jumpluff', 'Aipom', 'Sunkern', 'Sunflora', 'Yanma', 'Wooper', 'Quagsire', 'Espeon', 'Umbreon', 'Murkrow', 'Slowking', 'Misdreavus', 'Unown', 'Wobbuffet', 'Girafarig', 'Pineco', 'Forretress', 'Dunsparce', 'Gligar', 'Steelix', 'Snubbull', 'Granbull', 'Qwilfish', 'Scizor', 'Shuckle', 'Heracross', 'Sneasel', 'Teddiursa', 'Ursaring', 'Slugma', 'Magcargo', 'Swinub', 'Piloswine', 'Corsola', 'Remoraid', 'Octillery', 'Delibird', 'Mantine', 'Skarmory', 'Houndour', 'Houndoom', 'Kingdra', 'Phanpy', 'Donphan', 'Porygon2', 'Stantler', 'Smeargle', 'Tyrogue', 'Hitmontop', 'Smoochum', 'Elekid', 'Magby', 'Miltank', 'Blissey', 'Raikou', 'Entei', 'Suicune', 'Larvitar', 'Pupitar', 'Tyranitar', 'Lugia', 'Ho-oh', 'Celebi', 'Treecko', 'Grovyle', 'Sceptile', 'Torchic', 'Combusken', 'Blaziken', 'Mudkip', 'Marshtomp', 'Swampert', 'Poochyena', 'Mightyena', 'Zigzagoon', 'Linoone', 'Wurmple', 'Silcoon', 'Beautifly', 'Cascoon', 'Dustox', 'Lotad', 'Lombre', 'Ludicolo', 'Seedot', 'Nuzleaf', 'Shiftry', 'Taillow', 'Swellow', 'Wingull', 'Pelipper', 'Ralts', 'Kirlia', 'Gardevoir', 'Surskit', 'Masquerain', 'Shroomish', 'Breloom', 'Slakoth', 'Vigoroth', 'Slaking', 'Nincada', 'Ninjask', 'Shedinja', 'Whismur', 'Loudred', 'Exploud', 'Makuhita', 'Hariyama', 'Azurill', 'Nosepass', 'Skitty', 'Delcatty', 'Sableye', 'Mawile', 'Aron', 'Lairon', 'Aggron', 'Meditite', 'Medicham', 'Electrike', 'Manectric', 'Plusle', 'Minun', 'Volbeat', 'Illumise', 'Roselia', 'Gulpin', 'Swalot', 'Carvanha', 'Sharpedo', 'Wailmer', 'Wailord', 'Numel', 'Camerupt', 'Torkoal', 'Spoink', 'Grumpig', 'Spinda', 'Trapinch', 'Vibrava', 'Flygon', 'Cacnea', 'Cacturne', 'Swablu', 'Altaria', 'Zangoose', 'Seviper', 'Lunatone', 'Solrock', 'Barboach', 'Whiscash', 'Corphish', 'Crawdaunt', 'Baltoy', 'Claydol', 'Lileep', 'Cradily', 'Anorith', 'Armaldo', 'Feebas', 'Milotic', 'Castform', 'Kecleon', 'Shuppet', 'Banette', 'Duskull', 'Dusclops', 'Tropius', 'Chimecho', 'Absol', 'Wynaut', 'Snorunt', 'Glalie', 'Spheal', 'Sealeo', 'Walrein', 'Clamperl', 'Huntail', 'Gorebyss', 'Relicanth', 'Luvdisc', 'Bagon', 'Shelgon', 'Salamence', 'Beldum', 'Metang', 'Metagross', 'Regirock', 'Regice', 'Registeel', 'Latias', 'Latios', 'Kyogre', 'Groudon', 'Rayquaza', 'Jirachi', 'Turtwig', 'Grotle', 'Torterra', 'Chimchar', 'Monferno', 'Infernape', 'Piplup', 'Prinplup', 'Empoleon', 'Starly', 'Staravia', 'Staraptor', 'Bidoof', 'Bibarel', 'Kricketot', 'Kricketune', 'Shinx', 'Luxio', 'Luxray', 'Budew', 'Roserade', 'Cranidos', 'Rampardos', 'Shieldon', 'Bastiodon', 'Burmy', 'Mothim', 'Combee', 'Vespiquen', 'Pachirisu', 'Buizel', 'Floatzel', 'Cherubi', 'Cherrim', 'Shellos', 'Gastrodon', 'Ambipom', 'Drifloon', 'Drifblim', 'Buneary', 'Lopunny', 'Mismagius', 'Honchkrow', 'Glameow', 'Purugly', 'Chingling', 'Stunky', 'Skuntank', 'Bronzor', 'Bronzong', 'Bonsly', 'Happiny', 'Chatot', 'Spiritomb', 'Gible', 'Gabite', 'Garchomp', 'Munchlax', 'Riolu', 'Lucario', 'Hippopotas', 'Hippowdon', 'Skorupi', 'Drapion', 'Croagunk', 'Toxicroak', 'Carnivine', 'Finneon', 'Lumineon', 'Mantyke', 'Snover', 'Abomasnow', 'Weavile', 'Magnezone', 'Lickilicky', 'Rhyperior', 'Tangrowth', 'Electivire', 'Magmortar', 'Togekiss', 'Yanmega', 'Leafeon', 'Glaceon', 'Gliscor', 'Mamoswine', 'Porygon-Z', 'Gallade', 'Probopass', 'Dusknoir', 'Froslass', 'Rotom', 'Uxie', 'Mesprit', 'Azelf', 'Dialga', 'Palkia', 'Heatran', 'Regigigas', 'Cresselia', 'Phione', 'Manaphy', 'Darkrai', 'Arceus', 'Victini', 'Snivy', 'Servine', 'Serperior', 'Tepig', 'Pignite', 'Emboar', 'Oshawott', 'Dewott', 'Samurott', 'Patrat', 'Watchog', 'Lillipup', 'Herdier', 'Stoutland', 'Purrloin', 'Liepard', 'Pansage', 'Simisage', 'Pansear', 'Simisear', 'Panpour', 'Simipour', 'Munna', 'Musharna', 'Pidove', 'Tranquill', 'Unfezant', 'Blitzle', 'Zebstrika', 'Roggenrola', 'Boldore', 'Gigalith', 'Woobat', 'Swoobat', 'Drilbur', 'Excadrill', 'Audino', 'Timburr', 'Gurdurr', 'Conkeldurr', 'Tympole', 'Palpitoad', 'Seismitoad', 'Throh', 'Sawk', 'Sewaddle', 'Swadloon', 'Leavanny', 'Venipede', 'Whirlipede', 'Scolipede', 'Cottonee', 'Whimsicott', 'Petilil', 'Lilligant', 'Basculin', 'Sandile', 'Krokorok', 'Krookodile', 'Darumaka', 'Maractus', 'Dwebble', 'Crustle', 'Scraggy', 'Scrafty', 'Sigilyph', 'Yamask', 'Cofagrigus', 'Tirtouga', 'Carracosta', 'Archen', 'Archeops', 'Trubbish', 'Garbodor', 'Zorua', 'Zoroark', 'Minccino', 'Cinccino', 'Gothita', 'Gothorita', 'Gothitelle', 'Solosis', 'Duosion', 'Reuniclus', 'Ducklett', 'Swanna', 'Vanillite', 'Vanillish', 'Vanilluxe', 'Deerling', 'Sawsbuck', 'Emolga', 'Karrablast', 'Escavalier', 'Foongus', 'Amoonguss', 'Frillish', 'Jellicent', 'Alomomola', 'Joltik', 'Galvantula', 'Ferroseed', 'Ferrothorn', 'Klink', 'Klang', 'Klinklang', 'Tynamo', 'Eelektrik', 'Eelektross', 'Elgyem', 'Beheeyem', 'Litwick', 'Lampent', 'Chandelure', 'Axew', 'Fraxure', 'Haxorus', 'Cubchoo', 'Beartic', 'Cryogonal', 'Shelmet', 'Accelgor', 'Stunfisk', 'Mienfoo', 'Mienshao', 'Druddigon', 'Golett', 'Golurk', 'Pawniard', 'Bisharp', 'Bouffalant', 'Rufflet', 'Braviary', 'Vullaby', 'Mandibuzz', 'Heatmor', 'Durant', 'Deino', 'Zweilous', 'Hydreigon', 'Larvesta', 'Volcarona', 'Cobalion', 'Terrakion', 'Virizion', 'Reshiram', 'Zekrom', 'Kyurem', 'Genesect', 'Chespin', 'Quilladin', 'Chesnaught', 'Fennekin', 'Braixen', 'Delphox', 'Froakie', 'Frogadier', 'Greninja', 'Bunnelby', 'Diggersby', 'Fletchling', 'Fletchinder', 'Talonflame', 'Scatterbug', 'Spewpa', 'Vivillon', 'Litleo', 'Pyroar', 'Flabébé', 'Floette', 'Florges', 'Skiddo', 'Gogoat', 'Pancham', 'Pangoro', 'Furfrou', 'Espurr', 'MeowsticMale', 'MeowsticFemale', 'Honedge', 'Doublade', 'Spritzee', 'Aromatisse', 'Swirlix', 'Slurpuff', 'Inkay', 'Malamar', 'Binacle', 'Barbaracle', 'Skrelp', 'Dragalge', 'Clauncher', 'Clawitzer', 'Helioptile', 'Heliolisk', 'Tyrunt', 'Tyrantrum', 'Amaura', 'Aurorus', 'Sylveon', 'Hawlucha', 'Dedenne', 'Carbink', 'Goomy', 'Sliggoo', 'Goodra', 'Klefki', 'Phantump', 'Trevenant', 'Bergmite', 'Avalugg', 'Noibat', 'Noivern', 'Xerneas', 'Yveltal', 'Diancie', 'Volcanion']\n",
    "size = 250\n",
    "a_volume = 28\n",
    "max_ratio = 20\n",
    "algorithm = 'biased'\n",
    "n_pokeminos = 5\n",
    "\n",
    "for x in range (n_pokeminos):\n",
    "    random.seed()\n",
    "    seed = random.choice(pokemino_names)\n",
    "    volume = poke.Volume((a_volume, a_volume, a_volume))\n",
    "    target_ratio = [1, random.uniform(1, max_ratio), random.uniform(1, max_ratio)]\n",
    "    pokemino = poke.Pokemino3D(size=size, volume=volume, seed=seed, crowd_factor=0.1, target_ratio=target_ratio, positioning=(int(a/2), int(a/2), int(a/2)), algorithm=\"biased\", max_ratio=max_ratio)\n",
    "    #pokemino.upscale_pokemino(3)\n",
    "    #theta_x, theta_y, theta_z = pokemino.rotate_the_pokemino_3_axes()\n",
    "    volume.fit_pokemino(pokemino)\n",
    "    with mrcfile.new(Path(f'DS_7/{x}_{seed}.mrc'), overwrite=True) as mrc:\n",
    "        mrc.set_data(volume.array)\n",
    "        mrc.header.label[1] = f\"ratio_y_x={str(pokemino.ratio[1])}\"\n",
    "        mrc.header.label[2] = f\"ratio_z_x={str(pokemino.ratio[2])}\"\n",
    "        mrc.header.label[3] = f\"fractal_dim={str(pokemino.fractal_dim)}\"\n",
    "        mrc.header.nlabl=4"
   ]
  },
  {
   "cell_type": "code",
   "execution_count": 12,
   "metadata": {},
   "outputs": [
    {
     "name": "stdout",
     "output_type": "stream",
     "text": [
      "nx              : 28\n",
      "ny              : 28\n",
      "nz              : 28\n",
      "mode            : 2\n",
      "nxstart         : 0\n",
      "nystart         : 0\n",
      "nzstart         : 0\n",
      "mx              : 28\n",
      "my              : 28\n",
      "mz              : 28\n",
      "cella           : (0., 0., 0.)\n",
      "cellb           : (90., 90., 90.)\n",
      "mapc            : 1\n",
      "mapr            : 2\n",
      "maps            : 3\n",
      "dmin            : 0.0\n",
      "dmax            : 1.0\n",
      "dmean           : 0.011388484388589859\n",
      "ispg            : 1\n",
      "nsymbt          : 0\n",
      "extra1          : b'\\x00\\x00\\x00\\x00\\x00\\x00\\x00\\x00'\n",
      "exttyp          : b''\n",
      "nversion        : 20140\n",
      "extra2          : b'\\x00\\x00\\x00\\x00\\x00\\x00\\x00\\x00\\x00\\x00\\x00\\x00\\x00\\x00\\x00\\x00\\x00\\x00\\x00\\x00\\x00\\x00\\x00\\x00\\x00\\x00\\x00\\x00\\x00\\x00\\x00\\x00\\x00\\x00\\x00\\x00\\x00\\x00\\x00\\x00\\x00\\x00\\x00\\x00\\x00\\x00\\x00\\x00\\x00\\x00\\x00\\x00\\x00\\x00\\x00\\x00\\x00\\x00\\x00\\x00\\x00\\x00\\x00\\x00\\x00\\x00\\x00\\x00\\x00\\x00\\x00\\x00\\x00\\x00\\x00\\x00\\x00\\x00\\x00\\x00\\x00\\x00\\x00\\x00'\n",
      "origin          : (0., 0., 0.)\n",
      "map             : b'MAP '\n",
      "machst          : [68 68  0  0]\n",
      "rms             : 0.1061074286699295\n",
      "nlabl           : 4\n",
      "label           : [b'Created by mrcfile.py                                       2022-02-02 15:30:27 '\n",
      " b'ratio_y_x=6.699787733450944' b'ratio_z_x=13.024210476165027'\n",
      " b'fractal_dim=2.706581519860204' b'' b'' b'' b'' b'' b'']\n"
     ]
    }
   ],
   "source": [
    "with mrcfile.open(Path(f'DS_7/0_Durant.mrc')) as mrc:\n",
    "    mrc.print_header()"
   ]
  },
  {
   "cell_type": "markdown",
   "metadata": {},
   "source": [
    "## 9: Tetraminos in random rotations"
   ]
  },
  {
   "cell_type": "code",
   "execution_count": 24,
   "metadata": {},
   "outputs": [
    {
     "data": {
      "text/plain": [
       "0"
      ]
     },
     "execution_count": 24,
     "metadata": {},
     "output_type": "execute_result"
    }
   ],
   "source": [
    "random.choice(range(0, 5))"
   ]
  },
  {
   "cell_type": "code",
   "execution_count": 9,
   "metadata": {},
   "outputs": [
    {
     "name": "stderr",
     "output_type": "stream",
     "text": [
      "/Users/anna/Library/CloudStorage/OneDrive-Nexus365/RFI/Code/Pokeminos/pokemino_generator.py:399: FutureWarning: Using a non-tuple sequence for multidimensional indexing is deprecated; use `arr[tuple(seq)]` instead of `arr[seq]`. In the future this will be interpreted as an array index, `arr[np.array(seq)]`, which will result either in an error or a different result.\n",
      "  self.array[slices] += pokemino.poke_array\n"
     ]
    }
   ],
   "source": [
    "tetraminos = [[[0, 0, 0], [0, 0, 1], [0, 0, 2], [0, 0, 3]],\n",
    "              [[0, 0, 0], [0, 0, 1], [0, 1, 0], [0, 1, 1]],\n",
    "              [[0, 0, 0], [0, 0, 1], [0, 1, 1], [0, 1, 2]], \n",
    "              [[0, 0, 0], [0, 0, 1], [0, 0, 2], [0, 1, 1]], \n",
    "              [[0, 0, 0], [0, 0, 1], [0, 0, 2], [0, 1, 0]]]\n",
    "\n",
    "tetra_id = ['I', 'O', 'Z', 'T', 'L']\n",
    "\n",
    "importlib.reload(poke)\n",
    "\n",
    "a_volume = 28\n",
    "\n",
    "n_pokeminos = 2000\n",
    "\n",
    "for x in range (n_pokeminos):\n",
    "    random.seed()\n",
    "    seed = random.choice(range(0, 5))\n",
    "    volume = poke.Volume((a_volume, a_volume, a_volume))\n",
    "    pokemino = poke.Pokemino3D(size=4, volume=volume, brick_coords=tetraminos[seed], positioning=(int(a/2), int(a/2), int(a/2)), algorithm=None)\n",
    "    pokemino.upscale_pokemino(4)\n",
    "    theta_x, theta_y, theta_z = pokemino.rotate_the_pokemino_3_axes()\n",
    "    volume.fit_pokemino(pokemino)\n",
    "    with mrcfile.new(Path(f'DS_9/{tetra_id[seed]}_{x}.mrc'), overwrite=True) as mrc:\n",
    "        mrc.set_data(volume.array)\n",
    "        mrc.header.label[1] = f\"theta_x={str(theta_x)}\"\n",
    "        mrc.header.label[2] = f\"theta_y={str(theta_y)}\"\n",
    "        mrc.header.label[3] = f\"theta_z={str(theta_z)}\"\n",
    "        mrc.header.nlabl=4\n",
    "\n"
   ]
  },
  {
   "cell_type": "markdown",
   "metadata": {},
   "source": [
    "## 10. Tetraminos in random rotations around 1 axis"
   ]
  },
  {
   "cell_type": "code",
   "execution_count": 12,
   "metadata": {},
   "outputs": [
    {
     "name": "stderr",
     "output_type": "stream",
     "text": [
      "/Users/anna/Library/CloudStorage/OneDrive-Nexus365/RFI/Code/Pokeminos/pokemino_generator.py:399: FutureWarning: Using a non-tuple sequence for multidimensional indexing is deprecated; use `arr[tuple(seq)]` instead of `arr[seq]`. In the future this will be interpreted as an array index, `arr[np.array(seq)]`, which will result either in an error or a different result.\n",
      "  self.array[slices] += pokemino.poke_array\n"
     ]
    }
   ],
   "source": [
    "tetraminos = [[[0, 0, 0], [0, 0, 1], [0, 0, 2], [0, 0, 3]],\n",
    "              [[0, 0, 0], [0, 0, 1], [0, 1, 0], [0, 1, 1]],\n",
    "              [[0, 0, 0], [0, 0, 1], [0, 1, 1], [0, 1, 2]], \n",
    "              [[0, 0, 0], [0, 0, 1], [0, 0, 2], [0, 1, 1]], \n",
    "              [[0, 0, 0], [0, 0, 1], [0, 0, 2], [0, 1, 0]]]\n",
    "\n",
    "tetra_id = ['I', 'O', 'Z', 'T', 'L']\n",
    "\n",
    "importlib.reload(poke)\n",
    "\n",
    "a_volume = 28\n",
    "\n",
    "n_pokeminos = 2000\n",
    "\n",
    "for x in range (n_pokeminos):\n",
    "    random.seed()\n",
    "    seed = random.choice(range(0, 5))\n",
    "    volume = poke.Volume((a_volume, a_volume, a_volume))\n",
    "    pokemino = poke.Pokemino3D(size=4, volume=volume, brick_coords=tetraminos[seed], positioning=(int(a/2), int(a/2), int(a/2)), algorithm=None)\n",
    "    pokemino.upscale_pokemino(4)\n",
    "    theta = pokemino.rotate_the_pokemino_1_axis()\n",
    "    volume.fit_pokemino(pokemino)\n",
    "    with mrcfile.new(Path(f'DS_10/{tetra_id[seed]}_{x}.mrc'), overwrite=True) as mrc:\n",
    "        mrc.set_data(volume.array)\n",
    "        mrc.header.label[1] = f\"theta={str(theta)}\"\n",
    "        mrc.header.nlabl=2\n",
    "\n"
   ]
  },
  {
   "cell_type": "markdown",
   "metadata": {},
   "source": [
    "## 11. Tetraminos in 64x64x64 volumes \n",
    "(to test varying --depth)"
   ]
  },
  {
   "cell_type": "code",
   "execution_count": 9,
   "metadata": {},
   "outputs": [
    {
     "name": "stderr",
     "output_type": "stream",
     "text": [
      "/Users/anna/Library/CloudStorage/OneDrive-Nexus365/RFI/Code/Pokeminos/pokemino_generator.py:399: FutureWarning: Using a non-tuple sequence for multidimensional indexing is deprecated; use `arr[tuple(seq)]` instead of `arr[seq]`. In the future this will be interpreted as an array index, `arr[np.array(seq)]`, which will result either in an error or a different result.\n",
      "  self.array[slices] += pokemino.poke_array\n"
     ]
    }
   ],
   "source": [
    "tetraminos = [[[0, 0, 0], [0, 0, 1], [0, 0, 2], [0, 0, 3]],\n",
    "              [[0, 0, 0], [0, 0, 1], [0, 1, 0], [0, 1, 1]],\n",
    "              [[0, 0, 0], [0, 0, 1], [0, 1, 1], [0, 1, 2]], \n",
    "              [[0, 0, 0], [0, 0, 1], [0, 0, 2], [0, 1, 1]], \n",
    "              [[0, 0, 0], [0, 0, 1], [0, 0, 2], [0, 1, 0]]]\n",
    "\n",
    "tetra_id = ['I', 'O', 'Z', 'T', 'L']\n",
    "\n",
    "importlib.reload(poke)\n",
    "\n",
    "a = 64\n",
    "\n",
    "n_pokeminos = 2000\n",
    "\n",
    "for x in range (n_pokeminos):\n",
    "    random.seed()\n",
    "    seed = random.choice(range(0, 5))\n",
    "    volume = poke.Volume((a_volume, a_volume, a_volume))\n",
    "    pokemino = poke.Pokemino3D(size=4, volume=volume, brick_coords=tetraminos[seed], positioning=(int(a/2), int(a/2), int(a/2)), algorithm=None)\n",
    "    pokemino.upscale_pokemino(5)\n",
    "    theta = pokemino.rotate_the_pokemino_1_axis(axes=(2, 1))\n",
    "    volume.fit_pokemino(pokemino)\n",
    "    with mrcfile.new(Path(f'DS_11/{tetra_id[seed]}_{x}.mrc'), overwrite=True) as mrc:\n",
    "        mrc.set_data(volume.array)\n",
    "        mrc.header.label[1] = f\"theta={str(theta)}\"\n",
    "        mrc.header.nlabl=2\n",
    "\n"
   ]
  },
  {
   "cell_type": "markdown",
   "metadata": {},
   "source": [
    "## 12. Tetraminos rotated around 3 axes in 64x64x64 volumes \n",
    "(to test varying --depth)"
   ]
  },
  {
   "cell_type": "code",
   "execution_count": 18,
   "metadata": {},
   "outputs": [
    {
     "name": "stderr",
     "output_type": "stream",
     "text": [
      "/Users/anna/Library/CloudStorage/OneDrive-Nexus365/RFI/Code/Pokeminos/pokemino_generator.py:240: RuntimeWarning: divide by zero encountered in true_divide\n",
      "  \n",
      "/Users/anna/Library/CloudStorage/OneDrive-Nexus365/RFI/Code/Pokeminos/pokemino_generator.py:240: RuntimeWarning: invalid value encountered in true_divide\n",
      "  \n",
      "/Users/anna/Library/CloudStorage/OneDrive-Nexus365/RFI/Code/Pokeminos/pokemino_generator.py:401: FutureWarning: Using a non-tuple sequence for multidimensional indexing is deprecated; use `arr[tuple(seq)]` instead of `arr[seq]`. In the future this will be interpreted as an array index, `arr[np.array(seq)]`, which will result either in an error or a different result.\n",
      "  \n"
     ]
    }
   ],
   "source": [
    "tetraminos = [[[0, 0, 0], [0, 0, 1], [0, 0, 2], [0, 0, 3]],\n",
    "              [[0, 0, 0], [0, 0, 1], [0, 1, 0], [0, 1, 1]],\n",
    "              [[0, 0, 0], [0, 0, 1], [0, 1, 1], [0, 1, 2]], \n",
    "              [[0, 0, 0], [0, 0, 1], [0, 0, 2], [0, 1, 1]], \n",
    "              [[0, 0, 0], [0, 0, 1], [0, 0, 2], [0, 1, 0]]]\n",
    "\n",
    "tetra_id = ['I', 'O', 'Z', 'T', 'L']\n",
    "\n",
    "importlib.reload(poke)\n",
    "\n",
    "a = 64\n",
    "\n",
    "n_pokeminos = 2000\n",
    "\n",
    "for x in range (n_pokeminos):\n",
    "    random.seed()\n",
    "    seed = random.choice(range(0, 5))\n",
    "    volume = poke.Volume((a, a, a))\n",
    "    pokemino = poke.Pokemino3D(size=4, volume=volume, brick_coords=tetraminos[seed], positioning=(int(a/2), int(a/2), int(a/2)), algorithm=False)\n",
    "    pokemino.upscale_pokemino(5)b\n",
    "    theta_x, theta_y, theta_z = pokemino.rotate_the_pokemino_3_axes()\n",
    "    volume.fit_pokemino(pokemino)\n",
    "    with mrcfile.new(Path(f'DS_12/{tetra_id[seed]}_{x}.mrc'), overwrite=True) as mrc:\n",
    "        mrc.set_data(volume.array)\n",
    "        mrc.header.label[1] = f\"theta_x={str(theta_x)}\"\n",
    "        mrc.header.label[2] = f\"theta_y={str(theta_y)}\"\n",
    "        mrc.header.label[3] = f\"theta_z={str(theta_z)}\"\n",
    "        mrc.header.nlabl=4"
   ]
  },
  {
   "cell_type": "markdown",
   "metadata": {},
   "source": [
    "## 13. First dataset with upscaling before populating poke_array + random shifts around central positioning"
   ]
  },
  {
   "cell_type": "code",
   "execution_count": 183,
   "metadata": {},
   "outputs": [
    {
     "ename": "ValueError",
     "evalue": "operands could not be broadcast together with shapes (14,14,0) (14,14,13) (14,14,0) ",
     "output_type": "error",
     "traceback": [
      "\u001b[0;31m---------------------------------------------------------------------------\u001b[0m",
      "\u001b[0;31mValueError\u001b[0m                                Traceback (most recent call last)",
      "\u001b[0;32m<ipython-input-183-3cbe1d744a29>\u001b[0m in \u001b[0;36m<module>\u001b[0;34m\u001b[0m\n\u001b[1;32m     21\u001b[0m     \u001b[0;31m#pokemino.upscale_pokemino(5)\u001b[0m\u001b[0;34m\u001b[0m\u001b[0;34m\u001b[0m\u001b[0;34m\u001b[0m\u001b[0m\n\u001b[1;32m     22\u001b[0m     \u001b[0mtheta_x\u001b[0m\u001b[0;34m,\u001b[0m \u001b[0mtheta_y\u001b[0m\u001b[0;34m,\u001b[0m \u001b[0mtheta_z\u001b[0m \u001b[0;34m=\u001b[0m \u001b[0mpokemino\u001b[0m\u001b[0;34m.\u001b[0m\u001b[0mrotate_the_pokemino_3_axes\u001b[0m\u001b[0;34m(\u001b[0m\u001b[0;34m)\u001b[0m\u001b[0;34m\u001b[0m\u001b[0;34m\u001b[0m\u001b[0m\n\u001b[0;32m---> 23\u001b[0;31m     \u001b[0mvolume\u001b[0m\u001b[0;34m.\u001b[0m\u001b[0mfit_pokemino\u001b[0m\u001b[0;34m(\u001b[0m\u001b[0mpokemino\u001b[0m\u001b[0;34m)\u001b[0m\u001b[0;34m\u001b[0m\u001b[0;34m\u001b[0m\u001b[0m\n\u001b[0m\u001b[1;32m     24\u001b[0m     \u001b[0;32mwith\u001b[0m \u001b[0mmrcfile\u001b[0m\u001b[0;34m.\u001b[0m\u001b[0mnew\u001b[0m\u001b[0;34m(\u001b[0m\u001b[0mPath\u001b[0m\u001b[0;34m(\u001b[0m\u001b[0;34mf'DS_13/{tetra_id[seed]}_{x}.mrc'\u001b[0m\u001b[0;34m)\u001b[0m\u001b[0;34m,\u001b[0m \u001b[0moverwrite\u001b[0m\u001b[0;34m=\u001b[0m\u001b[0;32mTrue\u001b[0m\u001b[0;34m)\u001b[0m \u001b[0;32mas\u001b[0m \u001b[0mmrc\u001b[0m\u001b[0;34m:\u001b[0m\u001b[0;34m\u001b[0m\u001b[0;34m\u001b[0m\u001b[0m\n\u001b[1;32m     25\u001b[0m         \u001b[0mmrc\u001b[0m\u001b[0;34m.\u001b[0m\u001b[0mset_data\u001b[0m\u001b[0;34m(\u001b[0m\u001b[0mvolume\u001b[0m\u001b[0;34m.\u001b[0m\u001b[0marray\u001b[0m\u001b[0;34m)\u001b[0m\u001b[0;34m\u001b[0m\u001b[0;34m\u001b[0m\u001b[0m\n",
      "\u001b[0;32m~/Library/CloudStorage/OneDrive-Nexus365/RFI/Code/Pokeminos/pokemino_generator.py\u001b[0m in \u001b[0;36mfit_pokemino\u001b[0;34m(self, pokemino)\u001b[0m\n\u001b[1;32m    416\u001b[0m         \u001b[0;31m#print(pst, to_pst)\u001b[0m\u001b[0;34m\u001b[0m\u001b[0;34m\u001b[0m\u001b[0;34m\u001b[0m\u001b[0m\n\u001b[1;32m    417\u001b[0m \u001b[0;34m\u001b[0m\u001b[0m\n\u001b[0;32m--> 418\u001b[0;31m         \u001b[0mself\u001b[0m\u001b[0;34m.\u001b[0m\u001b[0marray\u001b[0m\u001b[0;34m[\u001b[0m\u001b[0mto_pst\u001b[0m\u001b[0;34m[\u001b[0m\u001b[0;36m0\u001b[0m\u001b[0;34m]\u001b[0m\u001b[0;34m[\u001b[0m\u001b[0;36m0\u001b[0m\u001b[0;34m]\u001b[0m\u001b[0;34m:\u001b[0m\u001b[0mto_pst\u001b[0m\u001b[0;34m[\u001b[0m\u001b[0;36m0\u001b[0m\u001b[0;34m]\u001b[0m\u001b[0;34m[\u001b[0m\u001b[0;36m1\u001b[0m\u001b[0;34m]\u001b[0m\u001b[0;34m,\u001b[0m \u001b[0mto_pst\u001b[0m\u001b[0;34m[\u001b[0m\u001b[0;36m1\u001b[0m\u001b[0;34m]\u001b[0m\u001b[0;34m[\u001b[0m\u001b[0;36m0\u001b[0m\u001b[0;34m]\u001b[0m\u001b[0;34m:\u001b[0m\u001b[0mto_pst\u001b[0m\u001b[0;34m[\u001b[0m\u001b[0;36m1\u001b[0m\u001b[0;34m]\u001b[0m\u001b[0;34m[\u001b[0m\u001b[0;36m1\u001b[0m\u001b[0;34m]\u001b[0m\u001b[0;34m,\u001b[0m \u001b[0mto_pst\u001b[0m\u001b[0;34m[\u001b[0m\u001b[0;36m2\u001b[0m\u001b[0;34m]\u001b[0m\u001b[0;34m[\u001b[0m\u001b[0;36m0\u001b[0m\u001b[0;34m]\u001b[0m\u001b[0;34m:\u001b[0m\u001b[0mto_pst\u001b[0m\u001b[0;34m[\u001b[0m\u001b[0;36m2\u001b[0m\u001b[0;34m]\u001b[0m\u001b[0;34m[\u001b[0m\u001b[0;36m1\u001b[0m\u001b[0;34m]\u001b[0m\u001b[0;34m]\u001b[0m \u001b[0;34m+=\u001b[0m \u001b[0mpokemino\u001b[0m\u001b[0;34m.\u001b[0m\u001b[0mpoke_array\u001b[0m\u001b[0;34m[\u001b[0m\u001b[0mpst\u001b[0m\u001b[0;34m[\u001b[0m\u001b[0;36m0\u001b[0m\u001b[0;34m]\u001b[0m\u001b[0;34m[\u001b[0m\u001b[0;36m0\u001b[0m\u001b[0;34m]\u001b[0m\u001b[0;34m:\u001b[0m\u001b[0mpst\u001b[0m\u001b[0;34m[\u001b[0m\u001b[0;36m0\u001b[0m\u001b[0;34m]\u001b[0m\u001b[0;34m[\u001b[0m\u001b[0;36m1\u001b[0m\u001b[0;34m]\u001b[0m\u001b[0;34m,\u001b[0m \u001b[0mpst\u001b[0m\u001b[0;34m[\u001b[0m\u001b[0;36m1\u001b[0m\u001b[0;34m]\u001b[0m\u001b[0;34m[\u001b[0m\u001b[0;36m0\u001b[0m\u001b[0;34m]\u001b[0m\u001b[0;34m:\u001b[0m\u001b[0mpst\u001b[0m\u001b[0;34m[\u001b[0m\u001b[0;36m1\u001b[0m\u001b[0;34m]\u001b[0m\u001b[0;34m[\u001b[0m\u001b[0;36m1\u001b[0m\u001b[0;34m]\u001b[0m\u001b[0;34m,\u001b[0m \u001b[0mpst\u001b[0m\u001b[0;34m[\u001b[0m\u001b[0;36m2\u001b[0m\u001b[0;34m]\u001b[0m\u001b[0;34m[\u001b[0m\u001b[0;36m0\u001b[0m\u001b[0;34m]\u001b[0m\u001b[0;34m:\u001b[0m\u001b[0mpst\u001b[0m\u001b[0;34m[\u001b[0m\u001b[0;36m2\u001b[0m\u001b[0;34m]\u001b[0m\u001b[0;34m[\u001b[0m\u001b[0;36m1\u001b[0m\u001b[0;34m]\u001b[0m\u001b[0;34m]\u001b[0m\u001b[0;34m\u001b[0m\u001b[0;34m\u001b[0m\u001b[0m\n\u001b[0m\u001b[1;32m    419\u001b[0m \u001b[0;34m\u001b[0m\u001b[0m\n\u001b[1;32m    420\u001b[0m     \u001b[0;34m@\u001b[0m\u001b[0mstaticmethod\u001b[0m\u001b[0;34m\u001b[0m\u001b[0;34m\u001b[0m\u001b[0m\n",
      "\u001b[0;31mValueError\u001b[0m: operands could not be broadcast together with shapes (14,14,0) (14,14,13) (14,14,0) "
     ]
    }
   ],
   "source": [
    "tetraminos = [[[0, 0, 0], [0, 0, 1], [0, 0, 2], [0, 0, 3]],\n",
    "              [[0, 0, 0], [0, 0, 1], [0, 1, 0], [0, 1, 1]],\n",
    "              [[0, 0, 0], [0, 0, 1], [0, 1, 1], [0, 1, 2]], \n",
    "              [[0, 0, 0], [0, 0, 1], [0, 0, 2], [0, 1, 1]], \n",
    "              [[0, 0, 0], [0, 0, 1], [0, 0, 2], [0, 1, 0]]]\n",
    "\n",
    "tetra_id = ['I', 'O', 'Z', 'T', 'L']\n",
    "\n",
    "importlib.reload(poke)\n",
    "\n",
    "a = 32\n",
    "\n",
    "n_pokeminos = 50000\n",
    "\n",
    "for x in range (n_pokeminos):\n",
    "    random.seed()\n",
    "    seed = random.choice(range(0, 5))\n",
    "    volume = poke.Volume((a, a, a))\n",
    "    trans_x, trans_y, trans_z = random.normal(loc = 0.5, scale = 0.15), random.normal(loc = 0.5, scale = 0.15), random.normal(loc = 0.5, scale = 0.15)\n",
    "    pokemino = poke.Pokemino3D(size=4, volume=volume, brick_coords=tetraminos[seed], positioning=(int(a*trans_x), int(a*trans_y), int(a*trans_z)), algorithm=False, scale_factor=5)\n",
    "    #pokemino.upscale_pokemino(5)\n",
    "    theta_x, theta_y, theta_z = pokemino.rotate_the_pokemino_3_axes()\n",
    "    volume.fit_pokemino(pokemino)\n",
    "    with mrcfile.new(Path(f'DS_13/{tetra_id[seed]}_{x}.mrc'), overwrite=True) as mrc:\n",
    "        mrc.set_data(volume.array)\n",
    "        mrc.header.label[1] = f\"theta_x={str(theta_x)}\"\n",
    "        mrc.header.label[2] = f\"theta_y={str(theta_y)}\"\n",
    "        mrc.header.label[3] = f\"theta_z={str(theta_z)}\"\n",
    "        mrc.header.label[4] = f\"trans_x={trans_x:.3f}\"\n",
    "        mrc.header.label[5] = f\"trans_y={trans_y:.3f}\"\n",
    "        mrc.header.label[6] = f\"trans_z={trans_z:.3f}\"\n",
    "        mrc.header.nlabl=7"
   ]
  },
  {
   "cell_type": "markdown",
   "metadata": {},
   "source": [
    "## 14. Tetraminos with 3 rotational + 1 translational degree of freedom"
   ]
  },
  {
   "cell_type": "code",
   "execution_count": 4,
   "metadata": {},
   "outputs": [],
   "source": [
    "tetraminos = [[[0, 0, 0], [0, 0, 1], [0, 0, 2], [0, 0, 3]],\n",
    "              [[0, 0, 0], [0, 0, 1], [0, 1, 0], [0, 1, 1]],\n",
    "              [[0, 0, 0], [0, 0, 1], [0, 1, 1], [0, 1, 2]], \n",
    "              [[0, 0, 0], [0, 0, 1], [0, 0, 2], [0, 1, 1]], \n",
    "              [[0, 0, 0], [0, 0, 1], [0, 0, 2], [0, 1, 0]]]\n",
    "\n",
    "tetra_id = ['I', 'O', 'Z', 'T', 'L']\n",
    "\n",
    "importlib.reload(poke)\n",
    "\n",
    "a = 32\n",
    "\n",
    "n_pokeminos = 10\n",
    "\n",
    "for x in range (n_pokeminos):\n",
    "    random.seed()\n",
    "    seed = random.choice(range(0, 5))\n",
    "    volume = poke.Volume((a, a, a))\n",
    "    trans_x = np.random.normal(loc = 0.5, scale = 0.15)\n",
    "    pokemino = poke.Pokemino3D(size=4, volume=volume, brick_coords=tetraminos[seed], positioning=(int(a*trans_x), int(a/2), int(a/2)), algorithm=False, scale_factor=5)\n",
    "    theta_x, theta_y, theta_z = pokemino.rotate_the_pokemino_3_axes()\n",
    "    volume.fit_pokemino(pokemino)\n",
    "    with mrcfile.new(Path(f'../DS_14/{tetra_id[seed]}_{x}.mrc'), overwrite=True) as mrc:\n",
    "        mrc.set_data(volume.array)\n",
    "        mrc.header.label[1] = f\"theta_x={str(theta_x)}\"\n",
    "        mrc.header.label[2] = f\"theta_y={str(theta_y)}\"\n",
    "        mrc.header.label[3] = f\"theta_z={str(theta_z)}\"\n",
    "        mrc.header.label[4] = f\"trans_x={trans_x:.3f}\"\n",
    "        mrc.header.nlabl=5"
   ]
  },
  {
   "cell_type": "markdown",
   "metadata": {},
   "source": [
    "## 15. Tetraminos with 1 rotational + 1 translational degree of freedom"
   ]
  },
  {
   "cell_type": "code",
   "execution_count": 15,
   "metadata": {},
   "outputs": [],
   "source": [
    "tetraminos = [[[0, 0, 0], [0, 0, 1], [0, 0, 2], [0, 0, 3]],\n",
    "              [[0, 0, 0], [0, 0, 1], [0, 1, 0], [0, 1, 1]],\n",
    "              [[0, 0, 0], [0, 0, 1], [0, 1, 1], [0, 1, 2]], \n",
    "              [[0, 0, 0], [0, 0, 1], [0, 0, 2], [0, 1, 1]], \n",
    "              [[0, 0, 0], [0, 0, 1], [0, 0, 2], [0, 1, 0]]]\n",
    "\n",
    "tetra_id = ['I', 'O', 'Z', 'T', 'L']\n",
    "\n",
    "importlib.reload(poke)\n",
    "\n",
    "a = 32\n",
    "\n",
    "n_pokeminos = 10\n",
    "\n",
    "for x in range (n_pokeminos):\n",
    "    random.seed()\n",
    "    seed = random.choice(range(0, 5))\n",
    "    volume = poke.Volume((a, a, a))\n",
    "    trans_x = np.random.normal(loc = 0.5, scale = 0.15)\n",
    "    pokemino = poke.Pokemino3D(size=4, volume=volume, brick_coords=tetraminos[seed], positioning=(int(a*trans_x), int(a/2), int(a/2)), algorithm=False, scale_factor=5)\n",
    "    theta_x = pokemino.rotate_the_pokemino_1_axis()\n",
    "    volume.fit_pokemino_old(pokemino)\n",
    "    with mrcfile.new(Path(f'../DS_15/{tetra_id[seed]}_{x}.mrc'), overwrite=True) as mrc:\n",
    "        mrc.set_data(volume.array)\n",
    "        mrc.header.label[1] = f\"theta_x={str(theta_x)}\"\n",
    "        mrc.header.label[2] = f\"trans_x={trans_x:.3f}\"\n",
    "        mrc.header.nlabl=3"
   ]
  },
  {
   "cell_type": "markdown",
   "metadata": {},
   "source": [
    " ## 16. The 3D Tetramino included (3 rotational + 3 translational degrees of freedom)"
   ]
  },
  {
   "cell_type": "code",
   "execution_count": null,
   "metadata": {},
   "outputs": [],
   "source": [
    "n_pokeminos = 100 # number of pokeminoes to generate\n",
    "\n",
    "output_path = 'tetraminos_3rot_3trans' # dataset directory\n",
    "\n",
    "# Define relative brick positioning for different classes\n",
    "tetraminos = {'I': [[0, 0, 0], [0, 0, 1], [0, 0, 2], [0, 0, 3]],\n",
    "              'O': [[0, 0, 0], [0, 0, 1], [0, 1, 0], [0, 1, 1]],\n",
    "              'Z': [[0, 0, 0], [0, 0, 1], [0, 1, 1], [0, 1, 2]],\n",
    "              'T': [[0, 0, 0], [0, 0, 1], [0, 0, 2], [0, 1, 1]], \n",
    "              'L': [[0, 0, 0], [0, 0, 1], [0, 0, 2], [0, 1, 0]],\n",
    "              'E': [[0, 0, 0], [0, 0, 1], [0, 1, 0], [1, 0, 0]]}\n",
    "\n",
    "# Create Pokeminoes individually\n",
    "for x in range (n_pokeminos):\n",
    "    \n",
    "    # Create a Volume for the Pokemino to live in\n",
    "    volume = Volume((a, a, a)) \n",
    "    \n",
    "    # Define 3D shifts for positioning about the Volume center \n",
    "    trans_x = int(a * np.random.normal(loc = 0.5, scale = 0.15))\n",
    "    trans_y = int(a * np.random.normal(loc = 0.5, scale = 0.15))\n",
    "    trans_z = int(a * np.random.normal(loc = 0.5, scale = 0.15))\n",
    "    \n",
    "    # Choose a tetramino type at random\n",
    "    creature = random.choice(list(tetraminos.keys()))\n",
    "    \n",
    "    # Initialize a Pokemino object\n",
    "    tetramino = Pokemino3D(size=4, \n",
    "                           volume=volume, \n",
    "                           brick_coords=tetraminos[creature], \n",
    "                           positioning=(trans_x, trans_y, trans_z), \n",
    "                           algorithm=False, \n",
    "                           scale_factor=5)\n",
    "    \n",
    "    # Rotate the Pokemino and save the values of rotational angles\n",
    "    theta_x, theta_y, theta_z = creature.rotate_the_pokemino_3_axes()\n",
    "    \n",
    "    # Fit the Pokemino within a Volume\n",
    "    volume.fit_pokemino(creature)\n",
    "    \n",
    "    # Create an mrcfile and save the Volume contents in it\n",
    "    with mrcfile.new(Path(f'{output_path}/{pokemino_class}_{x}.mrc')) as mrc:\n",
    "        mrc.set_data(volume.array)\n",
    "        # Save values of shifts and rotational angles in the mrc metadata\n",
    "        add_label(mrc, [trans_x, trans_y, trans_z,\n",
    "                        theta_x, theta_y, theta_z])"
   ]
  },
  {
   "cell_type": "code",
   "execution_count": 90,
   "metadata": {},
   "outputs": [],
   "source": [
    "import copy\n",
    "\n",
    "importlib.reload(poke)\n",
    "\n",
    "a = 32\n",
    "volume = poke.Volume((a, a, a))\n",
    "\n",
    "n_pokeminos = 10\n",
    "\n",
    "I = poke.Pokemino3D(size=4, seed =\"I\", volume=volume, brick_coords = [[0, 0, 0], [0, 0, 1], [0, 0, 2], [0, 0, 3]], algorithm=False, scale_factor=5)\n",
    "O = poke.Pokemino3D(size=4, seed =\"O\", volume=volume, brick_coords = [[0, 0, 0], [0, 0, 1], [0, 1, 0], [0, 1, 1]], algorithm=False, scale_factor=5)\n",
    "Z = poke.Pokemino3D(size=4, seed =\"Z\", volume=volume, brick_coords = [[0, 0, 0], [0, 0, 1], [0, 1, 1], [0, 1, 2]], algorithm=False, scale_factor=5)\n",
    "T = poke.Pokemino3D(size=4, seed =\"T\", volume=volume, brick_coords = [[0, 0, 0], [0, 0, 1], [0, 0, 2], [0, 1, 1]], algorithm=False, scale_factor=5)\n",
    "L = poke.Pokemino3D(size=4, seed =\"L\", volume=volume, brick_coords = [[0, 0, 0], [0, 0, 1], [0, 0, 2], [0, 1, 0]], algorithm=False, scale_factor=5)\n",
    "E = poke.Pokemino3D(size=4, seed =\"E\", volume=volume, brick_coords = [[0, 0, 0], [0, 0, 1], [0, 1, 0], [1, 0, 0]], algorithm=False, scale_factor=5)\n",
    "\n",
    "for x in range (n_pokeminos):\n",
    "    volume = poke.Volume((a, a, a))\n",
    "    pokemino = copy.deepcopy(random.choice((I, O, Z, T, L, E)))\n",
    "    trans_x, trans_y, trans_z = np.random.normal(loc = 0.5, scale = 0.15, size=3)\n",
    "    theta_x, theta_y, theta_z = pokemino.rotate_the_pokemino_3_axes()\n",
    "    volume.fit_pokemino(pokemino)\n",
    "    with mrcfile.new(Path(f'../DS_16/{pokemino.seed}_{x}.mrc'), overwrite=True) as mrc:\n",
    "        mrc.set_data(volume.array)\n",
    "        mrc.header.label[1] = f\"theta_x={str(theta_x)}\"\n",
    "        mrc.header.label[2] = f\"theta_y={str(theta_y)}\"\n",
    "        mrc.header.label[3] = f\"theta_z={str(theta_z)}\"\n",
    "        mrc.header.label[4] = f\"trans_x={trans_x:.3f}\"\n",
    "        mrc.header.label[5] = f\"trans_y={trans_y:.3f}\"\n",
    "        mrc.header.label[6] = f\"trans_z={trans_z:.3f}\"\n",
    "        mrc.header.nlabl=7"
   ]
  },
  {
   "cell_type": "code",
   "execution_count": 5,
   "metadata": {},
   "outputs": [],
   "source": [
    "import copy\n",
    "\n",
    "n_pokeminos = 100\n",
    "\n",
    "importlib.reload(poke)\n",
    "\n",
    "tetra_id = ['I', 'O', 'Z', 'T', 'L', 'E']\n",
    "\n",
    "a = 32\n",
    "volume = poke.Volume((a, a, a))\n",
    "\n",
    "I = poke.Pokemino3D(size=4, seed =\"I\", volume=volume, brick_coords = [[0, 0, 0], [0, 0, 1], [0, 0, 2], [0, 0, 3]], brick_densities = np.random.normal(loc = 1, scale = 0, size=4), algorithm=False, scale_factor=5)\n",
    "O = poke.Pokemino3D(size=4, seed =\"O\", volume=volume, brick_coords = [[0, 0, 0], [0, 0, 1], [0, 1, 0], [0, 1, 1]], brick_densities = np.random.normal(loc = 1, scale = 0, size=4), algorithm=False, scale_factor=5)\n",
    "Z = poke.Pokemino3D(size=4, seed =\"Z\", volume=volume, brick_coords = [[0, 0, 0], [0, 0, 1], [0, 1, 1], [0, 1, 2]], brick_densities = np.random.normal(loc = 1, scale = 0, size=4), algorithm=False, scale_factor=5)\n",
    "T = poke.Pokemino3D(size=4, seed =\"T\", volume=volume, brick_coords = [[0, 0, 0], [0, 0, 1], [0, 0, 2], [0, 1, 1]], brick_densities = np.random.normal(loc = 1, scale = 0, size=4), algorithm=False, scale_factor=5)\n",
    "L = poke.Pokemino3D(size=4, seed =\"L\", volume=volume, brick_coords = [[0, 0, 0], [0, 0, 1], [0, 0, 2], [0, 1, 0]], brick_densities = np.random.normal(loc = 1, scale = 0, size=4), algorithm=False, scale_factor=5)\n",
    "E = poke.Pokemino3D(size=4, seed =\"E\", volume=volume, brick_coords = [[0, 0, 0], [0, 0, 1], [0, 1, 0], [1, 0, 0]], brick_densities = np.random.normal(loc = 1, scale = 0, size=4), algorithm=False, scale_factor=5)\n",
    "\n",
    "j, k = 5, 5\n",
    "test_volume = poke.Volume((a*j, a*k, a))\n",
    "\n",
    "for x in range (j):\n",
    "    for y in range (k):\n",
    "        pokemino = copy.deepcopy(random.choice((I, O, Z, T, L, E)))\n",
    "        trans_x, trans_y, trans_z = np.random.normal(loc = 0.5, scale = 0.1, size=3)\n",
    "        theta_x, theta_y, theta_z = pokemino.rotate_the_pokemino_3_axes()\n",
    "        pokemino.positioning = (int(a*(trans_x + x)), int(a*(trans_y + y)), int(a*trans_z))\n",
    "        test_volume.fit_pokemino(pokemino)\n",
    "\n",
    "test_volume.display_in_napari()"
   ]
  },
  {
   "cell_type": "code",
   "execution_count": 66,
   "metadata": {},
   "outputs": [
    {
     "data": {
      "text/plain": [
       "array([[0.82156367, 0.71233518, 0.86580907, 0.83190514, 0.86216745,\n",
       "        0.76148954, 0.70000949, 0.60253976, 0.80142877, 0.76009865,\n",
       "        0.70880526, 0.81665564, 0.98915193, 0.71742389, 0.62576555,\n",
       "        0.71253332, 0.90707844, 0.60124798, 0.86497677, 0.75565477,\n",
       "        0.79609066, 0.69308904, 0.6463526 , 0.80538497, 0.8463565 ,\n",
       "        0.79967717, 0.73395646, 0.71935932, 0.72481801, 0.70222961,\n",
       "        0.85920163, 0.76926364, 0.75550762, 0.64496835, 0.7923111 ,\n",
       "        0.68968671, 0.80646811, 0.80207557, 0.90657036, 1.00849664,\n",
       "        0.62067947, 1.00212066, 0.72830808, 0.59690049, 0.71118276,\n",
       "        0.66590648, 0.74865579, 0.67015388, 0.83306541, 0.79112176,\n",
       "        0.89317297, 0.83287897, 0.77709811, 0.81749571, 0.8693832 ,\n",
       "        0.73585338, 0.84847059, 0.60211381, 0.97338852, 0.76551686,\n",
       "        0.83011338, 0.94069128, 0.78897072, 0.84948208, 0.88488867,\n",
       "        0.78772454, 0.75886358, 0.73043202, 0.79712227, 0.74705107,\n",
       "        0.88337688, 0.76279527, 0.66535956, 0.70830996, 0.78254795,\n",
       "        0.61043251, 0.82439536, 0.78196698, 0.66015549, 0.79982637,\n",
       "        0.85941139, 0.76742573, 0.55113239, 0.7837249 , 0.83909665,\n",
       "        0.85283571, 0.74861061, 0.73211656, 0.58581637, 0.77137601,\n",
       "        0.87378978, 0.8333426 , 0.84021441, 0.72999028, 1.01561722,\n",
       "        0.69622062, 0.82333575, 0.77595856, 0.66246489, 0.81300591,\n",
       "        0.7397017 , 0.72856479, 0.89051779, 0.83887219, 0.94790474,\n",
       "        0.74006079, 0.70290056, 0.75218865, 0.73371453, 0.65715061,\n",
       "        0.77462213, 1.07523135, 0.79518635, 0.66448375, 0.89295552,\n",
       "        0.86985322, 0.73737028, 0.73644353, 0.79459288, 0.76042521,\n",
       "        0.77912633, 0.71275112, 0.88177142, 0.79779765, 0.6919273 ],\n",
       "       [0.70871648, 0.550401  , 0.82716988, 0.84916045, 0.71408341,\n",
       "        0.70367726, 0.70214398, 0.96472762, 0.79206013, 0.91748512,\n",
       "        0.81354721, 0.87694635, 0.86321995, 0.79855257, 0.77104899,\n",
       "        0.6076753 , 0.79110372, 0.76665325, 0.78854732, 0.76564259,\n",
       "        0.95705604, 0.69908007, 0.84177361, 0.80178516, 0.66056752,\n",
       "        0.77612601, 0.83976452, 0.81849041, 0.75526413, 0.7669113 ,\n",
       "        0.85975154, 0.88663563, 0.75870363, 1.02372971, 0.73354741,\n",
       "        0.87620992, 0.65306084, 0.88459986, 0.9356269 , 0.72672379,\n",
       "        0.92462067, 0.81287273, 0.94538925, 1.01126055, 0.88861089,\n",
       "        0.79506495, 0.66541976, 0.92745673, 0.65720191, 0.69265425,\n",
       "        0.83380637, 0.77727625, 0.86550782, 0.71380429, 1.02903183,\n",
       "        0.71144062, 0.81793056, 0.94451578, 1.01192128, 0.92027234,\n",
       "        0.70954631, 0.74685223, 0.75051176, 0.81779386, 0.93485214,\n",
       "        0.7892943 , 0.95597487, 0.79072882, 0.77640857, 0.72488421,\n",
       "        0.64106926, 0.93364928, 0.67643758, 0.82167709, 0.78356709,\n",
       "        0.84931897, 0.88095763, 0.69124178, 0.89031368, 0.86454264,\n",
       "        0.90308573, 0.66809558, 0.77891375, 0.73990124, 0.8053963 ,\n",
       "        0.84499415, 0.87175157, 0.62280025, 0.76633088, 0.73996716,\n",
       "        0.77453465, 0.83352907, 0.65146393, 0.72949572, 0.77163806,\n",
       "        0.74573001, 0.8820418 , 0.75842369, 0.75128893, 0.71877107,\n",
       "        0.75415495, 0.8612519 , 0.7977427 , 0.715471  , 0.8292794 ,\n",
       "        0.73094774, 0.84063196, 0.98616314, 0.87090909, 0.79699033,\n",
       "        0.60415178, 0.89443159, 0.72267656, 0.97222374, 0.83930445,\n",
       "        0.78786754, 0.83458949, 0.62486626, 0.81680039, 0.96536735,\n",
       "        0.86548359, 0.75108424, 0.84421245, 0.94698714, 0.81422792],\n",
       "       [0.83547787, 0.70488212, 0.88217328, 0.66268785, 0.90908989,\n",
       "        0.92665127, 0.78629853, 0.89948572, 0.72906241, 0.7760379 ,\n",
       "        0.94796826, 0.66104088, 1.09549293, 0.74811933, 0.79625287,\n",
       "        0.81833237, 0.99562802, 0.68628943, 0.68141064, 0.70434654,\n",
       "        0.66106681, 0.87243397, 0.88020367, 0.67637422, 0.71610046,\n",
       "        0.67745448, 0.89038899, 0.74247683, 1.09589652, 0.9012488 ,\n",
       "        0.83898356, 0.70658804, 0.84064298, 0.70372958, 0.88814905,\n",
       "        0.67241009, 0.78725478, 0.68842222, 0.77738033, 0.77103196,\n",
       "        0.6280623 , 0.74381101, 0.8687215 , 0.96429663, 0.83036433,\n",
       "        0.86243278, 0.76983544, 0.82592151, 0.68251917, 0.76799389,\n",
       "        0.64951272, 0.74735903, 0.79068261, 0.8511383 , 0.81322959,\n",
       "        0.72780504, 0.60841497, 0.89477092, 0.68209687, 0.80539243,\n",
       "        0.88294512, 0.64414672, 0.86360485, 0.77832362, 0.69521372,\n",
       "        0.75893068, 0.82837517, 0.79887845, 0.98302276, 0.64191689,\n",
       "        0.81979507, 1.03437766, 0.85708507, 0.77331013, 0.91602359,\n",
       "        0.75162313, 0.77184813, 0.70013618, 0.782857  , 0.85326098,\n",
       "        0.81146504, 0.66344053, 0.82425917, 0.75846793, 0.74191065,\n",
       "        0.58764076, 0.87424738, 0.85034981, 0.69803598, 0.67282002,\n",
       "        0.73345945, 0.7784081 , 0.75369052, 0.59292704, 0.89639249,\n",
       "        0.81957779, 0.78927871, 0.67466822, 0.70431756, 0.70504676,\n",
       "        0.692065  , 0.94390889, 0.75843692, 0.90635145, 0.86276154,\n",
       "        0.7188098 , 0.84492439, 0.86881162, 0.79368689, 0.83073987,\n",
       "        0.54873003, 0.72784329, 0.6490001 , 0.8725082 , 0.96781651,\n",
       "        0.80257319, 0.55717454, 0.56752153, 0.76520034, 0.69249385,\n",
       "        0.69874769, 0.63858754, 0.62076047, 0.81997232, 0.66033766],\n",
       "       [0.92910831, 0.72601082, 0.85815485, 0.73915524, 0.62581835,\n",
       "        0.70931692, 0.60844797, 0.61199686, 0.82786795, 0.94502597,\n",
       "        0.68873463, 0.82419164, 0.70475183, 0.86518145, 0.92528974,\n",
       "        0.65170344, 0.67953631, 0.949531  , 0.86806647, 0.80641038,\n",
       "        0.64405402, 0.73772358, 0.83797292, 0.77626506, 0.81928657,\n",
       "        0.77864021, 0.89508132, 0.89561187, 0.93557578, 0.68261568,\n",
       "        0.70269213, 0.8893648 , 0.86121195, 0.72721469, 0.67625158,\n",
       "        0.96780147, 0.69997398, 0.86888249, 0.76341809, 0.79904287,\n",
       "        0.71552934, 0.86101709, 0.81013534, 0.74795918, 0.77950112,\n",
       "        0.75419928, 0.9589845 , 0.73009444, 0.97086103, 0.72489968,\n",
       "        0.85068884, 0.76655309, 0.82342134, 1.0278438 , 0.92591141,\n",
       "        0.6770496 , 0.78387316, 0.67309078, 0.83723623, 0.74161177,\n",
       "        0.84776498, 0.77854656, 0.72969833, 0.753226  , 0.76367573,\n",
       "        0.59664224, 0.90456668, 0.74689412, 0.76898222, 0.85722268,\n",
       "        0.77085453, 0.83107001, 0.8211889 , 0.82194269, 0.89222517,\n",
       "        0.91877151, 0.95053276, 0.79827459, 0.82459992, 0.80995289,\n",
       "        0.6070305 , 0.77008509, 0.9485052 , 0.82517281, 1.02320694,\n",
       "        0.75459996, 0.68389039, 0.65021552, 0.97617186, 0.53207459,\n",
       "        0.71526733, 0.78027626, 0.72291714, 0.85863072, 0.77929151,\n",
       "        0.79993957, 0.8433606 , 0.697433  , 0.7146354 , 0.79873634,\n",
       "        0.76553568, 0.868325  , 0.85735547, 0.85239932, 0.79214737,\n",
       "        0.84535418, 0.77943256, 1.01644861, 0.75791903, 0.83472965,\n",
       "        0.74005834, 0.7133087 , 0.83913463, 0.61976688, 0.63245351,\n",
       "        0.93696055, 0.72605897, 0.81708052, 0.7938459 , 0.83816836,\n",
       "        0.84186839, 0.84596959, 0.70701043, 0.8879419 , 0.64235059],\n",
       "       [0.63648906, 0.85750682, 0.95752001, 0.92471891, 0.6949254 ,\n",
       "        0.98136854, 0.78595241, 0.64403367, 0.80248361, 0.73585677,\n",
       "        0.86227453, 0.88758568, 0.79700747, 0.96409898, 0.90373608,\n",
       "        0.82898354, 0.70152176, 0.68677964, 0.67361909, 0.63533518,\n",
       "        0.72404946, 0.85200696, 0.72894487, 0.6935686 , 0.92645457,\n",
       "        0.95558393, 0.83628529, 1.03661313, 0.80535753, 0.87352258,\n",
       "        0.77365899, 0.69593346, 0.8059854 , 0.71465605, 0.82013044,\n",
       "        0.59775744, 0.81611732, 0.785185  , 0.84510255, 0.74030212,\n",
       "        0.86273023, 0.70603129, 0.79688646, 0.81611839, 0.86708087,\n",
       "        0.79528335, 0.73710695, 0.67253941, 0.96774568, 0.80749058,\n",
       "        0.64676684, 0.72588765, 0.99850405, 0.92845387, 0.84659525,\n",
       "        0.76926614, 0.93253195, 0.83930054, 0.75830407, 0.80379713,\n",
       "        0.85807604, 0.91826557, 0.74673156, 0.92595272, 0.8667316 ,\n",
       "        0.7954526 , 0.57724486, 0.73988201, 0.8504705 , 0.7478486 ,\n",
       "        0.7331357 , 0.69361427, 0.74914096, 0.76792068, 0.83778288,\n",
       "        0.65111846, 0.752653  , 0.95311692, 0.6564614 , 0.82303085,\n",
       "        0.73381463, 0.82673911, 0.69298713, 0.7978205 , 0.66676007,\n",
       "        0.74529121, 0.93002721, 0.77229758, 1.01045695, 0.71574206,\n",
       "        0.81314487, 0.8106679 , 0.87455399, 0.85814498, 0.84629752,\n",
       "        0.86460549, 0.81122712, 0.80608886, 0.59194631, 0.78207482,\n",
       "        0.66663356, 0.65268176, 0.86549718, 0.69255041, 0.965103  ,\n",
       "        0.89362878, 0.85015816, 0.78023669, 0.84940759, 0.84131917,\n",
       "        0.87644288, 0.79310444, 0.79256567, 0.65600304, 0.78525298,\n",
       "        0.86671134, 0.75951126, 0.92190113, 0.85260647, 0.85730073,\n",
       "        0.87900865, 0.945456  , 0.88618315, 0.77162738, 0.69567988],\n",
       "       [0.73077758, 0.69459075, 0.89684415, 0.78001062, 0.86881169,\n",
       "        0.79066372, 0.8155622 , 0.73092875, 0.74686869, 0.82706122,\n",
       "        0.69369275, 0.84194557, 0.71576503, 0.8424587 , 0.7211518 ,\n",
       "        0.75481605, 0.77310447, 0.74050243, 0.7996799 , 1.06282827,\n",
       "        0.82795929, 1.02862818, 0.91784812, 0.73272953, 0.68456907,\n",
       "        0.91506494, 0.78305539, 0.73326707, 0.90642763, 0.99824052,\n",
       "        0.85243754, 0.9699146 , 0.73283233, 0.94207727, 0.79750064,\n",
       "        0.90922804, 0.90603446, 0.88488006, 0.74522076, 0.84349596,\n",
       "        0.86891163, 0.94939783, 0.82091859, 0.82812086, 0.96103725,\n",
       "        0.79930599, 0.8447024 , 0.65624171, 0.74247915, 0.8252406 ,\n",
       "        0.94216978, 0.56275457, 0.84674355, 0.88647289, 0.90900569,\n",
       "        0.88826749, 0.87056766, 0.70048356, 0.86223336, 0.8070194 ,\n",
       "        0.75672667, 0.61266801, 0.9918839 , 0.70549139, 0.7538757 ,\n",
       "        0.66806022, 0.8536498 , 0.81951608, 0.87584406, 0.6369779 ,\n",
       "        0.85744135, 0.77068121, 0.72287786, 0.92436194, 0.96227178,\n",
       "        0.57555622, 0.95635727, 0.73803413, 0.80652413, 0.92348859,\n",
       "        0.79320466, 0.72849039, 0.78016715, 0.68366334, 0.79973571,\n",
       "        0.66391583, 0.80103604, 0.90761951, 0.78430484, 0.56501611,\n",
       "        0.73105778, 0.6817526 , 0.94937284, 0.94331888, 0.78286634,\n",
       "        1.00268935, 0.80668857, 0.79885104, 0.61734434, 0.81903142,\n",
       "        0.61928509, 0.5858295 , 0.85218619, 0.81812919, 0.73254355,\n",
       "        0.86101829, 0.78520752, 0.7163335 , 0.71673511, 0.69739704,\n",
       "        0.82393511, 0.82840821, 0.80355135, 0.63406213, 0.94508601,\n",
       "        0.85103143, 0.89455592, 0.75278916, 0.77059508, 0.8543624 ,\n",
       "        0.72666867, 0.65802474, 0.86187205, 0.72811839, 0.59062918]])"
      ]
     },
     "execution_count": 66,
     "metadata": {},
     "output_type": "execute_result"
    }
   ],
   "source": [
    "np.random.normal(loc = 0.8, scale = 0.1, size=(6, 125))"
   ]
  },
  {
   "cell_type": "code",
   "execution_count": 56,
   "metadata": {},
   "outputs": [
    {
     "name": "stdout",
     "output_type": "stream",
     "text": [
      "(7, 7, 7)\n"
     ]
    }
   ],
   "source": [
    "tetraminos = [[[0, 0, 0], [0, 0, 1], [0, 0, 2], [0, 0, 3]],\n",
    "              [[0, 0, 0], [0, 0, 1], [0, 1, 0], [0, 1, 1]],\n",
    "              [[0, 0, 0], [0, 0, 1], [0, 1, 1], [0, 1, 2]], \n",
    "              [[0, 0, 0], [0, 0, 1], [0, 0, 2], [0, 1, 1]], \n",
    "              [[0, 0, 0], [0, 0, 1], [0, 0, 2], [0, 1, 0]],\n",
    "              [[0, 0, 0], [0, 0, 1], [0, 1, 0], [1, 0, 0]]]\n",
    "\n",
    "brick_densities = [0.25, 0.5, 0.1, 1]\n",
    "\n",
    "importlib.reload(poke)\n",
    "\n",
    "tetra_id = ['I', 'O', 'Z', 'T', 'L', 'E']\n",
    "a = 32\n",
    "volume = poke.Volume((a, a, a))\n",
    "    \n",
    "pokemino = poke.Pokemino3D(size=4, volume=volume, brick_coords=tetraminos[5], brick_densities=brick_densities, algorithm=False, scale_factor=5)\n",
    "pokemino.rotate_the_pokemino_3_axes()\n",
    "volume.fit_pokemino(pokemino)\n",
    "\n",
    "with mrcfile.new(Path(f'DS_1/{tetra_id[seed]}_{x}.mrc'), overwrite=True) as mrc:\n",
    "        mrc.set_data(volume.array)\n",
    "\n",
    "volume.display_in_napari()"
   ]
  },
  {
   "cell_type": "code",
   "execution_count": 32,
   "metadata": {},
   "outputs": [
    {
     "data": {
      "text/plain": [
       "5"
      ]
     },
     "execution_count": 32,
     "metadata": {},
     "output_type": "execute_result"
    }
   ],
   "source": [
    "a = 3\n",
    "b = 3\n",
    "x = 5 if a == b  else 6\n",
    "x"
   ]
  },
  {
   "cell_type": "markdown",
   "metadata": {},
   "source": [
    "### mrc_random.py"
   ]
  },
  {
   "cell_type": "code",
   "execution_count": null,
   "metadata": {},
   "outputs": [],
   "source": [
    "mrcfile.validate(Path('rotated_polyominos/1_0_0_0.mrc'))\n",
    "\n",
    "with mrcfile.open(Path('rotated_polyominos/5_0_0_0.mrc')) as mrc:\n",
    "    viewer = napari.view_image(mrc.data)\n",
    "\n",
    "# Displaying a 2D mrcfile\n",
    "with mrcfile.new('tmp2d.mrc', overwrite=True) as mrc:\n",
    "    mrc.set_data(np.zeros((5, 5), dtype=np.int8))\n",
    "    mrc.data[1:4,1:4] = 10\n",
    "    mrc.data[2:3,2:3] = 30\n",
    "    viewer = napari.view_image(mrc.data)\n",
    "    \n",
    "\n",
    "# Displaying a 3D mrcfile\n",
    "with mrcfile.new('tmp3d.mrc', overwrite=True) as mrc:\n",
    "    mrc.set_data(np.zeros((5, 5, 5), dtype=np.int8))\n",
    "    mrc.data[1:4,1:4,1:4] = 10\n",
    "    mrc.data[2:3,2:3,2:3] = 30\n",
    "    viewer = napari.view_image(mrc.data)"
   ]
  }
 ],
 "metadata": {
  "kernelspec": {
   "display_name": "Python 3",
   "language": "python",
   "name": "python3"
  },
  "language_info": {
   "codemirror_mode": {
    "name": "ipython",
    "version": 3
   },
   "file_extension": ".py",
   "mimetype": "text/x-python",
   "name": "python",
   "nbconvert_exporter": "python",
   "pygments_lexer": "ipython3",
   "version": "3.8.5"
  }
 },
 "nbformat": 4,
 "nbformat_minor": 4
}
